{
 "cells": [
  {
   "cell_type": "code",
   "execution_count": 1,
   "metadata": {
    "id": "i2nlysByoCXn"
   },
   "outputs": [],
   "source": [
    "# Importing the libraries\n",
    "import numpy as np\n",
    "import matplotlib.pyplot as plt\n",
    "import pandas as pd\n"
   ]
  },
  {
   "cell_type": "code",
   "execution_count": 5,
   "metadata": {},
   "outputs": [
    {
     "data": {
      "text/plain": [
       "0      0\n",
       "1      0\n",
       "2      0\n",
       "3      0\n",
       "4      0\n",
       "      ..\n",
       "395    1\n",
       "396    1\n",
       "397    1\n",
       "398    0\n",
       "399    1\n",
       "Name: Purchased, Length: 400, dtype: int64"
      ]
     },
     "execution_count": 5,
     "metadata": {},
     "output_type": "execute_result"
    }
   ],
   "source": [
    "dataset = pd.read_csv('Social_Network_Ads.csv')\n",
    "dataset.iloc[:, -1]"
   ]
  },
  {
   "cell_type": "code",
   "execution_count": 2,
   "metadata": {
    "id": "1CM9sDNCofJb"
   },
   "outputs": [],
   "source": [
    "# Importing the dataset\n",
    "dataset = pd.read_csv('Social_Network_Ads.csv')\n",
    "X = dataset.iloc[:, [2, 3]].values\n",
    "y = dataset.iloc[:, -1].values\n",
    "\n"
   ]
  },
  {
   "cell_type": "code",
   "execution_count": 3,
   "metadata": {
    "id": "_1uBMioLog1p"
   },
   "outputs": [],
   "source": [
    "# Splitting the dataset into the Training set and Test set\n",
    "from sklearn.model_selection import train_test_split\n",
    "X_train, X_test, y_train, y_test = train_test_split(X, y, test_size = 0.20, random_state = 0)\n",
    "\n"
   ]
  },
  {
   "cell_type": "code",
   "execution_count": 4,
   "metadata": {
    "id": "pB8dgwaroiHe"
   },
   "outputs": [],
   "source": [
    "# Feature Scaling\n",
    "from sklearn.preprocessing import StandardScaler\n",
    "sc = StandardScaler()\n",
    "X_train = sc.fit_transform(X_train)\n",
    "X_test = sc.transform(X_test)\n",
    "\n"
   ]
  },
  {
   "cell_type": "code",
   "execution_count": 5,
   "metadata": {
    "colab": {
     "base_uri": "https://localhost:8080/"
    },
    "id": "CwUEHVxRoj_j",
    "outputId": "8c6420f4-326f-4abe-b8c4-2217eba870c2"
   },
   "outputs": [
    {
     "data": {
      "text/html": [
       "<style>#sk-container-id-1 {color: black;}#sk-container-id-1 pre{padding: 0;}#sk-container-id-1 div.sk-toggleable {background-color: white;}#sk-container-id-1 label.sk-toggleable__label {cursor: pointer;display: block;width: 100%;margin-bottom: 0;padding: 0.3em;box-sizing: border-box;text-align: center;}#sk-container-id-1 label.sk-toggleable__label-arrow:before {content: \"▸\";float: left;margin-right: 0.25em;color: #696969;}#sk-container-id-1 label.sk-toggleable__label-arrow:hover:before {color: black;}#sk-container-id-1 div.sk-estimator:hover label.sk-toggleable__label-arrow:before {color: black;}#sk-container-id-1 div.sk-toggleable__content {max-height: 0;max-width: 0;overflow: hidden;text-align: left;background-color: #f0f8ff;}#sk-container-id-1 div.sk-toggleable__content pre {margin: 0.2em;color: black;border-radius: 0.25em;background-color: #f0f8ff;}#sk-container-id-1 input.sk-toggleable__control:checked~div.sk-toggleable__content {max-height: 200px;max-width: 100%;overflow: auto;}#sk-container-id-1 input.sk-toggleable__control:checked~label.sk-toggleable__label-arrow:before {content: \"▾\";}#sk-container-id-1 div.sk-estimator input.sk-toggleable__control:checked~label.sk-toggleable__label {background-color: #d4ebff;}#sk-container-id-1 div.sk-label input.sk-toggleable__control:checked~label.sk-toggleable__label {background-color: #d4ebff;}#sk-container-id-1 input.sk-hidden--visually {border: 0;clip: rect(1px 1px 1px 1px);clip: rect(1px, 1px, 1px, 1px);height: 1px;margin: -1px;overflow: hidden;padding: 0;position: absolute;width: 1px;}#sk-container-id-1 div.sk-estimator {font-family: monospace;background-color: #f0f8ff;border: 1px dotted black;border-radius: 0.25em;box-sizing: border-box;margin-bottom: 0.5em;}#sk-container-id-1 div.sk-estimator:hover {background-color: #d4ebff;}#sk-container-id-1 div.sk-parallel-item::after {content: \"\";width: 100%;border-bottom: 1px solid gray;flex-grow: 1;}#sk-container-id-1 div.sk-label:hover label.sk-toggleable__label {background-color: #d4ebff;}#sk-container-id-1 div.sk-serial::before {content: \"\";position: absolute;border-left: 1px solid gray;box-sizing: border-box;top: 0;bottom: 0;left: 50%;z-index: 0;}#sk-container-id-1 div.sk-serial {display: flex;flex-direction: column;align-items: center;background-color: white;padding-right: 0.2em;padding-left: 0.2em;position: relative;}#sk-container-id-1 div.sk-item {position: relative;z-index: 1;}#sk-container-id-1 div.sk-parallel {display: flex;align-items: stretch;justify-content: center;background-color: white;position: relative;}#sk-container-id-1 div.sk-item::before, #sk-container-id-1 div.sk-parallel-item::before {content: \"\";position: absolute;border-left: 1px solid gray;box-sizing: border-box;top: 0;bottom: 0;left: 50%;z-index: -1;}#sk-container-id-1 div.sk-parallel-item {display: flex;flex-direction: column;z-index: 1;position: relative;background-color: white;}#sk-container-id-1 div.sk-parallel-item:first-child::after {align-self: flex-end;width: 50%;}#sk-container-id-1 div.sk-parallel-item:last-child::after {align-self: flex-start;width: 50%;}#sk-container-id-1 div.sk-parallel-item:only-child::after {width: 0;}#sk-container-id-1 div.sk-dashed-wrapped {border: 1px dashed gray;margin: 0 0.4em 0.5em 0.4em;box-sizing: border-box;padding-bottom: 0.4em;background-color: white;}#sk-container-id-1 div.sk-label label {font-family: monospace;font-weight: bold;display: inline-block;line-height: 1.2em;}#sk-container-id-1 div.sk-label-container {text-align: center;}#sk-container-id-1 div.sk-container {/* jupyter's `normalize.less` sets `[hidden] { display: none; }` but bootstrap.min.css set `[hidden] { display: none !important; }` so we also need the `!important` here to be able to override the default hidden behavior on the sphinx rendered scikit-learn.org. See: https://github.com/scikit-learn/scikit-learn/issues/21755 */display: inline-block !important;position: relative;}#sk-container-id-1 div.sk-text-repr-fallback {display: none;}</style><div id=\"sk-container-id-1\" class=\"sk-top-container\"><div class=\"sk-text-repr-fallback\"><pre>KNeighborsClassifier()</pre><b>In a Jupyter environment, please rerun this cell to show the HTML representation or trust the notebook. <br />On GitHub, the HTML representation is unable to render, please try loading this page with nbviewer.org.</b></div><div class=\"sk-container\" hidden><div class=\"sk-item\"><div class=\"sk-estimator sk-toggleable\"><input class=\"sk-toggleable__control sk-hidden--visually\" id=\"sk-estimator-id-1\" type=\"checkbox\" checked><label for=\"sk-estimator-id-1\" class=\"sk-toggleable__label sk-toggleable__label-arrow\">KNeighborsClassifier</label><div class=\"sk-toggleable__content\"><pre>KNeighborsClassifier()</pre></div></div></div></div></div>"
      ],
      "text/plain": [
       "KNeighborsClassifier()"
      ]
     },
     "execution_count": 5,
     "metadata": {},
     "output_type": "execute_result"
    }
   ],
   "source": [
    "# Training the K-NN model on the Training set\n",
    "from sklearn.neighbors import KNeighborsClassifier\n",
    "classifier = KNeighborsClassifier(n_neighbors = 5, metric = 'minkowski', p = 2)\n",
    "classifier.fit(X_train, y_train)"
   ]
  },
  {
   "cell_type": "markdown",
   "metadata": {
    "id": "5tBUpWEKpBdR"
   },
   "source": [
    "We are using 3 parameters in the model creation. n_neighbors is setting as 5, which means 5 neighborhood points are required for classifying a given point. The distance metric we are using is Minkowski, the equation for it is given below\n",
    " \n"
   ]
  },
  {
   "cell_type": "markdown",
   "metadata": {
    "id": "6U_WFR5VpHNS"
   },
   "source": [
    "![image.png](data:image/png;base64,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)"
   ]
  },
  {
   "cell_type": "markdown",
   "metadata": {
    "id": "qsH8fhnwpH1q"
   },
   "source": [
    "As per the equation, we have to select the p-value also.\n",
    "\n",
    "p = 1 , Manhattan Distance\n",
    "\n",
    "p = 2 , Euclidean Distance\n",
    "\n",
    "p = infinity , Cheybchev Distance\n",
    "\n",
    "In our problem, we are choosing the p as 2 (also u can choose the metric as “euclidean”)\n",
    "Our Model is created, now we have to predict the output for the test set"
   ]
  },
  {
   "cell_type": "code",
   "execution_count": 6,
   "metadata": {
    "id": "JzCGBXO5ok4w"
   },
   "outputs": [],
   "source": [
    "# Predicting the Test set results\n",
    "y_pred = classifier.predict(X_test)"
   ]
  },
  {
   "cell_type": "code",
   "execution_count": 7,
   "metadata": {
    "colab": {
     "base_uri": "https://localhost:8080/"
    },
    "id": "z0ucQQEEpU8a",
    "outputId": "54dae0a9-bec0-4327-c651-f095e84f7138"
   },
   "outputs": [
    {
     "data": {
      "text/plain": [
       "array([0, 0, 0, 0, 0, 0, 0, 1, 0, 1, 0, 0, 0, 0, 0, 1, 0, 0, 1, 0, 0, 1,\n",
       "       0, 1, 0, 1, 0, 0, 0, 0, 0, 0, 1, 0, 0, 0, 0, 0, 0, 1, 0, 0, 0, 0,\n",
       "       1, 0, 0, 1, 0, 1, 1, 0, 0, 1, 1, 1, 0, 0, 1, 0, 0, 1, 0, 1, 0, 1,\n",
       "       0, 0, 0, 0, 1, 0, 0, 1, 0, 0, 0, 0, 1, 1], dtype=int64)"
      ]
     },
     "execution_count": 7,
     "metadata": {},
     "output_type": "execute_result"
    }
   ],
   "source": [
    "y_pred"
   ]
  },
  {
   "cell_type": "code",
   "execution_count": 8,
   "metadata": {
    "id": "To6eEh5qooVG"
   },
   "outputs": [],
   "source": [
    "# Making the Confusion Matrix\n",
    "from sklearn.metrics import confusion_matrix, accuracy_score\n",
    "cm = confusion_matrix(y_test, y_pred)\n",
    "ac = accuracy_score(y_test, y_pred)"
   ]
  },
  {
   "cell_type": "code",
   "execution_count": 9,
   "metadata": {
    "colab": {
     "base_uri": "https://localhost:8080/"
    },
    "id": "Q_QlqzsRoo3H",
    "outputId": "50eb4e03-80ef-4cc1-ebab-588746063218"
   },
   "outputs": [
    {
     "data": {
      "text/plain": [
       "array([[55,  3],\n",
       "       [ 1, 21]], dtype=int64)"
      ]
     },
     "execution_count": 9,
     "metadata": {},
     "output_type": "execute_result"
    }
   ],
   "source": [
    "cm"
   ]
  },
  {
   "cell_type": "code",
   "execution_count": 10,
   "metadata": {
    "colab": {
     "base_uri": "https://localhost:8080/"
    },
    "id": "VlOdG5N8orMz",
    "outputId": "aff30d87-d87c-4155-fad6-b7d6f6fbc8b1"
   },
   "outputs": [
    {
     "data": {
      "text/plain": [
       "0.95"
      ]
     },
     "execution_count": 10,
     "metadata": {},
     "output_type": "execute_result"
    }
   ],
   "source": [
    "ac"
   ]
  },
  {
   "cell_type": "code",
   "execution_count": null,
   "metadata": {
    "id": "UMuA9ylcosYi"
   },
   "outputs": [],
   "source": []
  }
 ],
 "metadata": {
  "colab": {
   "provenance": []
  },
  "kernelspec": {
   "display_name": "Python 3 (ipykernel)",
   "language": "python",
   "name": "python3"
  },
  "language_info": {
   "codemirror_mode": {
    "name": "ipython",
    "version": 3
   },
   "file_extension": ".py",
   "mimetype": "text/x-python",
   "name": "python",
   "nbconvert_exporter": "python",
   "pygments_lexer": "ipython3",
   "version": "3.11.5"
  }
 },
 "nbformat": 4,
 "nbformat_minor": 1
}
