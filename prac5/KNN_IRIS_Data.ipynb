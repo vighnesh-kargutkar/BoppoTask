{
 "cells": [
  {
   "cell_type": "code",
   "execution_count": 1,
   "metadata": {
    "id": "FnQbLr3SE8lO"
   },
   "outputs": [],
   "source": [
    "import numpy as np\n",
    "import matplotlib.pyplot as plt\n",
    "import pandas as pd"
   ]
  },
  {
   "cell_type": "code",
   "execution_count": 2,
   "metadata": {
    "id": "eQa1hR_DFBrt"
   },
   "outputs": [],
   "source": [
    "url = \"https://archive.ics.uci.edu/ml/machine-learning-databases/iris/iris.data\"\n",
    "\n",
    "# Assign colum names to the dataset\n",
    "names = ['sepal-length', 'sepal-width', 'petal-length', 'petal-width', 'Class']\n",
    "\n",
    "# Read dataset to pandas dataframe\n",
    "dataset = pd.read_csv(url, names=names)"
   ]
  },
  {
   "cell_type": "code",
   "execution_count": 3,
   "metadata": {
    "colab": {
     "base_uri": "https://localhost:8080/",
     "height": 206
    },
    "id": "HxVwnh_VFEuV",
    "outputId": "9f362192-259e-4b90-9f74-f7f68cfc419d"
   },
   "outputs": [
    {
     "data": {
      "text/html": [
       "<div>\n",
       "<style scoped>\n",
       "    .dataframe tbody tr th:only-of-type {\n",
       "        vertical-align: middle;\n",
       "    }\n",
       "\n",
       "    .dataframe tbody tr th {\n",
       "        vertical-align: top;\n",
       "    }\n",
       "\n",
       "    .dataframe thead th {\n",
       "        text-align: right;\n",
       "    }\n",
       "</style>\n",
       "<table border=\"1\" class=\"dataframe\">\n",
       "  <thead>\n",
       "    <tr style=\"text-align: right;\">\n",
       "      <th></th>\n",
       "      <th>sepal-length</th>\n",
       "      <th>sepal-width</th>\n",
       "      <th>petal-length</th>\n",
       "      <th>petal-width</th>\n",
       "      <th>Class</th>\n",
       "    </tr>\n",
       "  </thead>\n",
       "  <tbody>\n",
       "    <tr>\n",
       "      <th>0</th>\n",
       "      <td>5.1</td>\n",
       "      <td>3.5</td>\n",
       "      <td>1.4</td>\n",
       "      <td>0.2</td>\n",
       "      <td>Iris-setosa</td>\n",
       "    </tr>\n",
       "    <tr>\n",
       "      <th>1</th>\n",
       "      <td>4.9</td>\n",
       "      <td>3.0</td>\n",
       "      <td>1.4</td>\n",
       "      <td>0.2</td>\n",
       "      <td>Iris-setosa</td>\n",
       "    </tr>\n",
       "    <tr>\n",
       "      <th>2</th>\n",
       "      <td>4.7</td>\n",
       "      <td>3.2</td>\n",
       "      <td>1.3</td>\n",
       "      <td>0.2</td>\n",
       "      <td>Iris-setosa</td>\n",
       "    </tr>\n",
       "    <tr>\n",
       "      <th>3</th>\n",
       "      <td>4.6</td>\n",
       "      <td>3.1</td>\n",
       "      <td>1.5</td>\n",
       "      <td>0.2</td>\n",
       "      <td>Iris-setosa</td>\n",
       "    </tr>\n",
       "    <tr>\n",
       "      <th>4</th>\n",
       "      <td>5.0</td>\n",
       "      <td>3.6</td>\n",
       "      <td>1.4</td>\n",
       "      <td>0.2</td>\n",
       "      <td>Iris-setosa</td>\n",
       "    </tr>\n",
       "  </tbody>\n",
       "</table>\n",
       "</div>"
      ],
      "text/plain": [
       "   sepal-length  sepal-width  petal-length  petal-width        Class\n",
       "0           5.1          3.5           1.4          0.2  Iris-setosa\n",
       "1           4.9          3.0           1.4          0.2  Iris-setosa\n",
       "2           4.7          3.2           1.3          0.2  Iris-setosa\n",
       "3           4.6          3.1           1.5          0.2  Iris-setosa\n",
       "4           5.0          3.6           1.4          0.2  Iris-setosa"
      ]
     },
     "execution_count": 3,
     "metadata": {},
     "output_type": "execute_result"
    }
   ],
   "source": [
    "dataset.head()"
   ]
  },
  {
   "cell_type": "code",
   "execution_count": 4,
   "metadata": {
    "colab": {
     "base_uri": "https://localhost:8080/"
    },
    "id": "IKY66wGMFNnX",
    "outputId": "92226c85-7ae5-4f22-b190-c294e3d854ab"
   },
   "outputs": [
    {
     "name": "stdout",
     "output_type": "stream",
     "text": [
      "<class 'pandas.core.frame.DataFrame'>\n",
      "RangeIndex: 150 entries, 0 to 149\n",
      "Data columns (total 5 columns):\n",
      " #   Column        Non-Null Count  Dtype  \n",
      "---  ------        --------------  -----  \n",
      " 0   sepal-length  150 non-null    float64\n",
      " 1   sepal-width   150 non-null    float64\n",
      " 2   petal-length  150 non-null    float64\n",
      " 3   petal-width   150 non-null    float64\n",
      " 4   Class         150 non-null    object \n",
      "dtypes: float64(4), object(1)\n",
      "memory usage: 6.0+ KB\n"
     ]
    }
   ],
   "source": [
    "dataset.info()"
   ]
  },
  {
   "cell_type": "code",
   "execution_count": 5,
   "metadata": {
    "colab": {
     "base_uri": "https://localhost:8080/",
     "height": 300
    },
    "id": "lsQC09MJFQid",
    "outputId": "5d9b50b7-e345-4ae0-a55f-fe4891b7e764"
   },
   "outputs": [
    {
     "data": {
      "text/html": [
       "<div>\n",
       "<style scoped>\n",
       "    .dataframe tbody tr th:only-of-type {\n",
       "        vertical-align: middle;\n",
       "    }\n",
       "\n",
       "    .dataframe tbody tr th {\n",
       "        vertical-align: top;\n",
       "    }\n",
       "\n",
       "    .dataframe thead th {\n",
       "        text-align: right;\n",
       "    }\n",
       "</style>\n",
       "<table border=\"1\" class=\"dataframe\">\n",
       "  <thead>\n",
       "    <tr style=\"text-align: right;\">\n",
       "      <th></th>\n",
       "      <th>sepal-length</th>\n",
       "      <th>sepal-width</th>\n",
       "      <th>petal-length</th>\n",
       "      <th>petal-width</th>\n",
       "    </tr>\n",
       "  </thead>\n",
       "  <tbody>\n",
       "    <tr>\n",
       "      <th>count</th>\n",
       "      <td>150.000000</td>\n",
       "      <td>150.000000</td>\n",
       "      <td>150.000000</td>\n",
       "      <td>150.000000</td>\n",
       "    </tr>\n",
       "    <tr>\n",
       "      <th>mean</th>\n",
       "      <td>5.843333</td>\n",
       "      <td>3.054000</td>\n",
       "      <td>3.758667</td>\n",
       "      <td>1.198667</td>\n",
       "    </tr>\n",
       "    <tr>\n",
       "      <th>std</th>\n",
       "      <td>0.828066</td>\n",
       "      <td>0.433594</td>\n",
       "      <td>1.764420</td>\n",
       "      <td>0.763161</td>\n",
       "    </tr>\n",
       "    <tr>\n",
       "      <th>min</th>\n",
       "      <td>4.300000</td>\n",
       "      <td>2.000000</td>\n",
       "      <td>1.000000</td>\n",
       "      <td>0.100000</td>\n",
       "    </tr>\n",
       "    <tr>\n",
       "      <th>25%</th>\n",
       "      <td>5.100000</td>\n",
       "      <td>2.800000</td>\n",
       "      <td>1.600000</td>\n",
       "      <td>0.300000</td>\n",
       "    </tr>\n",
       "    <tr>\n",
       "      <th>50%</th>\n",
       "      <td>5.800000</td>\n",
       "      <td>3.000000</td>\n",
       "      <td>4.350000</td>\n",
       "      <td>1.300000</td>\n",
       "    </tr>\n",
       "    <tr>\n",
       "      <th>75%</th>\n",
       "      <td>6.400000</td>\n",
       "      <td>3.300000</td>\n",
       "      <td>5.100000</td>\n",
       "      <td>1.800000</td>\n",
       "    </tr>\n",
       "    <tr>\n",
       "      <th>max</th>\n",
       "      <td>7.900000</td>\n",
       "      <td>4.400000</td>\n",
       "      <td>6.900000</td>\n",
       "      <td>2.500000</td>\n",
       "    </tr>\n",
       "  </tbody>\n",
       "</table>\n",
       "</div>"
      ],
      "text/plain": [
       "       sepal-length  sepal-width  petal-length  petal-width\n",
       "count    150.000000   150.000000    150.000000   150.000000\n",
       "mean       5.843333     3.054000      3.758667     1.198667\n",
       "std        0.828066     0.433594      1.764420     0.763161\n",
       "min        4.300000     2.000000      1.000000     0.100000\n",
       "25%        5.100000     2.800000      1.600000     0.300000\n",
       "50%        5.800000     3.000000      4.350000     1.300000\n",
       "75%        6.400000     3.300000      5.100000     1.800000\n",
       "max        7.900000     4.400000      6.900000     2.500000"
      ]
     },
     "execution_count": 5,
     "metadata": {},
     "output_type": "execute_result"
    }
   ],
   "source": [
    "dataset.describe()"
   ]
  },
  {
   "cell_type": "code",
   "execution_count": 6,
   "metadata": {
    "colab": {
     "base_uri": "https://localhost:8080/"
    },
    "id": "Qw5yFrwsFUhS",
    "outputId": "2abbaa60-be18-4f58-f70a-eb44e40391ce"
   },
   "outputs": [
    {
     "data": {
      "text/plain": [
       "sepal-length    0\n",
       "sepal-width     0\n",
       "petal-length    0\n",
       "petal-width     0\n",
       "Class           0\n",
       "dtype: int64"
      ]
     },
     "execution_count": 6,
     "metadata": {},
     "output_type": "execute_result"
    }
   ],
   "source": [
    "dataset.isnull().sum()"
   ]
  },
  {
   "cell_type": "code",
   "execution_count": 7,
   "metadata": {
    "id": "gVCffhL2FH5M"
   },
   "outputs": [],
   "source": [
    "X = dataset.iloc[:, :-1].values\n",
    "y = dataset.iloc[:, 4].values"
   ]
  },
  {
   "cell_type": "markdown",
   "metadata": {
    "id": "Kh0BkFsjFdby"
   },
   "source": [
    "The X variable contains the first four columns of the dataset (i.e. attributes) while y contains the labels."
   ]
  },
  {
   "cell_type": "markdown",
   "metadata": {
    "id": "Wi2KIwfHFgSq"
   },
   "source": [
    "Train Test Split"
   ]
  },
  {
   "cell_type": "code",
   "execution_count": 8,
   "metadata": {
    "id": "V4vbP9_yFMmW"
   },
   "outputs": [],
   "source": [
    "from sklearn.model_selection import train_test_split\n",
    "\n",
    "X_train, X_test, y_train, y_test = train_test_split(X, y, test_size=0.20)"
   ]
  },
  {
   "cell_type": "markdown",
   "metadata": {
    "id": "8I0CP2pYFpWy"
   },
   "source": [
    "Feature Scaling"
   ]
  },
  {
   "cell_type": "code",
   "execution_count": 9,
   "metadata": {
    "id": "8Jf80qc5FlAM"
   },
   "outputs": [],
   "source": [
    "from sklearn.preprocessing import StandardScaler\n",
    "\n",
    "scaler = StandardScaler()\n",
    "scaler.fit(X_train)\n",
    "\n",
    "X_train = scaler.transform(X_train)\n",
    "X_test = scaler.transform(X_test)"
   ]
  },
  {
   "cell_type": "code",
   "execution_count": 10,
   "metadata": {
    "colab": {
     "base_uri": "https://localhost:8080/"
    },
    "id": "C7t37hggF1Gi",
    "outputId": "7adbef75-e204-494a-e293-e2f2ae4e04cf"
   },
   "outputs": [
    {
     "data": {
      "text/plain": [
       "array([[-0.38232379, -1.47024912,  0.01958385, -0.1296841 ],\n",
       "       [-0.87169823,  1.8231089 , -1.06946951, -1.06074943],\n",
       "       [ 0.5964251 , -0.76452954,  0.65008843,  0.80138123],\n",
       "       [ 0.5964251 , -0.29404982,  1.05131862,  0.80138123],\n",
       "       [-1.36107268,  0.41166975, -1.4133811 , -1.3267681 ],\n",
       "       [ 0.71876872, -0.52928968,  1.05131862,  1.20040923],\n",
       "       [-1.72810351,  0.41166975, -1.4133811 , -1.3267681 ],\n",
       "       [ 0.5964251 , -1.23500926,  0.70740703,  0.93439056],\n",
       "       [ 0.5964251 ,  0.64690961,  0.53545124,  0.53536257],\n",
       "       [-0.38232379, -1.70548898,  0.13422105,  0.13633457],\n",
       "       [ 0.22939427,  0.88214947,  0.42081404,  0.53536257],\n",
       "       [ 1.08579955,  0.17642989,  1.05131862,  1.59943723],\n",
       "       [-0.38232379,  2.76406834, -1.3560625 , -1.3267681 ],\n",
       "       [ 2.18689205, -0.05880996,  1.6245046 ,  1.20040923],\n",
       "       [ 0.22939427, -1.94072883,  0.70740703,  0.40235323],\n",
       "       [ 0.84111233, -0.05880996,  1.16595582,  1.33341856],\n",
       "       [-0.13763656, -0.05880996,  0.24885825,  0.00332523],\n",
       "       [ 1.33048677,  0.41166975,  1.10863722,  1.4664279 ],\n",
       "       [ 0.84111233, -0.05880996,  0.82204423,  1.0673999 ],\n",
       "       [-0.5046674 ,  2.05834876, -1.18410671, -1.06074943],\n",
       "       [ 0.22939427, -0.76452954,  0.76472563,  0.53536257],\n",
       "       [-0.25998017, -1.23500926,  0.07690245, -0.1296841 ],\n",
       "       [ 0.71876872, -0.29404982,  0.30617685,  0.13633457],\n",
       "       [ 0.47408149, -0.52928968,  0.59276984,  0.80138123],\n",
       "       [-0.87169823,  0.64690961, -1.18410671, -0.9277401 ],\n",
       "       [-0.38232379, -1.47024912, -0.03773474, -0.26269343],\n",
       "       [ 0.35173788, -0.52928968,  0.53545124,  0.00332523],\n",
       "       [ 0.96345594, -0.05880996,  0.36349544,  0.2693439 ],\n",
       "       [-1.48341629,  1.35262919, -1.58533689, -1.3267681 ],\n",
       "       [-0.01529295, -0.76452954,  0.07690245,  0.00332523],\n",
       "       [ 0.71876872, -0.52928968,  1.05131862,  1.33341856],\n",
       "       [-0.99404184, -1.70548898, -0.26700914, -0.26269343],\n",
       "       [ 0.5964251 , -0.52928968,  0.76472563,  0.40235323],\n",
       "       [-0.5046674 ,  0.88214947, -1.2987439 , -1.06074943],\n",
       "       [-0.01529295, -0.52928968,  0.76472563,  1.59943723],\n",
       "       [ 1.08579955,  0.64690961,  1.10863722,  1.20040923],\n",
       "       [-0.99404184, -2.41120855, -0.15237194, -0.26269343],\n",
       "       [ 1.08579955,  0.64690961,  1.10863722,  1.73244656],\n",
       "       [-1.23872906, -0.05880996, -1.3560625 , -1.19375876],\n",
       "       [-0.13763656,  1.8231089 , -1.18410671, -1.19375876],\n",
       "       [ 1.20814316,  0.41166975,  1.22327442,  1.4664279 ],\n",
       "       [ 1.08579955,  0.17642989,  0.53545124,  0.40235323],\n",
       "       [-1.48341629,  0.41166975, -1.3560625 , -1.3267681 ],\n",
       "       [-1.23872906,  0.88214947, -1.06946951, -1.3267681 ],\n",
       "       [-1.11638545,  0.17642989, -1.2987439 , -1.45977743],\n",
       "       [ 0.10705066, -0.05880996,  0.24885825,  0.40235323],\n",
       "       [ 0.5964251 ,  0.88214947,  1.05131862,  1.59943723],\n",
       "       [ 0.35173788, -0.05880996,  0.47813264,  0.2693439 ],\n",
       "       [-0.99404184,  1.11738933, -1.2414253 , -0.79473076],\n",
       "       [-1.11638545,  0.17642989, -1.2987439 , -1.45977743],\n",
       "       [-0.13763656, -1.23500926,  0.70740703,  1.0673999 ],\n",
       "       [-0.01529295,  2.29358862, -1.4706997 , -1.3267681 ],\n",
       "       [-0.99404184,  0.41166975, -1.4706997 , -1.3267681 ],\n",
       "       [ 0.35173788, -0.29404982,  0.53545124,  0.2693439 ],\n",
       "       [ 2.30923566, -0.9997694 ,  1.7964604 ,  1.4664279 ],\n",
       "       [-0.01529295, -0.9997694 ,  0.13422105,  0.00332523],\n",
       "       [ 1.20814316, -0.52928968,  0.59276984,  0.2693439 ],\n",
       "       [-0.87169823,  1.58786905, -1.2987439 , -1.06074943],\n",
       "       [ 1.69751761,  1.35262919,  1.33791161,  1.73244656],\n",
       "       [-0.38232379, -1.23500926,  0.13422105,  0.13633457],\n",
       "       [ 0.10705066,  0.41166975,  0.59276984,  0.80138123],\n",
       "       [ 1.69751761, -0.05880996,  1.16595582,  0.53536257],\n",
       "       [-0.5046674 , -0.05880996,  0.42081404,  0.40235323],\n",
       "       [-0.13763656, -0.52928968,  0.19153965,  0.13633457],\n",
       "       [-0.99404184,  1.35262919, -1.3560625 , -1.3267681 ],\n",
       "       [ 1.45283038,  0.41166975,  0.53545124,  0.2693439 ],\n",
       "       [-0.25998017, -0.76452954,  0.24885825,  0.13633457],\n",
       "       [-0.5046674 ,  2.05834876, -1.4133811 , -1.06074943],\n",
       "       [-0.99404184,  1.11738933, -1.4133811 , -1.19375876],\n",
       "       [-1.11638545, -0.05880996, -1.3560625 , -1.3267681 ],\n",
       "       [-0.38232379,  1.11738933, -1.4133811 , -1.3267681 ],\n",
       "       [-1.6057599 , -1.70548898, -1.4133811 , -1.19375876],\n",
       "       [ 1.57517399, -0.05880996,  1.22327442,  1.20040923],\n",
       "       [-0.99404184,  0.88214947, -1.2987439 , -1.3267681 ],\n",
       "       [ 0.71876872,  0.41166975,  0.87936283,  1.4664279 ],\n",
       "       [-0.74935462,  0.88214947, -1.3560625 , -1.3267681 ],\n",
       "       [-1.11638545, -1.23500926,  0.42081404,  0.6683719 ],\n",
       "       [-0.13763656, -0.52928968,  0.42081404,  0.13633457],\n",
       "       [ 2.30923566, -0.52928968,  1.6818232 ,  1.0673999 ],\n",
       "       [ 1.20814316, -0.05880996,  0.99400002,  1.20040923],\n",
       "       [ 0.22939427, -1.94072883,  0.13422105, -0.26269343],\n",
       "       [-1.11638545,  0.17642989, -1.2987439 , -1.45977743],\n",
       "       [ 2.55392288,  1.8231089 ,  1.50986741,  1.0673999 ],\n",
       "       [-0.74935462,  2.52882848, -1.2987439 , -1.45977743],\n",
       "       [ 1.08579955, -0.05880996,  0.70740703,  0.6683719 ],\n",
       "       [-1.23872906,  0.17642989, -1.2414253 , -1.3267681 ],\n",
       "       [ 0.35173788, -0.9997694 ,  1.05131862,  0.2693439 ],\n",
       "       [-0.74935462, -0.76452954,  0.07690245,  0.2693439 ],\n",
       "       [-0.25998017, -0.52928968,  0.65008843,  1.0673999 ],\n",
       "       [ 0.84111233, -0.52928968,  0.47813264,  0.40235323],\n",
       "       [-1.23872906, -0.05880996, -1.3560625 , -1.45977743],\n",
       "       [ 0.35173788, -0.05880996,  0.65008843,  0.80138123],\n",
       "       [-1.72810351, -0.05880996, -1.4133811 , -1.3267681 ],\n",
       "       [-1.11638545, -1.47024912, -0.26700914, -0.26269343],\n",
       "       [-0.87169823, -1.23500926, -0.43896493, -0.1296841 ],\n",
       "       [ 0.5964251 , -1.70548898,  0.36349544,  0.13633457],\n",
       "       [ 0.71876872,  0.17642989,  0.99400002,  0.80138123],\n",
       "       [-0.13763656, -0.9997694 , -0.15237194, -0.26269343],\n",
       "       [ 0.71876872,  0.41166975,  0.42081404,  0.40235323],\n",
       "       [ 0.10705066, -0.05880996,  0.76472563,  0.80138123],\n",
       "       [ 0.71876872, -0.76452954,  0.87936283,  0.93439056],\n",
       "       [-1.85044712, -0.05880996, -1.5280183 , -1.45977743],\n",
       "       [ 0.84111233,  0.41166975,  0.76472563,  1.0673999 ],\n",
       "       [-0.13763656, -0.29404982,  0.24885825,  0.13633457],\n",
       "       [ 0.47408149,  0.88214947,  0.93668142,  1.4664279 ],\n",
       "       [ 1.81986122, -0.29404982,  1.45254881,  0.80138123],\n",
       "       [-0.01529295, -0.76452954,  0.76472563,  0.93439056],\n",
       "       [-1.48341629,  0.17642989, -1.2987439 , -1.3267681 ],\n",
       "       [-0.87169823,  0.88214947, -1.2987439 , -1.3267681 ],\n",
       "       [ 1.33048677,  0.17642989,  0.65008843,  0.40235323],\n",
       "       [-0.01529295, -0.76452954,  0.19153965, -0.26269343],\n",
       "       [ 0.5964251 , -1.23500926,  0.65008843,  0.40235323],\n",
       "       [-1.72810351, -0.29404982, -1.3560625 , -1.3267681 ],\n",
       "       [-0.01529295, -0.76452954,  0.76472563,  0.93439056],\n",
       "       [-0.5046674 ,  1.58786905, -1.2987439 , -1.3267681 ],\n",
       "       [-0.5046674 ,  0.88214947, -1.18410671, -1.3267681 ],\n",
       "       [ 1.69751761,  0.41166975,  1.28059301,  0.80138123],\n",
       "       [ 0.47408149, -0.29404982,  0.30617685,  0.13633457],\n",
       "       [-1.48341629,  0.88214947, -1.3560625 , -1.19375876],\n",
       "       [-1.23872906,  0.88214947, -1.2414253 , -1.3267681 ]])"
      ]
     },
     "execution_count": 10,
     "metadata": {},
     "output_type": "execute_result"
    }
   ],
   "source": [
    "X_train"
   ]
  },
  {
   "cell_type": "code",
   "execution_count": 11,
   "metadata": {
    "colab": {
     "base_uri": "https://localhost:8080/"
    },
    "id": "L6pPJArzF3lR",
    "outputId": "7956fb67-7811-48ef-ae87-2cd172f09448"
   },
   "outputs": [
    {
     "data": {
      "text/plain": [
       "array([[-0.25998017, -0.29404982, -0.09505334,  0.13633457],\n",
       "       [-0.25998017, -0.05880996,  0.42081404,  0.40235323],\n",
       "       [-0.25998017, -0.05880996,  0.19153965,  0.13633457],\n",
       "       [-0.13763656,  3.23454806, -1.2987439 , -1.06074943],\n",
       "       [ 2.30923566,  1.8231089 ,  1.6818232 ,  1.33341856],\n",
       "       [ 1.08579955,  0.17642989,  0.36349544,  0.2693439 ],\n",
       "       [-0.99404184,  0.64690961, -1.3560625 , -1.3267681 ],\n",
       "       [-0.87169823,  1.11738933, -1.3560625 , -1.19375876],\n",
       "       [-0.87169823,  1.11738933, -1.3560625 , -1.3267681 ],\n",
       "       [-0.38232379, -0.9997694 ,  0.36349544,  0.00332523],\n",
       "       [ 0.35173788, -0.52928968,  0.13422105,  0.13633457],\n",
       "       [ 1.08579955, -1.23500926,  1.16595582,  0.80138123],\n",
       "       [-0.99404184, -0.05880996, -1.2414253 , -1.3267681 ],\n",
       "       [ 0.96345594, -0.29404982,  0.47813264,  0.13633457],\n",
       "       [ 0.5964251 ,  0.64690961,  1.28059301,  1.73244656],\n",
       "       [-1.36107268,  0.41166975, -1.2414253 , -1.3267681 ],\n",
       "       [-0.99404184,  0.88214947, -1.2414253 , -1.06074943],\n",
       "       [ 1.33048677,  0.17642989,  0.93668142,  1.20040923],\n",
       "       [ 1.94220483, -0.52928968,  1.33791161,  0.93439056],\n",
       "       [ 1.08579955, -0.05880996,  0.82204423,  1.4664279 ],\n",
       "       [-0.62701101,  1.58786905, -1.2987439 , -1.3267681 ],\n",
       "       [-0.74935462,  1.11738933, -1.2987439 , -1.3267681 ],\n",
       "       [ 0.47408149, -1.94072883,  0.42081404,  0.40235323],\n",
       "       [-0.87169823,  1.8231089 , -1.2414253 , -1.3267681 ],\n",
       "       [ 0.84111233, -0.05880996,  0.99400002,  0.80138123],\n",
       "       [ 1.33048677,  0.17642989,  0.76472563,  1.4664279 ],\n",
       "       [ 0.22939427, -0.05880996,  0.59276984,  0.80138123],\n",
       "       [ 2.30923566, -0.05880996,  1.33791161,  1.4664279 ],\n",
       "       [ 0.22939427, -0.29404982,  0.42081404,  0.40235323],\n",
       "       [-0.87169823,  1.8231089 , -1.2987439 , -1.19375876]])"
      ]
     },
     "execution_count": 11,
     "metadata": {},
     "output_type": "execute_result"
    }
   ],
   "source": [
    "X_test"
   ]
  },
  {
   "cell_type": "markdown",
   "metadata": {
    "id": "WzKqfHn4GL47"
   },
   "source": [
    "Training and Predictions"
   ]
  },
  {
   "cell_type": "code",
   "execution_count": 12,
   "metadata": {
    "colab": {
     "base_uri": "https://localhost:8080/"
    },
    "id": "8d5VsWZJF5Js",
    "outputId": "2739fceb-0332-4d57-a341-4ac44742462a"
   },
   "outputs": [
    {
     "data": {
      "text/html": [
       "<style>#sk-container-id-1 {color: black;}#sk-container-id-1 pre{padding: 0;}#sk-container-id-1 div.sk-toggleable {background-color: white;}#sk-container-id-1 label.sk-toggleable__label {cursor: pointer;display: block;width: 100%;margin-bottom: 0;padding: 0.3em;box-sizing: border-box;text-align: center;}#sk-container-id-1 label.sk-toggleable__label-arrow:before {content: \"▸\";float: left;margin-right: 0.25em;color: #696969;}#sk-container-id-1 label.sk-toggleable__label-arrow:hover:before {color: black;}#sk-container-id-1 div.sk-estimator:hover label.sk-toggleable__label-arrow:before {color: black;}#sk-container-id-1 div.sk-toggleable__content {max-height: 0;max-width: 0;overflow: hidden;text-align: left;background-color: #f0f8ff;}#sk-container-id-1 div.sk-toggleable__content pre {margin: 0.2em;color: black;border-radius: 0.25em;background-color: #f0f8ff;}#sk-container-id-1 input.sk-toggleable__control:checked~div.sk-toggleable__content {max-height: 200px;max-width: 100%;overflow: auto;}#sk-container-id-1 input.sk-toggleable__control:checked~label.sk-toggleable__label-arrow:before {content: \"▾\";}#sk-container-id-1 div.sk-estimator input.sk-toggleable__control:checked~label.sk-toggleable__label {background-color: #d4ebff;}#sk-container-id-1 div.sk-label input.sk-toggleable__control:checked~label.sk-toggleable__label {background-color: #d4ebff;}#sk-container-id-1 input.sk-hidden--visually {border: 0;clip: rect(1px 1px 1px 1px);clip: rect(1px, 1px, 1px, 1px);height: 1px;margin: -1px;overflow: hidden;padding: 0;position: absolute;width: 1px;}#sk-container-id-1 div.sk-estimator {font-family: monospace;background-color: #f0f8ff;border: 1px dotted black;border-radius: 0.25em;box-sizing: border-box;margin-bottom: 0.5em;}#sk-container-id-1 div.sk-estimator:hover {background-color: #d4ebff;}#sk-container-id-1 div.sk-parallel-item::after {content: \"\";width: 100%;border-bottom: 1px solid gray;flex-grow: 1;}#sk-container-id-1 div.sk-label:hover label.sk-toggleable__label {background-color: #d4ebff;}#sk-container-id-1 div.sk-serial::before {content: \"\";position: absolute;border-left: 1px solid gray;box-sizing: border-box;top: 0;bottom: 0;left: 50%;z-index: 0;}#sk-container-id-1 div.sk-serial {display: flex;flex-direction: column;align-items: center;background-color: white;padding-right: 0.2em;padding-left: 0.2em;position: relative;}#sk-container-id-1 div.sk-item {position: relative;z-index: 1;}#sk-container-id-1 div.sk-parallel {display: flex;align-items: stretch;justify-content: center;background-color: white;position: relative;}#sk-container-id-1 div.sk-item::before, #sk-container-id-1 div.sk-parallel-item::before {content: \"\";position: absolute;border-left: 1px solid gray;box-sizing: border-box;top: 0;bottom: 0;left: 50%;z-index: -1;}#sk-container-id-1 div.sk-parallel-item {display: flex;flex-direction: column;z-index: 1;position: relative;background-color: white;}#sk-container-id-1 div.sk-parallel-item:first-child::after {align-self: flex-end;width: 50%;}#sk-container-id-1 div.sk-parallel-item:last-child::after {align-self: flex-start;width: 50%;}#sk-container-id-1 div.sk-parallel-item:only-child::after {width: 0;}#sk-container-id-1 div.sk-dashed-wrapped {border: 1px dashed gray;margin: 0 0.4em 0.5em 0.4em;box-sizing: border-box;padding-bottom: 0.4em;background-color: white;}#sk-container-id-1 div.sk-label label {font-family: monospace;font-weight: bold;display: inline-block;line-height: 1.2em;}#sk-container-id-1 div.sk-label-container {text-align: center;}#sk-container-id-1 div.sk-container {/* jupyter's `normalize.less` sets `[hidden] { display: none; }` but bootstrap.min.css set `[hidden] { display: none !important; }` so we also need the `!important` here to be able to override the default hidden behavior on the sphinx rendered scikit-learn.org. See: https://github.com/scikit-learn/scikit-learn/issues/21755 */display: inline-block !important;position: relative;}#sk-container-id-1 div.sk-text-repr-fallback {display: none;}</style><div id=\"sk-container-id-1\" class=\"sk-top-container\"><div class=\"sk-text-repr-fallback\"><pre>KNeighborsClassifier()</pre><b>In a Jupyter environment, please rerun this cell to show the HTML representation or trust the notebook. <br />On GitHub, the HTML representation is unable to render, please try loading this page with nbviewer.org.</b></div><div class=\"sk-container\" hidden><div class=\"sk-item\"><div class=\"sk-estimator sk-toggleable\"><input class=\"sk-toggleable__control sk-hidden--visually\" id=\"sk-estimator-id-1\" type=\"checkbox\" checked><label for=\"sk-estimator-id-1\" class=\"sk-toggleable__label sk-toggleable__label-arrow\">KNeighborsClassifier</label><div class=\"sk-toggleable__content\"><pre>KNeighborsClassifier()</pre></div></div></div></div></div>"
      ],
      "text/plain": [
       "KNeighborsClassifier()"
      ]
     },
     "execution_count": 12,
     "metadata": {},
     "output_type": "execute_result"
    }
   ],
   "source": [
    "from sklearn.neighbors import KNeighborsClassifier\n",
    "\n",
    "classifier = KNeighborsClassifier(n_neighbors=5)\n",
    "classifier.fit(X_train, y_train)"
   ]
  },
  {
   "cell_type": "markdown",
   "metadata": {
    "id": "jSnXCEYHGF_C"
   },
   "source": [
    "The first step is to import the KNeighborsClassifier class from the sklearn.neighbors library.\n",
    "\n",
    "In the second line, this class is initialized with one parameter, i.e. n_neigbours. \n",
    "\n",
    "This is basically the value for the K. \n",
    "\n",
    "There is no ideal value for K and it is selected after testing and evaluation, however to start out, 5 seems to be the most commonly used value for KNN algorithm."
   ]
  },
  {
   "cell_type": "markdown",
   "metadata": {
    "id": "0UDiuVV3GPPj"
   },
   "source": [
    "The final step is to make predictions on our test data."
   ]
  },
  {
   "cell_type": "code",
   "execution_count": 13,
   "metadata": {
    "id": "TrfWwZR1F70H"
   },
   "outputs": [],
   "source": [
    "y_pred = classifier.predict(X_test)"
   ]
  },
  {
   "cell_type": "code",
   "execution_count": 14,
   "metadata": {
    "colab": {
     "base_uri": "https://localhost:8080/"
    },
    "id": "KBzRftaNGQ8l",
    "outputId": "57d8311c-5847-441b-8383-d048920c834b"
   },
   "outputs": [
    {
     "data": {
      "text/plain": [
       "array(['Iris-versicolor', 'Iris-versicolor', 'Iris-versicolor',\n",
       "       'Iris-setosa', 'Iris-virginica', 'Iris-versicolor', 'Iris-setosa',\n",
       "       'Iris-setosa', 'Iris-setosa', 'Iris-versicolor', 'Iris-versicolor',\n",
       "       'Iris-virginica', 'Iris-setosa', 'Iris-versicolor',\n",
       "       'Iris-virginica', 'Iris-setosa', 'Iris-setosa', 'Iris-virginica',\n",
       "       'Iris-virginica', 'Iris-virginica', 'Iris-setosa', 'Iris-setosa',\n",
       "       'Iris-versicolor', 'Iris-setosa', 'Iris-virginica',\n",
       "       'Iris-virginica', 'Iris-virginica', 'Iris-virginica',\n",
       "       'Iris-versicolor', 'Iris-setosa'], dtype=object)"
      ]
     },
     "execution_count": 14,
     "metadata": {},
     "output_type": "execute_result"
    }
   ],
   "source": [
    "y_pred"
   ]
  },
  {
   "cell_type": "markdown",
   "metadata": {
    "id": "tSyloN0iGVvi"
   },
   "source": [
    "Evaluating the Algorithm"
   ]
  },
  {
   "cell_type": "code",
   "execution_count": 15,
   "metadata": {
    "colab": {
     "base_uri": "https://localhost:8080/"
    },
    "id": "f0U4ZjdZGVki",
    "outputId": "7d6b8a78-0b78-4b14-8693-dda986cbbf4f"
   },
   "outputs": [
    {
     "name": "stdout",
     "output_type": "stream",
     "text": [
      "[[11  0  0]\n",
      " [ 0  9  0]\n",
      " [ 0  0 10]]\n",
      "\n",
      "*****************************************************************\n",
      "\n",
      "                 precision    recall  f1-score   support\n",
      "\n",
      "    Iris-setosa       1.00      1.00      1.00        11\n",
      "Iris-versicolor       1.00      1.00      1.00         9\n",
      " Iris-virginica       1.00      1.00      1.00        10\n",
      "\n",
      "       accuracy                           1.00        30\n",
      "      macro avg       1.00      1.00      1.00        30\n",
      "   weighted avg       1.00      1.00      1.00        30\n",
      "\n"
     ]
    }
   ],
   "source": [
    "from sklearn.metrics import classification_report, confusion_matrix\n",
    "\n",
    "print(confusion_matrix(y_test, y_pred))\n",
    "print()\n",
    "print(\"*****************************************************************\")\n",
    "print()\n",
    "print(classification_report(y_test, y_pred))"
   ]
  },
  {
   "cell_type": "markdown",
   "metadata": {
    "id": "gfBARcujGu1C"
   },
   "source": [
    "##Comparing Error Rate with the K Value"
   ]
  },
  {
   "cell_type": "code",
   "execution_count": 16,
   "metadata": {
    "id": "9kH8hH_DGTA4"
   },
   "outputs": [],
   "source": [
    "error = []\n",
    "\n",
    "# Calculating error for K values between 1 and 40\n",
    "for i in range(1, 40):\n",
    "    knn = KNeighborsClassifier(n_neighbors=i)\n",
    "    knn.fit(X_train, y_train)\n",
    "    pred_i = knn.predict(X_test)\n",
    "    error.append(np.mean(pred_i != y_test))"
   ]
  },
  {
   "cell_type": "markdown",
   "metadata": {
    "id": "eHNuwFRzHHGY"
   },
   "source": [
    "we will plot the mean error for the predicted values of test set for all the K values between 1 and 40."
   ]
  },
  {
   "cell_type": "markdown",
   "metadata": {
    "id": "Ct98MKs8HLrU"
   },
   "source": [
    "The above script executes a loop from 1 to 40. In each iteration the mean error for predicted values of test set is calculated and the result is appended to the error list."
   ]
  },
  {
   "cell_type": "markdown",
   "metadata": {
    "id": "iXCk5l9NHOQ1"
   },
   "source": [
    "The next step is to plot the error values against K values. Execute the following script to create the plot:"
   ]
  },
  {
   "cell_type": "code",
   "execution_count": 18,
   "metadata": {
    "colab": {
     "base_uri": "https://localhost:8080/",
     "height": 422
    },
    "id": "cAiZZ4lQHHxw",
    "outputId": "ae32eb83-b6e7-4fac-f842-6c1af7857f68"
   },
   "outputs": [
    {
     "data": {
      "text/plain": [
       "Text(0, 0.5, 'Mean Error')"
      ]
     },
     "execution_count": 18,
     "metadata": {},
     "output_type": "execute_result"
    },
    {
     "data": {
      "image/png": "[encoded data removed]",
      "text/plain": [
       "<Figure size 1200x600 with 1 Axes>"
      ]
     },
     "metadata": {},
     "output_type": "display_data"
    }
   ],
   "source": [
    "plt.figure(figsize=(12, 6))\n",
    "plt.plot(range(1, 40), error, color='red', linestyle='dashed', marker='o',\n",
    "         markerfacecolor='blue', markersize=10)\n",
    "plt.title('Error Rate K Value')\n",
    "plt.xlabel('K Value')\n",
    "plt.ylabel('Mean Error')"
   ]
  },
  {
   "cell_type": "code",
   "execution_count": null,
   "metadata": {},
   "outputs": [],
   "source": []
  }
 ],
 "metadata": {
  "colab": {
   "name": "KNN_IRIS_Data.ipynb",
   "provenance": []
  },
  "kernelspec": {
   "display_name": "Python 3 (ipykernel)",
   "language": "python",
   "name": "python3"
  },
  "language_info": {
   "codemirror_mode": {
    "name": "ipython",
    "version": 3
   },
   "file_extension": ".py",
   "mimetype": "text/x-python",
   "name": "python",
   "nbconvert_exporter": "python",
   "pygments_lexer": "ipython3",
   "version": "3.11.5"
  }
 },
 "nbformat": 4,
 "nbformat_minor": 1
}
