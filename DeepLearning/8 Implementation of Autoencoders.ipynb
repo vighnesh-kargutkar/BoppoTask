{
 "cells": [
  {
   "cell_type": "code",
   "execution_count": 1,
   "id": "601909e3-e5c4-4158-9fbf-04477651e1af",
   "metadata": {},
   "outputs": [
    {
     "name": "stdout",
     "output_type": "stream",
     "text": [
      "WARNING:tensorflow:From C:\\Users\\kargu\\AppData\\Local\\Programs\\Python\\Python310\\lib\\site-packages\\keras\\src\\losses.py:2976: The name tf.losses.sparse_softmax_cross_entropy is deprecated. Please use tf.compat.v1.losses.sparse_softmax_cross_entropy instead.\n",
      "\n"
     ]
    }
   ],
   "source": [
    "import keras\n",
    "from keras import layers"
   ]
  },
  {
   "cell_type": "code",
   "execution_count": 2,
   "id": "29e555d8-ba51-4928-b382-6ebbec64e2e6",
   "metadata": {},
   "outputs": [
    {
     "name": "stdout",
     "output_type": "stream",
     "text": [
      "WARNING:tensorflow:From C:\\Users\\kargu\\AppData\\Local\\Programs\\Python\\Python310\\lib\\site-packages\\keras\\src\\backend.py:1398: The name tf.executing_eagerly_outside_functions is deprecated. Please use tf.compat.v1.executing_eagerly_outside_functions instead.\n",
      "\n"
     ]
    }
   ],
   "source": [
    "encoding_dim = 32  \n",
    "input_img = keras.Input(shape=(784,))\n",
    "encoded = layers.Dense(encoding_dim, activation='relu')(input_img)\n",
    "decoded = layers.Dense(784, activation='sigmoid')(encoded)\n",
    "autoencoder = keras.Model(input_img, decoded)\n",
    "encoder = keras.Model(input_img, encoded)"
   ]
  },
  {
   "cell_type": "code",
   "execution_count": 3,
   "id": "c5a166ce-04fa-40fb-9953-f181154e6818",
   "metadata": {},
   "outputs": [
    {
     "name": "stdout",
     "output_type": "stream",
     "text": [
      "WARNING:tensorflow:From C:\\Users\\kargu\\AppData\\Local\\Programs\\Python\\Python310\\lib\\site-packages\\keras\\src\\optimizers\\__init__.py:309: The name tf.train.Optimizer is deprecated. Please use tf.compat.v1.train.Optimizer instead.\n",
      "\n"
     ]
    }
   ],
   "source": [
    "encoded_input = keras.Input(shape=(encoding_dim,))\n",
    "decoder_layer = autoencoder.layers[-1]\n",
    "decoder = keras.Model(encoded_input, decoder_layer(encoded_input))\n",
    "autoencoder.compile(optimizer='adam', loss='binary_crossentropy')"
   ]
  },
  {
   "cell_type": "code",
   "execution_count": 4,
   "id": "6a3e3eb4-44f8-4cc5-95b2-273d3e14b2c8",
   "metadata": {},
   "outputs": [
    {
     "name": "stdout",
     "output_type": "stream",
     "text": [
      "Downloading data from https://storage.googleapis.com/tensorflow/tf-keras-datasets/mnist.npz\n",
      "11490434/11490434 [==============================] - 2s 0us/step\n"
     ]
    }
   ],
   "source": [
    "from keras.datasets import mnist\n",
    "import numpy as np\n",
    "(x_train, _), (x_test, _) = mnist.load_data()"
   ]
  },
  {
   "cell_type": "code",
   "execution_count": 5,
   "id": "3cbad68a-7aa7-492b-9995-1497e29a4acb",
   "metadata": {},
   "outputs": [],
   "source": [
    "x_train = x_train.astype('float32') / 255.\n",
    "x_test = x_test.astype('float32') / 255.\n",
    "x_train = x_train.reshape((len(x_train), np.prod(x_train.shape[1:])))\n",
    "x_test = x_test.reshape((len(x_test), np.prod(x_test.shape[1:])))"
   ]
  },
  {
   "cell_type": "code",
   "execution_count": 6,
   "id": "703a416e-f4ed-48ae-a6fd-4c4d1eef4182",
   "metadata": {
    "scrolled": true
   },
   "outputs": [
    {
     "name": "stdout",
     "output_type": "stream",
     "text": [
      "Epoch 1/50\n",
      "WARNING:tensorflow:From C:\\Users\\kargu\\AppData\\Local\\Programs\\Python\\Python310\\lib\\site-packages\\keras\\src\\utils\\tf_utils.py:492: The name tf.ragged.RaggedTensorValue is deprecated. Please use tf.compat.v1.ragged.RaggedTensorValue instead.\n",
      "\n",
      "235/235 [==============================] - 1s 4ms/step - loss: 0.2791 - val_loss: 0.1895\n",
      "Epoch 2/50\n",
      "235/235 [==============================] - 1s 4ms/step - loss: 0.1685 - val_loss: 0.1524\n",
      "Epoch 3/50\n",
      "235/235 [==============================] - 1s 3ms/step - loss: 0.1443 - val_loss: 0.1341\n",
      "Epoch 4/50\n",
      "235/235 [==============================] - 1s 3ms/step - loss: 0.1290 - val_loss: 0.1216\n",
      "Epoch 5/50\n",
      "235/235 [==============================] - 1s 3ms/step - loss: 0.1184 - val_loss: 0.1128\n",
      "Epoch 6/50\n",
      "235/235 [==============================] - 1s 4ms/step - loss: 0.1108 - val_loss: 0.1065\n",
      "Epoch 7/50\n",
      "235/235 [==============================] - 1s 3ms/step - loss: 0.1056 - val_loss: 0.1022\n",
      "Epoch 8/50\n",
      "235/235 [==============================] - 1s 4ms/step - loss: 0.1018 - val_loss: 0.0990\n",
      "Epoch 9/50\n",
      "235/235 [==============================] - 1s 4ms/step - loss: 0.0992 - val_loss: 0.0969\n",
      "Epoch 10/50\n",
      "235/235 [==============================] - 1s 4ms/step - loss: 0.0974 - val_loss: 0.0955\n",
      "Epoch 11/50\n",
      "235/235 [==============================] - 1s 4ms/step - loss: 0.0963 - val_loss: 0.0946\n",
      "Epoch 12/50\n",
      "235/235 [==============================] - 1s 3ms/step - loss: 0.0955 - val_loss: 0.0939\n",
      "Epoch 13/50\n",
      "235/235 [==============================] - 1s 4ms/step - loss: 0.0950 - val_loss: 0.0935\n",
      "Epoch 14/50\n",
      "235/235 [==============================] - 1s 4ms/step - loss: 0.0946 - val_loss: 0.0932\n",
      "Epoch 15/50\n",
      "235/235 [==============================] - 1s 3ms/step - loss: 0.0943 - val_loss: 0.0930\n",
      "Epoch 16/50\n",
      "235/235 [==============================] - 1s 3ms/step - loss: 0.0941 - val_loss: 0.0928\n",
      "Epoch 17/50\n",
      "235/235 [==============================] - 1s 4ms/step - loss: 0.0939 - val_loss: 0.0926\n",
      "Epoch 18/50\n",
      "235/235 [==============================] - 1s 4ms/step - loss: 0.0938 - val_loss: 0.0926\n",
      "Epoch 19/50\n",
      "235/235 [==============================] - 1s 4ms/step - loss: 0.0937 - val_loss: 0.0924\n",
      "Epoch 20/50\n",
      "235/235 [==============================] - 1s 3ms/step - loss: 0.0936 - val_loss: 0.0924\n",
      "Epoch 21/50\n",
      "235/235 [==============================] - 1s 4ms/step - loss: 0.0935 - val_loss: 0.0923\n",
      "Epoch 22/50\n",
      "235/235 [==============================] - 1s 4ms/step - loss: 0.0934 - val_loss: 0.0922\n",
      "Epoch 23/50\n",
      "235/235 [==============================] - 1s 4ms/step - loss: 0.0933 - val_loss: 0.0921\n",
      "Epoch 24/50\n",
      "235/235 [==============================] - 1s 3ms/step - loss: 0.0933 - val_loss: 0.0921\n",
      "Epoch 25/50\n",
      "235/235 [==============================] - 1s 4ms/step - loss: 0.0932 - val_loss: 0.0921\n",
      "Epoch 26/50\n",
      "235/235 [==============================] - 1s 4ms/step - loss: 0.0932 - val_loss: 0.0921\n",
      "Epoch 27/50\n",
      "235/235 [==============================] - 1s 4ms/step - loss: 0.0932 - val_loss: 0.0921\n",
      "Epoch 28/50\n",
      "235/235 [==============================] - 1s 4ms/step - loss: 0.0931 - val_loss: 0.0921\n",
      "Epoch 29/50\n",
      "235/235 [==============================] - 1s 3ms/step - loss: 0.0931 - val_loss: 0.0920\n",
      "Epoch 30/50\n",
      "235/235 [==============================] - 1s 4ms/step - loss: 0.0931 - val_loss: 0.0920\n",
      "Epoch 31/50\n",
      "235/235 [==============================] - 1s 3ms/step - loss: 0.0931 - val_loss: 0.0921\n",
      "Epoch 32/50\n",
      "235/235 [==============================] - 1s 3ms/step - loss: 0.0930 - val_loss: 0.0919\n",
      "Epoch 33/50\n",
      "235/235 [==============================] - 1s 4ms/step - loss: 0.0930 - val_loss: 0.0919\n",
      "Epoch 34/50\n",
      "235/235 [==============================] - 1s 4ms/step - loss: 0.0930 - val_loss: 0.0920\n",
      "Epoch 35/50\n",
      "235/235 [==============================] - 1s 3ms/step - loss: 0.0929 - val_loss: 0.0918\n",
      "Epoch 36/50\n",
      "235/235 [==============================] - 1s 3ms/step - loss: 0.0929 - val_loss: 0.0918\n",
      "Epoch 37/50\n",
      "235/235 [==============================] - 1s 3ms/step - loss: 0.0929 - val_loss: 0.0918\n",
      "Epoch 38/50\n",
      "235/235 [==============================] - 1s 3ms/step - loss: 0.0929 - val_loss: 0.0918\n",
      "Epoch 39/50\n",
      "235/235 [==============================] - 1s 3ms/step - loss: 0.0929 - val_loss: 0.0917\n",
      "Epoch 40/50\n",
      "235/235 [==============================] - 1s 3ms/step - loss: 0.0929 - val_loss: 0.0918\n",
      "Epoch 41/50\n",
      "235/235 [==============================] - 1s 3ms/step - loss: 0.0929 - val_loss: 0.0918\n",
      "Epoch 42/50\n",
      "235/235 [==============================] - 1s 3ms/step - loss: 0.0928 - val_loss: 0.0917\n",
      "Epoch 43/50\n",
      "235/235 [==============================] - 1s 3ms/step - loss: 0.0928 - val_loss: 0.0917\n",
      "Epoch 44/50\n",
      "235/235 [==============================] - 1s 3ms/step - loss: 0.0928 - val_loss: 0.0918\n",
      "Epoch 45/50\n",
      "235/235 [==============================] - 1s 3ms/step - loss: 0.0928 - val_loss: 0.0919\n",
      "Epoch 46/50\n",
      "235/235 [==============================] - 1s 3ms/step - loss: 0.0928 - val_loss: 0.0917\n",
      "Epoch 47/50\n",
      "235/235 [==============================] - 1s 3ms/step - loss: 0.0928 - val_loss: 0.0917\n",
      "Epoch 48/50\n",
      "235/235 [==============================] - 1s 3ms/step - loss: 0.0928 - val_loss: 0.0917\n",
      "Epoch 49/50\n",
      "235/235 [==============================] - 1s 3ms/step - loss: 0.0928 - val_loss: 0.0917\n",
      "Epoch 50/50\n",
      "235/235 [==============================] - 1s 3ms/step - loss: 0.0927 - val_loss: 0.0917\n"
     ]
    },
    {
     "data": {
      "text/plain": [
       "<keras.src.callbacks.History at 0x1b8f7dd7250>"
      ]
     },
     "execution_count": 6,
     "metadata": {},
     "output_type": "execute_result"
    }
   ],
   "source": [
    "autoencoder.fit(x_train, x_train,\n",
    "                epochs=50,\n",
    "                batch_size=256,\n",
    "                shuffle=True,\n",
    "                validation_data=(x_test, x_test))"
   ]
  },
  {
   "cell_type": "code",
   "execution_count": 7,
   "id": "a1f3b643-3d53-4a00-be17-ff72993d90cc",
   "metadata": {},
   "outputs": [
    {
     "name": "stdout",
     "output_type": "stream",
     "text": [
      "313/313 [==============================] - 0s 716us/step\n",
      "313/313 [==============================] - 0s 779us/step\n"
     ]
    }
   ],
   "source": [
    "encoded_imgs = encoder.predict(x_test)\n",
    "decoded_imgs = decoder.predict(encoded_imgs)"
   ]
  },
  {
   "cell_type": "code",
   "execution_count": 8,
   "id": "68b17750-1ce6-4763-a841-c3fda8060c23",
   "metadata": {},
   "outputs": [
    {
     "data": {
      "image/png": "[encoded data removed]",
      "text/plain": [
       "<Figure size 2000x400 with 20 Axes>"
      ]
     },
     "metadata": {},
     "output_type": "display_data"
    }
   ],
   "source": [
    "# Use Matplotlib \n",
    "import matplotlib.pyplot as plt\n",
    "\n",
    "n = 10  # How many digits we will display\n",
    "plt.figure(figsize=(20, 4))\n",
    "for i in range(n):\n",
    "    # Display original\n",
    "    ax = plt.subplot(2, n, i + 1)\n",
    "    plt.imshow(x_test[i].reshape(28, 28))\n",
    "    plt.gray()\n",
    "    ax.get_xaxis().set_visible(False)\n",
    "    ax.get_yaxis().set_visible(False)\n",
    "\n",
    "    # Display reconstruction\n",
    "    ax = plt.subplot(2, n, i + 1 + n)\n",
    "    plt.imshow(decoded_imgs[i].reshape(28, 28))\n",
    "    plt.gray()\n",
    "    ax.get_xaxis().set_visible(False)\n",
    "    ax.get_yaxis().set_visible(False)\n",
    "plt.show()"
   ]
  },
  {
   "cell_type": "code",
   "execution_count": 10,
   "id": "f60aedbb-9fa6-4ac5-8c8b-a6e573421d51",
   "metadata": {},
   "outputs": [],
   "source": [
    "#In the previous example, the representations were only constrained by the size of the hidden layer (32). In such a situation, \n",
    "# what typically happens is that the hidden layer is learning an approximation of PCA (principal component analysis).\n",
    "# But another way to constrain the representations to be compact is to add a sparsity contraint on the activity of the hidden \n",
    "# representations, so fewer units would \"fire\" at a given time. In Keras, this can be done by adding an activity_regularizer to our Dense layer:"
   ]
  },
  {
   "cell_type": "code",
   "execution_count": 12,
   "id": "ad6a98cf-42eb-4e3e-a39c-002f597ac48e",
   "metadata": {},
   "outputs": [],
   "source": [
    "from keras import regularizers\n",
    "encoding_dim = 32\n",
    "input_img = keras.Input(shape=(784,))\n",
    "encoded = layers.Dense(encoding_dim, activation='relu',activity_regularizer=regularizers.l1(10e-5))(input_img)\n",
    "decoded = layers.Dense(784, activation='sigmoid')(encoded)\n",
    "autoencoder = keras.Model(input_img, decoded)\n",
    "encoder = keras.Model(input_img, encoded)\n",
    "encoded_input = keras.Input(shape=(encoding_dim,))\n",
    "decoder_layer = autoencoder.layers[-1]\n",
    "decoder = keras.Model(encoded_input, decoder_layer(encoded_input))\n",
    "autoencoder.compile(optimizer='adam', loss='binary_crossentropy')"
   ]
  },
  {
   "cell_type": "code",
   "execution_count": 13,
   "id": "8327486b-b7de-4c84-be1d-f3da2a14dd8e",
   "metadata": {},
   "outputs": [],
   "source": [
    "from keras.datasets import mnist\n",
    "import numpy as np\n",
    "(x_train, _), (x_test, _) = mnist.load_data()"
   ]
  },
  {
   "cell_type": "code",
   "execution_count": 14,
   "id": "540ffe9b-4bf7-4841-8e91-06215fd96e0d",
   "metadata": {},
   "outputs": [],
   "source": [
    "x_train = x_train.astype('float32') / 255.\n",
    "x_test = x_test.astype('float32') / 255.\n",
    "x_train = x_train.reshape((len(x_train), np.prod(x_train.shape[1:])))\n",
    "x_test = x_test.reshape((len(x_test), np.prod(x_test.shape[1:])))"
   ]
  },
  {
   "cell_type": "code",
   "execution_count": 15,
   "id": "0bce511b-c9b5-4ba3-a79c-49f4f4606031",
   "metadata": {
    "scrolled": true
   },
   "outputs": [
    {
     "name": "stdout",
     "output_type": "stream",
     "text": [
      "Epoch 1/50\n",
      "235/235 [==============================] - 1s 4ms/step - loss: 0.2870 - val_loss: 0.1984\n",
      "Epoch 2/50\n",
      "235/235 [==============================] - 1s 5ms/step - loss: 0.1782 - val_loss: 0.1613\n",
      "Epoch 3/50\n",
      "235/235 [==============================] - 1s 4ms/step - loss: 0.1519 - val_loss: 0.1416\n",
      "Epoch 4/50\n",
      "235/235 [==============================] - 1s 4ms/step - loss: 0.1363 - val_loss: 0.1296\n",
      "Epoch 5/50\n",
      "235/235 [==============================] - 1s 3ms/step - loss: 0.1265 - val_loss: 0.1213\n",
      "Epoch 6/50\n",
      "235/235 [==============================] - 1s 4ms/step - loss: 0.1196 - val_loss: 0.1157\n",
      "Epoch 7/50\n",
      "235/235 [==============================] - 1s 3ms/step - loss: 0.1149 - val_loss: 0.1119\n",
      "Epoch 8/50\n",
      "235/235 [==============================] - 1s 4ms/step - loss: 0.1116 - val_loss: 0.1093\n",
      "Epoch 9/50\n",
      "235/235 [==============================] - 1s 3ms/step - loss: 0.1094 - val_loss: 0.1075\n",
      "Epoch 10/50\n",
      "235/235 [==============================] - 1s 4ms/step - loss: 0.1080 - val_loss: 0.1063\n",
      "Epoch 11/50\n",
      "235/235 [==============================] - 1s 4ms/step - loss: 0.1069 - val_loss: 0.1053\n",
      "Epoch 12/50\n",
      "235/235 [==============================] - 1s 4ms/step - loss: 0.1061 - val_loss: 0.1047\n",
      "Epoch 13/50\n",
      "235/235 [==============================] - 1s 4ms/step - loss: 0.1055 - val_loss: 0.1041\n",
      "Epoch 14/50\n",
      "235/235 [==============================] - 1s 3ms/step - loss: 0.1049 - val_loss: 0.1036\n",
      "Epoch 15/50\n",
      "235/235 [==============================] - 1s 3ms/step - loss: 0.1045 - val_loss: 0.1032\n",
      "Epoch 16/50\n",
      "235/235 [==============================] - 1s 3ms/step - loss: 0.1041 - val_loss: 0.1028\n",
      "Epoch 17/50\n",
      "235/235 [==============================] - 1s 4ms/step - loss: 0.1037 - val_loss: 0.1024\n",
      "Epoch 18/50\n",
      "235/235 [==============================] - 1s 4ms/step - loss: 0.1033 - val_loss: 0.1022\n",
      "Epoch 19/50\n",
      "235/235 [==============================] - 1s 4ms/step - loss: 0.1030 - val_loss: 0.1018\n",
      "Epoch 20/50\n",
      "235/235 [==============================] - 1s 4ms/step - loss: 0.1027 - val_loss: 0.1015\n",
      "Epoch 21/50\n",
      "235/235 [==============================] - 1s 4ms/step - loss: 0.1025 - val_loss: 0.1013\n",
      "Epoch 22/50\n",
      "235/235 [==============================] - 1s 5ms/step - loss: 0.1023 - val_loss: 0.1011\n",
      "Epoch 23/50\n",
      "235/235 [==============================] - 1s 4ms/step - loss: 0.1020 - val_loss: 0.1009\n",
      "Epoch 24/50\n",
      "235/235 [==============================] - 1s 3ms/step - loss: 0.1018 - val_loss: 0.1006\n",
      "Epoch 25/50\n",
      "235/235 [==============================] - 1s 4ms/step - loss: 0.1016 - val_loss: 0.1005\n",
      "Epoch 26/50\n",
      "235/235 [==============================] - 1s 4ms/step - loss: 0.1014 - val_loss: 0.1003\n",
      "Epoch 27/50\n",
      "235/235 [==============================] - 1s 4ms/step - loss: 0.1013 - val_loss: 0.1001\n",
      "Epoch 28/50\n",
      "235/235 [==============================] - 1s 4ms/step - loss: 0.1011 - val_loss: 0.0999\n",
      "Epoch 29/50\n",
      "235/235 [==============================] - 1s 4ms/step - loss: 0.1009 - val_loss: 0.0999\n",
      "Epoch 30/50\n",
      "235/235 [==============================] - 1s 4ms/step - loss: 0.1008 - val_loss: 0.0997\n",
      "Epoch 31/50\n",
      "235/235 [==============================] - 1s 4ms/step - loss: 0.1006 - val_loss: 0.0995\n",
      "Epoch 32/50\n",
      "235/235 [==============================] - 1s 4ms/step - loss: 0.1005 - val_loss: 0.0994\n",
      "Epoch 33/50\n",
      "235/235 [==============================] - 1s 4ms/step - loss: 0.1004 - val_loss: 0.0993\n",
      "Epoch 34/50\n",
      "235/235 [==============================] - 1s 4ms/step - loss: 0.1003 - val_loss: 0.0992\n",
      "Epoch 35/50\n",
      "235/235 [==============================] - 1s 4ms/step - loss: 0.1001 - val_loss: 0.0990\n",
      "Epoch 36/50\n",
      "235/235 [==============================] - 1s 4ms/step - loss: 0.1000 - val_loss: 0.0989\n",
      "Epoch 37/50\n",
      "235/235 [==============================] - 1s 4ms/step - loss: 0.0999 - val_loss: 0.0988\n",
      "Epoch 38/50\n",
      "235/235 [==============================] - 1s 4ms/step - loss: 0.0998 - val_loss: 0.0988\n",
      "Epoch 39/50\n",
      "235/235 [==============================] - 1s 4ms/step - loss: 0.0997 - val_loss: 0.0986\n",
      "Epoch 40/50\n",
      "235/235 [==============================] - 1s 3ms/step - loss: 0.0996 - val_loss: 0.0986\n",
      "Epoch 41/50\n",
      "235/235 [==============================] - 1s 4ms/step - loss: 0.0995 - val_loss: 0.0985\n",
      "Epoch 42/50\n",
      "235/235 [==============================] - 1s 4ms/step - loss: 0.0994 - val_loss: 0.0984\n",
      "Epoch 43/50\n",
      "235/235 [==============================] - 1s 4ms/step - loss: 0.0994 - val_loss: 0.0983\n",
      "Epoch 44/50\n",
      "235/235 [==============================] - 1s 3ms/step - loss: 0.0993 - val_loss: 0.0982\n",
      "Epoch 45/50\n",
      "235/235 [==============================] - 1s 3ms/step - loss: 0.0992 - val_loss: 0.0981\n",
      "Epoch 46/50\n",
      "235/235 [==============================] - 1s 4ms/step - loss: 0.0991 - val_loss: 0.0980\n",
      "Epoch 47/50\n",
      "235/235 [==============================] - 1s 5ms/step - loss: 0.0990 - val_loss: 0.0980\n",
      "Epoch 48/50\n",
      "235/235 [==============================] - 1s 4ms/step - loss: 0.0990 - val_loss: 0.0979\n",
      "Epoch 49/50\n",
      "235/235 [==============================] - 1s 4ms/step - loss: 0.0989 - val_loss: 0.0979\n",
      "Epoch 50/50\n",
      "235/235 [==============================] - 1s 5ms/step - loss: 0.0988 - val_loss: 0.0978\n"
     ]
    },
    {
     "data": {
      "text/plain": [
       "<keras.src.callbacks.History at 0x1b888e08f10>"
      ]
     },
     "execution_count": 15,
     "metadata": {},
     "output_type": "execute_result"
    }
   ],
   "source": [
    "autoencoder.fit(x_train, x_train,\n",
    "                epochs=50,\n",
    "                batch_size=256,\n",
    "                shuffle=True,\n",
    "                validation_data=(x_test, x_test))"
   ]
  },
  {
   "cell_type": "code",
   "execution_count": 16,
   "id": "d8bda2d7-8a43-4206-b1b8-95facb5e9b69",
   "metadata": {},
   "outputs": [
    {
     "name": "stdout",
     "output_type": "stream",
     "text": [
      "313/313 [==============================] - 0s 719us/step\n",
      "313/313 [==============================] - 0s 776us/step\n"
     ]
    }
   ],
   "source": [
    "encoded_imgs = encoder.predict(x_test)\n",
    "decoded_imgs = decoder.predict(encoded_imgs)"
   ]
  },
  {
   "cell_type": "code",
   "execution_count": 17,
   "id": "02746ca4-98bc-4377-b142-db4f104e68d3",
   "metadata": {},
   "outputs": [
    {
     "data": {
      "image/png": "[encoded data removed]",
      "text/plain": [
       "<Figure size 2000x400 with 20 Axes>"
      ]
     },
     "metadata": {},
     "output_type": "display_data"
    }
   ],
   "source": [
    "# Use Matplotlib \n",
    "import matplotlib.pyplot as plt\n",
    "\n",
    "n = 10  # How many digits we will display\n",
    "plt.figure(figsize=(20, 4))\n",
    "for i in range(n):\n",
    "    # Display original\n",
    "    ax = plt.subplot(2, n, i + 1)\n",
    "    plt.imshow(x_test[i].reshape(28, 28))\n",
    "    plt.gray()\n",
    "    ax.get_xaxis().set_visible(False)\n",
    "    ax.get_yaxis().set_visible(False)\n",
    "\n",
    "    # Display reconstruction\n",
    "    ax = plt.subplot(2, n, i + 1 + n)\n",
    "    plt.imshow(decoded_imgs[i].reshape(28, 28))\n",
    "    plt.gray()\n",
    "    ax.get_xaxis().set_visible(False)\n",
    "    ax.get_yaxis().set_visible(False)\n",
    "plt.show()"
   ]
  },
  {
   "cell_type": "code",
   "execution_count": 18,
   "id": "37c3be04-969e-43f6-91f7-d4c4d83fd449",
   "metadata": {},
   "outputs": [],
   "source": [
    "input_img = keras.Input(shape=(784,))\n",
    "encoded = layers.Dense(128, activation='relu')(input_img)\n",
    "encoded = layers.Dense(64, activation='relu')(encoded)\n",
    "encoded = layers.Dense(32, activation='relu')(encoded)\n",
    "\n",
    "decoded = layers.Dense(64, activation='relu')(encoded)\n",
    "decoded = layers.Dense(128, activation='relu')(decoded)\n",
    "decoded = layers.Dense(784, activation='sigmoid')(decoded)"
   ]
  },
  {
   "cell_type": "code",
   "execution_count": 19,
   "id": "97e3fab8-b187-4974-b080-a58745c58a3a",
   "metadata": {
    "scrolled": true
   },
   "outputs": [
    {
     "name": "stdout",
     "output_type": "stream",
     "text": [
      "Epoch 1/100\n",
      "235/235 [==============================] - 3s 7ms/step - loss: 0.2540 - val_loss: 0.1735\n",
      "Epoch 2/100\n",
      "235/235 [==============================] - 1s 5ms/step - loss: 0.1579 - val_loss: 0.1446\n",
      "Epoch 3/100\n",
      "235/235 [==============================] - 1s 6ms/step - loss: 0.1386 - val_loss: 0.1309\n",
      "Epoch 4/100\n",
      "235/235 [==============================] - 1s 6ms/step - loss: 0.1293 - val_loss: 0.1250\n",
      "Epoch 5/100\n",
      "235/235 [==============================] - 1s 6ms/step - loss: 0.1236 - val_loss: 0.1191\n",
      "Epoch 6/100\n",
      "235/235 [==============================] - 1s 6ms/step - loss: 0.1176 - val_loss: 0.1140\n",
      "Epoch 7/100\n",
      "235/235 [==============================] - 1s 6ms/step - loss: 0.1131 - val_loss: 0.1097\n",
      "Epoch 8/100\n",
      "235/235 [==============================] - 1s 5ms/step - loss: 0.1091 - val_loss: 0.1059\n",
      "Epoch 9/100\n",
      "235/235 [==============================] - 1s 5ms/step - loss: 0.1061 - val_loss: 0.1041\n",
      "Epoch 10/100\n",
      "235/235 [==============================] - 1s 6ms/step - loss: 0.1042 - val_loss: 0.1023\n",
      "Epoch 11/100\n",
      "235/235 [==============================] - 1s 6ms/step - loss: 0.1026 - val_loss: 0.1006\n",
      "Epoch 12/100\n",
      "235/235 [==============================] - 1s 6ms/step - loss: 0.1012 - val_loss: 0.0996\n",
      "Epoch 13/100\n",
      "235/235 [==============================] - 1s 5ms/step - loss: 0.1000 - val_loss: 0.0983\n",
      "Epoch 14/100\n",
      "235/235 [==============================] - 1s 5ms/step - loss: 0.0988 - val_loss: 0.0972\n",
      "Epoch 15/100\n",
      "235/235 [==============================] - 1s 5ms/step - loss: 0.0977 - val_loss: 0.0962\n",
      "Epoch 16/100\n",
      "235/235 [==============================] - 1s 5ms/step - loss: 0.0968 - val_loss: 0.0954\n",
      "Epoch 17/100\n",
      "235/235 [==============================] - 1s 5ms/step - loss: 0.0959 - val_loss: 0.0948\n",
      "Epoch 18/100\n",
      "235/235 [==============================] - 1s 5ms/step - loss: 0.0952 - val_loss: 0.0939\n",
      "Epoch 19/100\n",
      "235/235 [==============================] - 1s 5ms/step - loss: 0.0946 - val_loss: 0.0933\n",
      "Epoch 20/100\n",
      "235/235 [==============================] - 1s 5ms/step - loss: 0.0940 - val_loss: 0.0932\n",
      "Epoch 21/100\n",
      "235/235 [==============================] - 1s 5ms/step - loss: 0.0935 - val_loss: 0.0925\n",
      "Epoch 22/100\n",
      "235/235 [==============================] - 1s 5ms/step - loss: 0.0930 - val_loss: 0.0921\n",
      "Epoch 23/100\n",
      "235/235 [==============================] - 1s 5ms/step - loss: 0.0926 - val_loss: 0.0918\n",
      "Epoch 24/100\n",
      "235/235 [==============================] - 1s 5ms/step - loss: 0.0922 - val_loss: 0.0912\n",
      "Epoch 25/100\n",
      "235/235 [==============================] - 1s 5ms/step - loss: 0.0919 - val_loss: 0.0912\n",
      "Epoch 26/100\n",
      "235/235 [==============================] - 1s 5ms/step - loss: 0.0915 - val_loss: 0.0906\n",
      "Epoch 27/100\n",
      "235/235 [==============================] - 1s 5ms/step - loss: 0.0912 - val_loss: 0.0902\n",
      "Epoch 28/100\n",
      "235/235 [==============================] - 1s 5ms/step - loss: 0.0908 - val_loss: 0.0900\n",
      "Epoch 29/100\n",
      "235/235 [==============================] - 1s 5ms/step - loss: 0.0905 - val_loss: 0.0895\n",
      "Epoch 30/100\n",
      "235/235 [==============================] - 1s 5ms/step - loss: 0.0902 - val_loss: 0.0893\n",
      "Epoch 31/100\n",
      "235/235 [==============================] - 1s 5ms/step - loss: 0.0899 - val_loss: 0.0892\n",
      "Epoch 32/100\n",
      "235/235 [==============================] - 1s 5ms/step - loss: 0.0897 - val_loss: 0.0891\n",
      "Epoch 33/100\n",
      "235/235 [==============================] - 1s 5ms/step - loss: 0.0894 - val_loss: 0.0884\n",
      "Epoch 34/100\n",
      "235/235 [==============================] - 1s 5ms/step - loss: 0.0891 - val_loss: 0.0884\n",
      "Epoch 35/100\n",
      "235/235 [==============================] - 1s 5ms/step - loss: 0.0889 - val_loss: 0.0881\n",
      "Epoch 36/100\n",
      "235/235 [==============================] - 1s 5ms/step - loss: 0.0886 - val_loss: 0.0885\n",
      "Epoch 37/100\n",
      "235/235 [==============================] - 1s 5ms/step - loss: 0.0884 - val_loss: 0.0876\n",
      "Epoch 38/100\n",
      "235/235 [==============================] - 1s 5ms/step - loss: 0.0882 - val_loss: 0.0875\n",
      "Epoch 39/100\n",
      "235/235 [==============================] - 1s 5ms/step - loss: 0.0879 - val_loss: 0.0873\n",
      "Epoch 40/100\n",
      "235/235 [==============================] - 1s 5ms/step - loss: 0.0877 - val_loss: 0.0872\n",
      "Epoch 41/100\n",
      "235/235 [==============================] - 1s 5ms/step - loss: 0.0875 - val_loss: 0.0872\n",
      "Epoch 42/100\n",
      "235/235 [==============================] - 1s 5ms/step - loss: 0.0873 - val_loss: 0.0867\n",
      "Epoch 43/100\n",
      "235/235 [==============================] - 1s 5ms/step - loss: 0.0871 - val_loss: 0.0866\n",
      "Epoch 44/100\n",
      "235/235 [==============================] - 1s 5ms/step - loss: 0.0869 - val_loss: 0.0861\n",
      "Epoch 45/100\n",
      "235/235 [==============================] - 1s 5ms/step - loss: 0.0868 - val_loss: 0.0861\n",
      "Epoch 46/100\n",
      "235/235 [==============================] - 1s 5ms/step - loss: 0.0866 - val_loss: 0.0861\n",
      "Epoch 47/100\n",
      "235/235 [==============================] - 1s 6ms/step - loss: 0.0865 - val_loss: 0.0860\n",
      "Epoch 48/100\n",
      "235/235 [==============================] - 1s 6ms/step - loss: 0.0863 - val_loss: 0.0861\n",
      "Epoch 49/100\n",
      "235/235 [==============================] - 1s 6ms/step - loss: 0.0863 - val_loss: 0.0858\n",
      "Epoch 50/100\n",
      "235/235 [==============================] - 1s 6ms/step - loss: 0.0861 - val_loss: 0.0855\n",
      "Epoch 51/100\n",
      "235/235 [==============================] - 1s 6ms/step - loss: 0.0860 - val_loss: 0.0857\n",
      "Epoch 52/100\n",
      "235/235 [==============================] - 1s 6ms/step - loss: 0.0859 - val_loss: 0.0857\n",
      "Epoch 53/100\n",
      "235/235 [==============================] - 1s 6ms/step - loss: 0.0858 - val_loss: 0.0853\n",
      "Epoch 54/100\n",
      "235/235 [==============================] - 1s 6ms/step - loss: 0.0856 - val_loss: 0.0852\n",
      "Epoch 55/100\n",
      "235/235 [==============================] - 1s 6ms/step - loss: 0.0855 - val_loss: 0.0851\n",
      "Epoch 56/100\n",
      "235/235 [==============================] - 1s 6ms/step - loss: 0.0855 - val_loss: 0.0850\n",
      "Epoch 57/100\n",
      "235/235 [==============================] - 1s 6ms/step - loss: 0.0853 - val_loss: 0.0850\n",
      "Epoch 58/100\n",
      "235/235 [==============================] - 1s 6ms/step - loss: 0.0852 - val_loss: 0.0849\n",
      "Epoch 59/100\n",
      "235/235 [==============================] - 1s 6ms/step - loss: 0.0851 - val_loss: 0.0847\n",
      "Epoch 60/100\n",
      "235/235 [==============================] - 1s 6ms/step - loss: 0.0850 - val_loss: 0.0847\n",
      "Epoch 61/100\n",
      "235/235 [==============================] - 1s 6ms/step - loss: 0.0849 - val_loss: 0.0846\n",
      "Epoch 62/100\n",
      "235/235 [==============================] - 1s 5ms/step - loss: 0.0848 - val_loss: 0.0846\n",
      "Epoch 63/100\n",
      "235/235 [==============================] - 1s 5ms/step - loss: 0.0847 - val_loss: 0.0843\n",
      "Epoch 64/100\n",
      "235/235 [==============================] - 1s 5ms/step - loss: 0.0847 - val_loss: 0.0845\n",
      "Epoch 65/100\n",
      "235/235 [==============================] - 1s 5ms/step - loss: 0.0845 - val_loss: 0.0841\n",
      "Epoch 66/100\n",
      "235/235 [==============================] - 1s 5ms/step - loss: 0.0845 - val_loss: 0.0840\n",
      "Epoch 67/100\n",
      "235/235 [==============================] - 1s 5ms/step - loss: 0.0844 - val_loss: 0.0840\n",
      "Epoch 68/100\n",
      "235/235 [==============================] - 1s 5ms/step - loss: 0.0843 - val_loss: 0.0845\n",
      "Epoch 69/100\n",
      "235/235 [==============================] - 1s 5ms/step - loss: 0.0843 - val_loss: 0.0842\n",
      "Epoch 70/100\n",
      "235/235 [==============================] - 1s 5ms/step - loss: 0.0842 - val_loss: 0.0840\n",
      "Epoch 71/100\n",
      "235/235 [==============================] - 1s 5ms/step - loss: 0.0841 - val_loss: 0.0838\n",
      "Epoch 72/100\n",
      "235/235 [==============================] - 1s 5ms/step - loss: 0.0840 - val_loss: 0.0838\n",
      "Epoch 73/100\n",
      "235/235 [==============================] - 1s 5ms/step - loss: 0.0839 - val_loss: 0.0838\n",
      "Epoch 74/100\n",
      "235/235 [==============================] - 1s 5ms/step - loss: 0.0839 - val_loss: 0.0837\n",
      "Epoch 75/100\n",
      "235/235 [==============================] - 1s 5ms/step - loss: 0.0838 - val_loss: 0.0837\n",
      "Epoch 76/100\n",
      "235/235 [==============================] - 1s 5ms/step - loss: 0.0838 - val_loss: 0.0835\n",
      "Epoch 77/100\n",
      "235/235 [==============================] - 1s 5ms/step - loss: 0.0838 - val_loss: 0.0835\n",
      "Epoch 78/100\n",
      "235/235 [==============================] - 1s 5ms/step - loss: 0.0837 - val_loss: 0.0834\n",
      "Epoch 79/100\n",
      "235/235 [==============================] - 1s 5ms/step - loss: 0.0837 - val_loss: 0.0834\n",
      "Epoch 80/100\n",
      "235/235 [==============================] - 1s 5ms/step - loss: 0.0836 - val_loss: 0.0834\n",
      "Epoch 81/100\n",
      "235/235 [==============================] - 1s 5ms/step - loss: 0.0836 - val_loss: 0.0833\n",
      "Epoch 82/100\n",
      "235/235 [==============================] - 1s 5ms/step - loss: 0.0835 - val_loss: 0.0834\n",
      "Epoch 83/100\n",
      "235/235 [==============================] - 1s 5ms/step - loss: 0.0835 - val_loss: 0.0832\n",
      "Epoch 84/100\n",
      "235/235 [==============================] - 1s 6ms/step - loss: 0.0834 - val_loss: 0.0832\n",
      "Epoch 85/100\n",
      "235/235 [==============================] - 1s 5ms/step - loss: 0.0834 - val_loss: 0.0830\n",
      "Epoch 86/100\n",
      "235/235 [==============================] - 1s 5ms/step - loss: 0.0833 - val_loss: 0.0834\n",
      "Epoch 87/100\n",
      "235/235 [==============================] - 1s 5ms/step - loss: 0.0833 - val_loss: 0.0830\n",
      "Epoch 88/100\n",
      "235/235 [==============================] - 1s 5ms/step - loss: 0.0833 - val_loss: 0.0830\n",
      "Epoch 89/100\n",
      "235/235 [==============================] - 1s 5ms/step - loss: 0.0832 - val_loss: 0.0829\n",
      "Epoch 90/100\n",
      "235/235 [==============================] - 1s 5ms/step - loss: 0.0832 - val_loss: 0.0831\n",
      "Epoch 91/100\n",
      "235/235 [==============================] - 1s 5ms/step - loss: 0.0832 - val_loss: 0.0830\n",
      "Epoch 92/100\n",
      "235/235 [==============================] - 1s 5ms/step - loss: 0.0831 - val_loss: 0.0829\n",
      "Epoch 93/100\n",
      "235/235 [==============================] - 1s 5ms/step - loss: 0.0831 - val_loss: 0.0829\n",
      "Epoch 94/100\n",
      "235/235 [==============================] - 1s 5ms/step - loss: 0.0831 - val_loss: 0.0828\n",
      "Epoch 95/100\n",
      "235/235 [==============================] - 1s 5ms/step - loss: 0.0830 - val_loss: 0.0830\n",
      "Epoch 96/100\n",
      "235/235 [==============================] - 1s 5ms/step - loss: 0.0830 - val_loss: 0.0830\n",
      "Epoch 97/100\n",
      "235/235 [==============================] - 1s 5ms/step - loss: 0.0830 - val_loss: 0.0830\n",
      "Epoch 98/100\n",
      "235/235 [==============================] - 1s 5ms/step - loss: 0.0829 - val_loss: 0.0830\n",
      "Epoch 99/100\n",
      "235/235 [==============================] - 1s 5ms/step - loss: 0.0829 - val_loss: 0.0829\n",
      "Epoch 100/100\n",
      "235/235 [==============================] - 1s 5ms/step - loss: 0.0829 - val_loss: 0.0826\n"
     ]
    },
    {
     "data": {
      "text/plain": [
       "<keras.src.callbacks.History at 0x1b8833698a0>"
      ]
     },
     "execution_count": 19,
     "metadata": {},
     "output_type": "execute_result"
    }
   ],
   "source": [
    "autoencoder = keras.Model(input_img, decoded)\n",
    "autoencoder.compile(optimizer='adam', loss='binary_crossentropy')\n",
    "\n",
    "autoencoder.fit(x_train, x_train,\n",
    "                epochs=100,\n",
    "                batch_size=256,\n",
    "                shuffle=True,\n",
    "                validation_data=(x_test, x_test))"
   ]
  },
  {
   "cell_type": "code",
   "execution_count": 20,
   "id": "f32359f9-7fc3-4f83-b3d3-c1803d9ebcc1",
   "metadata": {},
   "outputs": [
    {
     "name": "stdout",
     "output_type": "stream",
     "text": [
      "313/313 [==============================] - 0s 795us/step\n",
      "313/313 [==============================] - 0s 818us/step\n"
     ]
    }
   ],
   "source": [
    "encoded_imgs = encoder.predict(x_test)\n",
    "decoded_imgs = decoder.predict(encoded_imgs)"
   ]
  },
  {
   "cell_type": "code",
   "execution_count": 21,
   "id": "5e676caa-89e6-4275-a602-d3fb22e28a0b",
   "metadata": {},
   "outputs": [
    {
     "data": {
      "image/png": "[encoded data removed]",
      "text/plain": [
       "<Figure size 2000x400 with 20 Axes>"
      ]
     },
     "metadata": {},
     "output_type": "display_data"
    }
   ],
   "source": [
    "# Use Matplotlib \n",
    "import matplotlib.pyplot as plt\n",
    "\n",
    "n = 10  # How many digits we will display\n",
    "plt.figure(figsize=(20, 4))\n",
    "for i in range(n):\n",
    "    # Display original\n",
    "    ax = plt.subplot(2, n, i + 1)\n",
    "    plt.imshow(x_test[i].reshape(28, 28))\n",
    "    plt.gray()\n",
    "    ax.get_xaxis().set_visible(False)\n",
    "    ax.get_yaxis().set_visible(False)\n",
    "\n",
    "    # Display reconstruction\n",
    "    ax = plt.subplot(2, n, i + 1 + n)\n",
    "    plt.imshow(decoded_imgs[i].reshape(28, 28))\n",
    "    plt.gray()\n",
    "    ax.get_xaxis().set_visible(False)\n",
    "    ax.get_yaxis().set_visible(False)\n",
    "plt.show()"
   ]
  },
  {
   "cell_type": "code",
   "execution_count": null,
   "id": "6374a5c2-182b-4abe-ac12-6514b278d199",
   "metadata": {},
   "outputs": [],
   "source": []
  },
  {
   "cell_type": "code",
   "execution_count": null,
   "id": "de9a1c06-55b9-42d2-b9f5-98ed8289120d",
   "metadata": {},
   "outputs": [],
   "source": []
  }
 ],
 "metadata": {
  "kernelspec": {
   "display_name": "Python 3 (ipykernel)",
   "language": "python",
   "name": "python3"
  },
  "language_info": {
   "codemirror_mode": {
    "name": "ipython",
    "version": 3
   },
   "file_extension": ".py",
   "mimetype": "text/x-python",
   "name": "python",
   "nbconvert_exporter": "python",
   "pygments_lexer": "ipython3",
   "version": "3.10.12"
  }
 },
 "nbformat": 4,
 "nbformat_minor": 5
}
