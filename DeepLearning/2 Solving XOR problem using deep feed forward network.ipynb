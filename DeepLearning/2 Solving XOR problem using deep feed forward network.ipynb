{
 "cells": [
  {
   "cell_type": "code",
   "execution_count": 1,
   "id": "7a6c4379-8c79-404a-acb7-d5fe25ef61f6",
   "metadata": {},
   "outputs": [],
   "source": [
    "# importing Python library \n",
    "import numpy as np "
   ]
  },
  {
   "cell_type": "code",
   "execution_count": 2,
   "id": "985e222b-8a13-4db2-911f-4754c908248d",
   "metadata": {},
   "outputs": [],
   "source": [
    "# define Unit Step Function \n",
    "def unitStep(v): \n",
    "    if v >= 0: \n",
    "        return 1\n",
    "    else: \n",
    "        return 0"
   ]
  },
  {
   "cell_type": "code",
   "execution_count": 3,
   "id": "b16456de-fcc4-48cb-9144-a5f5eb2964a6",
   "metadata": {},
   "outputs": [],
   "source": [
    "# design Perceptron Model \n",
    "def perceptronModel(x, w, b): \n",
    "    v = np.dot(w, x) + b \n",
    "    y = unitStep(v) \n",
    "    return y "
   ]
  },
  {
   "cell_type": "code",
   "execution_count": 4,
   "id": "e58a58dc-0332-49cd-8846-52894a7931b4",
   "metadata": {},
   "outputs": [],
   "source": [
    "# NOT Logic Function \n",
    "# wNOT = -1, bNOT = 0.5 \n",
    "\n",
    "def NOT_logicFunction(x): \n",
    "    wNOT = -1\n",
    "    bNOT = 0.5\n",
    "    return perceptronModel(x, wNOT, bNOT) "
   ]
  },
  {
   "cell_type": "code",
   "execution_count": 5,
   "id": "3efd1249-ec4c-4aaa-9ccf-50c525fff2b8",
   "metadata": {},
   "outputs": [],
   "source": [
    "# AND Logic Function \n",
    "# here w1 = wAND1 = 1,  \n",
    "# w2 = wAND2 = 1, bAND = -1.5 \n",
    "\n",
    "def AND_logicFunction(x): \n",
    "    w = np.array([1, 1]) \n",
    "    bAND = -1.5\n",
    "    return perceptronModel(x, w, bAND) "
   ]
  },
  {
   "cell_type": "code",
   "execution_count": 6,
   "id": "8b7cc917-d4a2-417e-adf1-889aaf89607e",
   "metadata": {},
   "outputs": [],
   "source": [
    "# OR Logic Function \n",
    "# w1 = 1, w2 = 1, bOR = -0.5 \n",
    "\n",
    "def OR_logicFunction(x): \n",
    "    w = np.array([1, 1]) \n",
    "    bOR = -0.5\n",
    "    return perceptronModel(x, w, bOR)"
   ]
  },
  {
   "cell_type": "code",
   "execution_count": 7,
   "id": "3b176692-0325-4a93-8369-2a5c74dca34c",
   "metadata": {},
   "outputs": [],
   "source": [
    "# XOR Logic Function \n",
    "# with AND, OR and NOT   \n",
    "# function calls in sequence \n",
    "def XOR_logicFunction(x):\n",
    "  y1 = AND_logicFunction(x)\n",
    "  y2 = OR_logicFunction(x)\n",
    "  y3 = NOT_logicFunction(y1)\n",
    "  final_x = np.array([y2, y3])\n",
    "  finalOutput = AND_logicFunction(final_x)\n",
    "  y3 = NOT_logicFunction(y1)\n",
    "  return finalOutput"
   ]
  },
  {
   "cell_type": "code",
   "execution_count": 8,
   "id": "4d8e74bb-5341-40f5-a3e8-63ad36636970",
   "metadata": {},
   "outputs": [
    {
     "name": "stdout",
     "output_type": "stream",
     "text": [
      "XOR(0, 1) = 1\n",
      "XOR(1, 1) = 0\n",
      "XOR(0, 0) = 0\n",
      "XOR(1, 0) = 1\n"
     ]
    }
   ],
   "source": [
    "# testing the Perceptron Model \n",
    "test1 = np.array([0, 1]) \n",
    "test2 = np.array([1, 1]) \n",
    "test3 = np.array([0, 0]) \n",
    "test4 = np.array([1, 0])\n",
    "\n",
    "\n",
    "print(\"XOR({}, {}) = {}\".format(0, 1, XOR_logicFunction(test1)))\n",
    "print(\"XOR({}, {}) = {}\".format(1, 1, XOR_logicFunction(test2)))\n",
    "print(\"XOR({}, {}) = {}\".format(0, 0, XOR_logicFunction(test3)))\n",
    "print(\"XOR({}, {}) = {}\".format(1, 0, XOR_logicFunction(test4)))"
   ]
  },
  {
   "cell_type": "code",
   "execution_count": null,
   "id": "f2e4b425-4c76-4659-8473-d5dbca944568",
   "metadata": {},
   "outputs": [],
   "source": []
  }
 ],
 "metadata": {
  "kernelspec": {
   "display_name": "Python 3 (ipykernel)",
   "language": "python",
   "name": "python3"
  },
  "language_info": {
   "codemirror_mode": {
    "name": "ipython",
    "version": 3
   },
   "file_extension": ".py",
   "mimetype": "text/x-python",
   "name": "python",
   "nbconvert_exporter": "python",
   "pygments_lexer": "ipython3",
   "version": "3.10.12"
  }
 },
 "nbformat": 4,
 "nbformat_minor": 5
}
