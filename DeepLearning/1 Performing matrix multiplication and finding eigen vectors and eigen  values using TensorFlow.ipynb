{
 "cells": [
  {
   "cell_type": "code",
   "execution_count": 2,
   "id": "da39d144-60e4-4ba5-9549-9f2932c48a44",
   "metadata": {},
   "outputs": [
    {
     "name": "stdout",
     "output_type": "stream",
     "text": [
      "Printing the Eigen values of the given square array:\n",
      " [-0.23606798  4.23606798]\n",
      "Printing Right eigenvectors of the given square array:\n",
      " [[-0.85065081 -0.52573111]\n",
      " [ 0.52573111 -0.85065081]]\n"
     ]
    }
   ],
   "source": [
    "import numpy as np\n",
    "m = np.array([[1, 2],[2, 3]])\n",
    "w, v = np.linalg.eig(m)\n",
    "print(\"Printing the Eigen values of the given square array:\\n\",w)\n",
    "print(\"Printing Right eigenvectors of the given square array:\\n\",v)"
   ]
  },
  {
   "cell_type": "code",
   "execution_count": 3,
   "id": "0c424127-eae9-481b-af0b-944ce2af82f0",
   "metadata": {},
   "outputs": [
    {
     "name": "stdout",
     "output_type": "stream",
     "text": [
      "Printing the Eigen values of the given square array:\n",
      " [ 1.08309519e+01 -8.30951895e-01  1.01486082e-16]\n",
      "Printing Right eigenvectors of the given square array:\n",
      " [[ 0.34416959  0.72770285  0.40824829]\n",
      " [ 0.49532111  0.27580256 -0.81649658]\n",
      " [ 0.79762415 -0.62799801  0.40824829]]\n"
     ]
    }
   ],
   "source": [
    "m = np.array([[1, 2, 3],\n",
    "\t\t\t[2, 3, 4],\n",
    "\t\t\t[4, 5, 6]])\n",
    "\n",
    "w, v = np.linalg.eig(m)\n",
    "print(\"Printing the Eigen values of the given square array:\\n\",w)\n",
    "print(\"Printing Right eigenvectors of the given square array:\\n\",v)"
   ]
  },
  {
   "cell_type": "code",
   "execution_count": 4,
   "id": "ca598acc-ce9c-42a3-9eb6-a112ac223662",
   "metadata": {},
   "outputs": [
    {
     "name": "stdout",
     "output_type": "stream",
     "text": [
      "WARNING:tensorflow:From C:\\Users\\kargu\\AppData\\Local\\Programs\\Python\\Python310\\lib\\site-packages\\keras\\src\\losses.py:2976: The name tf.losses.sparse_softmax_cross_entropy is deprecated. Please use tf.compat.v1.losses.sparse_softmax_cross_entropy instead.\n",
      "\n"
     ]
    }
   ],
   "source": [
    "import tensorflow as tf"
   ]
  },
  {
   "cell_type": "code",
   "execution_count": 6,
   "id": "4ea77b48-3a7d-4683-a6ab-9eeedb36f76e",
   "metadata": {},
   "outputs": [
    {
     "name": "stdout",
     "output_type": "stream",
     "text": [
      "Matrix A: \n",
      "[[7.8791924 3.7057962]\n",
      " [8.191602  4.6210017]]\n",
      "\n",
      "\n",
      "Eigen Vectors: \n",
      "[[-0.63440764  0.7729987 ]\n",
      " [ 0.7729987   0.63440764]] \n",
      "\n",
      "Eigen Values: \n",
      "[-2.101926 14.60212 ]\n",
      "\n"
     ]
    }
   ],
   "source": [
    "e_matrix_A = tf.random.uniform([2, 2], minval=3, maxval=10, dtype=tf.float32, name=\"matrixA\")\n",
    "print(\"Matrix A: \\n{}\\n\\n\".format(e_matrix_A))\n",
    "eigen_values_A, eigen_vectors_A = tf.linalg.eigh(e_matrix_A)\n",
    "print(\"Eigen Vectors: \\n{} \\n\\nEigen Values: \\n{}\\n\".format(eigen_vectors_A, eigen_values_A))"
   ]
  },
  {
   "cell_type": "code",
   "execution_count": 7,
   "id": "615b570e-f0b3-423e-94cc-6f36958fb781",
   "metadata": {},
   "outputs": [
    {
     "name": "stdout",
     "output_type": "stream",
     "text": [
      "Eigen Vectors: \n",
      "[[-0.63440764  0.7729987 ]\n",
      " [ 0.7729987   0.63440764]] \n",
      "\n",
      "Eigen Values: \n",
      "[-2.101926 14.60212 ]\n",
      "\n",
      "Eigen Vectors: \n",
      "[[-0.63440764  0.7729987 ]\n",
      " [ 0.7729987   0.63440764]] \n",
      "\n",
      "Eigen Values: \n",
      "[-2.101926 14.60212 ]\n",
      "\n"
     ]
    }
   ],
   "source": [
    "eigen_values_A, eigen_vectors_A = tf.linalg.eigh(e_matrix_A)\n",
    "print(\"Eigen Vectors: \\n{} \\n\\nEigen Values: \\n{}\\n\".format(eigen_vectors_A, eigen_values_A))\n",
    "eigen_values_A, eigen_vectors_A = tf.linalg.eigh(e_matrix_A)\n",
    "print(\"Eigen Vectors: \\n{} \\n\\nEigen Values: \\n{}\\n\".format(eigen_vectors_A, eigen_values_A))"
   ]
  },
  {
   "cell_type": "code",
   "execution_count": null,
   "id": "0723ad45-b5fd-484f-834c-3e5080bff374",
   "metadata": {},
   "outputs": [],
   "source": []
  }
 ],
 "metadata": {
  "kernelspec": {
   "display_name": "Python 3 (ipykernel)",
   "language": "python",
   "name": "python3"
  },
  "language_info": {
   "codemirror_mode": {
    "name": "ipython",
    "version": 3
   },
   "file_extension": ".py",
   "mimetype": "text/x-python",
   "name": "python",
   "nbconvert_exporter": "python",
   "pygments_lexer": "ipython3",
   "version": "3.10.12"
  }
 },
 "nbformat": 4,
 "nbformat_minor": 5
}
