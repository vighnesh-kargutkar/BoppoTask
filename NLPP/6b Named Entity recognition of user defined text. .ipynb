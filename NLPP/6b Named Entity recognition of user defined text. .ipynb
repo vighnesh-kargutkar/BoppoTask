{
 "cells": [
  {
   "cell_type": "code",
   "execution_count": 24,
   "id": "9c9fa999-a042-4a7c-b9ad-276418663f71",
   "metadata": {},
   "outputs": [],
   "source": [
    "import spacy\n",
    "# !python -m spacy download en_core_web_sm"
   ]
  },
  {
   "cell_type": "code",
   "execution_count": 36,
   "id": "9a815ebd-1734-418b-819f-ca1af7f75098",
   "metadata": {},
   "outputs": [],
   "source": [
    "nlp = spacy.load(\"en_core_web_sm\")\n",
    "text = \"She enjoys running and cooking.\""
   ]
  },
  {
   "cell_type": "code",
   "execution_count": 37,
   "id": "bc3b7a43-b816-4767-ade9-96fa8fb6fe83",
   "metadata": {},
   "outputs": [
    {
     "name": "stdout",
     "output_type": "stream",
     "text": [
      "Noun phrases: ['She']\n",
      "Verbs: ['enjoy', 'run']\n"
     ]
    }
   ],
   "source": [
    "data = nlp(text)\n",
    "print(\"Noun phrases:\", [chunk.text for chunk in data.noun_chunks])\n",
    "print(\"Verbs:\", [token.lemma_ for token in data if token.pos_ == \"VERB\"])"
   ]
  },
  {
   "cell_type": "code",
   "execution_count": 38,
   "id": "a399f9ff-6092-47c8-8d84-4b83d382923b",
   "metadata": {},
   "outputs": [
    {
     "name": "stdout",
     "output_type": "stream",
     "text": [
      "She\n"
     ]
    }
   ],
   "source": [
    "for i in data.noun_chunks:\n",
    "    print(i)"
   ]
  },
  {
   "cell_type": "code",
   "execution_count": 39,
   "id": "784326b1-df6d-469c-b5be-7d3e39dafdee",
   "metadata": {},
   "outputs": [
    {
     "name": "stdout",
     "output_type": "stream",
     "text": [
      "['enjoy', 'run']\n"
     ]
    }
   ],
   "source": [
    "vrerb= []\n",
    "for i in data:\n",
    "    if i.pos_ == \"VERB\":\n",
    "        vrerb.append(i.lemma_)\n",
    "print(vrerb)"
   ]
  },
  {
   "cell_type": "code",
   "execution_count": null,
   "id": "1c7d302e-ec30-4c1f-ab9a-f7371f5b0903",
   "metadata": {},
   "outputs": [],
   "source": []
  }
 ],
 "metadata": {
  "kernelspec": {
   "display_name": "Python 3 (ipykernel)",
   "language": "python",
   "name": "python3"
  },
  "language_info": {
   "codemirror_mode": {
    "name": "ipython",
    "version": 3
   },
   "file_extension": ".py",
   "mimetype": "text/x-python",
   "name": "python",
   "nbconvert_exporter": "python",
   "pygments_lexer": "ipython3",
   "version": "3.10.12"
  }
 },
 "nbformat": 4,
 "nbformat_minor": 5
}
