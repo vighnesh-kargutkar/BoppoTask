{
 "cells": [
  {
   "cell_type": "code",
   "execution_count": 1,
   "id": "b2ec97c5-3b68-4efe-ae2a-aecd58f16174",
   "metadata": {},
   "outputs": [],
   "source": [
    "from nltk.tokenize import MWETokenizer \n",
    "from nltk import sent_tokenize, word_tokenize "
   ]
  },
  {
   "cell_type": "code",
   "execution_count": 3,
   "id": "9e061c33-f243-4c10-a9e0-312c259bc4a0",
   "metadata": {},
   "outputs": [
    {
     "name": "stdout",
     "output_type": "stream",
     "text": [
      "['Good', 'cake', 'cost', 'Rs.1500\\\\kg', 'in', 'Mumbai', '.']\n",
      "['Please', 'buy', 'me', 'one', 'of', 'them', '.']\n",
      "['Thanks', '.']\n"
     ]
    }
   ],
   "source": [
    "from nltk import sent_tokenize, word_tokenize \n",
    "s = '''Good cake cost Rs.1500\\kg in Mumbai.  Please buy me one of them.\\n\\nThanks.''' \n",
    "mwe = MWETokenizer([('New', 'York'), ('Hong', 'Kong')], separator='_') \n",
    "for sent in sent_tokenize(s): \n",
    "    print(mwe.tokenize(word_tokenize(sent))) "
   ]
  },
  {
   "cell_type": "code",
   "execution_count": null,
   "id": "edcd9ef6-5961-4602-810c-3ad0d5adbcb5",
   "metadata": {},
   "outputs": [],
   "source": []
  }
 ],
 "metadata": {
  "kernelspec": {
   "display_name": "Python 3 (ipykernel)",
   "language": "python",
   "name": "python3"
  },
  "language_info": {
   "codemirror_mode": {
    "name": "ipython",
    "version": 3
   },
   "file_extension": ".py",
   "mimetype": "text/x-python",
   "name": "python",
   "nbconvert_exporter": "python",
   "pygments_lexer": "ipython3",
   "version": "3.10.12"
  }
 },
 "nbformat": 4,
 "nbformat_minor": 5
}
