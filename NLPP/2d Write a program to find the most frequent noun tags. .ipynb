{
 "cells": [
  {
   "cell_type": "code",
   "execution_count": 9,
   "id": "f082132a",
   "metadata": {},
   "outputs": [],
   "source": [
    "import nltk\n",
    "from nltk.corpus import brown"
   ]
  },
  {
   "cell_type": "code",
   "execution_count": 12,
   "id": "7bcdca3d",
   "metadata": {},
   "outputs": [],
   "source": [
    "# nltk.download('universal_tagset')\n",
    "# nltk.download('brown')"
   ]
  },
  {
   "cell_type": "code",
   "execution_count": 19,
   "id": "b675ea05",
   "metadata": {},
   "outputs": [],
   "source": [
    "nouns_after_the = []\n",
    "data = nltk.bigrams(brown.tagged_words(tagset=\"universal\"))\n",
    "for (w1, t1), (w2, t2) in data:\n",
    "    if w1.lower() == \"the\" and t2 == \"NOUN\":\n",
    "        nouns_after_the.append(w2.lower())"
   ]
  },
  {
   "cell_type": "code",
   "execution_count": 20,
   "id": "f45b5d0a",
   "metadata": {},
   "outputs": [
    {
     "name": "stdout",
     "output_type": "stream",
     "text": [
      "[('world', 361), ('state', 271), ('time', 251), ('way', 239), ('house', 216), ('end', 206), ('fact', 194), ('man', 184), ('door', 172), ('city', 151)]\n"
     ]
    }
   ],
   "source": [
    "noundist = nltk.FreqDist(nouns_after_the)\n",
    "print(noundist.most_common(10))"
   ]
  },
  {
   "cell_type": "code",
   "execution_count": null,
   "id": "26806caf",
   "metadata": {},
   "outputs": [],
   "source": []
  },
  {
   "cell_type": "code",
   "execution_count": null,
   "id": "2594387e",
   "metadata": {},
   "outputs": [],
   "source": []
  }
 ],
 "metadata": {
  "kernelspec": {
   "display_name": "Python 3 (ipykernel)",
   "language": "python",
   "name": "python3"
  },
  "language_info": {
   "codemirror_mode": {
    "name": "ipython",
    "version": 3
   },
   "file_extension": ".py",
   "mimetype": "text/x-python",
   "name": "python",
   "nbconvert_exporter": "python",
   "pygments_lexer": "ipython3",
   "version": "3.11.5"
  }
 },
 "nbformat": 4,
 "nbformat_minor": 5
}
