{
 "cells": [
  {
   "cell_type": "code",
   "execution_count": 1,
   "id": "9ec1abdd",
   "metadata": {},
   "outputs": [],
   "source": [
    "import nltk\n",
    "from nltk.corpus import brown\n",
    "# nltk.download('inaugural')\n",
    "# nltk.download('udhr')\n",
    "from nltk.corpus import inaugural\n",
    "from nltk.corpus import udhr"
   ]
  },
  {
   "cell_type": "code",
   "execution_count": 2,
   "id": "51700e55",
   "metadata": {},
   "outputs": [],
   "source": [
    "genre_word= [(genre,word)\n",
    "            for genre in ['news','romance']\n",
    "            for word in brown.words(categories=genre)]"
   ]
  },
  {
   "cell_type": "code",
   "execution_count": 3,
   "id": "e77edb81",
   "metadata": {},
   "outputs": [],
   "source": [
    "cfd = nltk.ConditionalFreqDist(genre_word)"
   ]
  },
  {
   "cell_type": "code",
   "execution_count": 4,
   "id": "5d4aad9e",
   "metadata": {},
   "outputs": [
    {
     "name": "stdout",
     "output_type": "stream",
     "text": [
      "['news', 'romance']\n"
     ]
    }
   ],
   "source": [
    "print(cfd.conditions())"
   ]
  },
  {
   "cell_type": "code",
   "execution_count": 5,
   "id": "00b6a7cc",
   "metadata": {},
   "outputs": [],
   "source": [
    "inaugural_words= [(target ,fileid[:4])\n",
    "                 for fileid in inaugural.fileids()\n",
    "                  for w in inaugural.words(fileid)\n",
    "                  for target in ['america','citizen']\n",
    "                  if w.lower().startswith(target)]"
   ]
  },
  {
   "cell_type": "code",
   "execution_count": 6,
   "id": "bc0a5170",
   "metadata": {},
   "outputs": [],
   "source": [
    "cfd1 = nltk.ConditionalFreqDist(inaugural_words)"
   ]
  },
  {
   "cell_type": "code",
   "execution_count": 7,
   "id": "720fae5a",
   "metadata": {},
   "outputs": [
    {
     "data": {
      "text/plain": [
       "['citizen', 'america']"
      ]
     },
     "execution_count": 7,
     "metadata": {},
     "output_type": "execute_result"
    }
   ],
   "source": [
    "cfd1.conditions()"
   ]
  },
  {
   "cell_type": "code",
   "execution_count": 8,
   "id": "94717d09",
   "metadata": {},
   "outputs": [
    {
     "name": "stdout",
     "output_type": "stream",
     "text": [
      "        1789 1793 1797 1805 1813 1817 1821 1833 1837 1841 1849 1853 1857 1861 1865 1877 1881 1885 1889 1893 1897 1901 1909 1917 1921 1925 1929 1933 1937 1941 1945 1949 1953 1957 1961 1965 1969 1973 1977 1981 1985 1989 1993 1997 2001 2005 2009 2013 2017 2021 \n",
      "america    2    3   11   12   13   14   16   18   20   27   29   31   34   36   37   38   40   44   50   59   68   75   87   91  115  126  138  140  145  157  159  163  169  176  183  193  203  226  231  247  268  279  312  343  363  393  408  427  462  502 \n"
     ]
    }
   ],
   "source": [
    "cfd1.tabulate(conditions=['america'], cumulative=True)"
   ]
  },
  {
   "cell_type": "code",
   "execution_count": 9,
   "id": "ef461733",
   "metadata": {},
   "outputs": [],
   "source": [
    "languages=['English']"
   ]
  },
  {
   "cell_type": "code",
   "execution_count": 10,
   "id": "60d1479e",
   "metadata": {},
   "outputs": [],
   "source": [
    "udhr_words=[(lang, len(word))\n",
    "        for lang in languages\n",
    "        for word in udhr.words(lang + '-Latin1')]"
   ]
  },
  {
   "cell_type": "code",
   "execution_count": 11,
   "id": "c0ea2aea",
   "metadata": {},
   "outputs": [],
   "source": [
    "cfd2 = nltk.ConditionalFreqDist(udhr_words)"
   ]
  },
  {
   "cell_type": "code",
   "execution_count": 12,
   "id": "bd58f601",
   "metadata": {},
   "outputs": [
    {
     "name": "stdout",
     "output_type": "stream",
     "text": [
      "           0    1    2    3    4    5    6    7    8    9 \n",
      "English    0  185  525  883  997 1166 1283 1440 1558 1638 \n"
     ]
    }
   ],
   "source": [
    "cfd2.tabulate(conditions=['English'],samples=range(10), cumulative=True)"
   ]
  },
  {
   "cell_type": "code",
   "execution_count": null,
   "id": "3d3a2cc8",
   "metadata": {},
   "outputs": [],
   "source": []
  }
 ],
 "metadata": {
  "kernelspec": {
   "display_name": "Python 3 (ipykernel)",
   "language": "python",
   "name": "python3"
  },
  "language_info": {
   "codemirror_mode": {
    "name": "ipython",
    "version": 3
   },
   "file_extension": ".py",
   "mimetype": "text/x-python",
   "name": "python",
   "nbconvert_exporter": "python",
   "pygments_lexer": "ipython3",
   "version": "3.11.5"
  }
 },
 "nbformat": 4,
 "nbformat_minor": 5
}
