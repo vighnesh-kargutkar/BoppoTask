{
 "cells": [
  {
   "cell_type": "code",
   "execution_count": 1,
   "id": "892231b0-c773-4a2b-84b9-82ce9c1348b9",
   "metadata": {},
   "outputs": [
    {
     "name": "stdout",
     "output_type": "stream",
     "text": [
      "<bound method Synset.name of Synset('bank.n.01')>: <bound method Synset.definition of Synset('bank.n.01')>\n",
      "<bound method Synset.name of Synset('set.n.01')>: <bound method Synset.definition of Synset('set.n.01')>\n",
      "<bound method Synset.name of Synset('put.v.01')>: <bound method Synset.definition of Synset('put.v.01')>\n"
     ]
    }
   ],
   "source": [
    "#Word Sense Disambiguation \n",
    "from nltk.corpus import wordnet as wn \n",
    "def get_first_sense(word, pos=None): \n",
    "    if pos: \n",
    "        synsets = wn.synsets(word,pos) \n",
    "    else: \n",
    "        synsets = wn.synsets(word) \n",
    "    return synsets[0] \n",
    "best_synset = get_first_sense('bank') \n",
    "print ('%s: %s' % (best_synset.name, best_synset.definition)) \n",
    "best_synset = get_first_sense('set','n') \n",
    "print ('%s: %s' % (best_synset.name, best_synset.definition)) \n",
    "best_synset = get_first_sense('set','v') \n",
    "print ('%s: %s' % (best_synset.name, best_synset.definition)) "
   ]
  },
  {
   "cell_type": "code",
   "execution_count": null,
   "id": "013b3a78-3287-4baf-93e9-28e6795ffb3b",
   "metadata": {},
   "outputs": [],
   "source": []
  }
 ],
 "metadata": {
  "kernelspec": {
   "display_name": "Python 3 (ipykernel)",
   "language": "python",
   "name": "python3"
  },
  "language_info": {
   "codemirror_mode": {
    "name": "ipython",
    "version": 3
   },
   "file_extension": ".py",
   "mimetype": "text/x-python",
   "name": "python",
   "nbconvert_exporter": "python",
   "pygments_lexer": "ipython3",
   "version": "3.10.12"
  }
 },
 "nbformat": 4,
 "nbformat_minor": 5
}
