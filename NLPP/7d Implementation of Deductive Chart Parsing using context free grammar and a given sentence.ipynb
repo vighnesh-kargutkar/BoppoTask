{
 "cells": [
  {
   "cell_type": "code",
   "execution_count": 1,
   "id": "2548e8ac-a8e5-446e-9cd3-8e0c31512138",
   "metadata": {},
   "outputs": [],
   "source": [
    "import nltk\n",
    "from nltk import CFG, ChartParser, word_tokenize"
   ]
  },
  {
   "cell_type": "code",
   "execution_count": 2,
   "id": "34819676-c529-45c6-b023-a523e57b1bdf",
   "metadata": {},
   "outputs": [],
   "source": [
    "grammar1 = CFG.fromstring(\"\"\"\n",
    "S -> NP VP\n",
    "PP -> P NP\n",
    "NP -> Det N | Det N PP | 'I'\n",
    "VP -> V NP | VP PP\n",
    "Det -> 'a' | 'my'\n",
    "N -> 'bird' | 'balcony'\n",
    "V -> 'saw'\n",
    "P -> 'in'\n",
    "\"\"\")\n",
    "sentence = \"I saw a bird in my balcony\""
   ]
  },
  {
   "cell_type": "code",
   "execution_count": 3,
   "id": "18a1f2e8-7df0-4763-847c-669f429aab77",
   "metadata": {},
   "outputs": [
    {
     "name": "stdout",
     "output_type": "stream",
     "text": [
      "['I', 'saw', 'a', 'bird', 'in', 'my', 'balcony']\n"
     ]
    }
   ],
   "source": [
    "all_token = word_tokenize(sentence)\n",
    "print(all_token)"
   ]
  },
  {
   "cell_type": "code",
   "execution_count": 4,
   "id": "ecc1440f-bdd6-42bf-8a4c-ecd77f108c19",
   "metadata": {},
   "outputs": [
    {
     "name": "stdout",
     "output_type": "stream",
     "text": [
      "(S\n",
      "  (NP I)\n",
      "  (VP\n",
      "    (VP (V saw) (NP (Det a) (N bird)))\n",
      "    (PP (P in) (NP (Det my) (N balcony)))))\n",
      "(S\n",
      "  (NP I)\n",
      "  (VP\n",
      "    (V saw)\n",
      "    (NP (Det a) (N bird) (PP (P in) (NP (Det my) (N balcony))))))\n"
     ]
    }
   ],
   "source": [
    "parser = ChartParser(grammar1)\n",
    "for i in parser.parse(all_token):\n",
    "    print(i)"
   ]
  },
  {
   "cell_type": "code",
   "execution_count": null,
   "id": "e330fe38-6f9d-4b65-a4ad-ec45f341ceac",
   "metadata": {},
   "outputs": [],
   "source": []
  }
 ],
 "metadata": {
  "kernelspec": {
   "display_name": "Python 3 (ipykernel)",
   "language": "python",
   "name": "python3"
  },
  "language_info": {
   "codemirror_mode": {
    "name": "ipython",
    "version": 3
   },
   "file_extension": ".py",
   "mimetype": "text/x-python",
   "name": "python",
   "nbconvert_exporter": "python",
   "pygments_lexer": "ipython3",
   "version": "3.10.12"
  }
 },
 "nbformat": 4,
 "nbformat_minor": 5
}
