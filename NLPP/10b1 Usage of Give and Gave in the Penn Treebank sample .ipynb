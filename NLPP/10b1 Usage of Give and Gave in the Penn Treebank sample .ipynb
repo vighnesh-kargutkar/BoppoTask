{
 "cells": [
  {
   "cell_type": "code",
   "execution_count": 1,
   "id": "1e0975e8-78e5-4da9-8bf6-87047ba86a46",
   "metadata": {},
   "outputs": [],
   "source": [
    "import nltk \n",
    "import nltk.parse.viterbi \n",
    "import nltk.parse.pchart "
   ]
  },
  {
   "cell_type": "code",
   "execution_count": 12,
   "id": "9df38a48-3352-4fc3-a9f9-ed27475dd0a1",
   "metadata": {},
   "outputs": [],
   "source": [
    "def give(t): \n",
    "    return t.label() == 'VP' and len(t) > 2 and t[1].label() == 'NP'\\\n",
    "        and (t[2].label() == 'PP-DTV' or t[2].label() == 'NP')\\\n",
    "        and ('give' in t[0].leaves() or 'gave' in t[0].leaves())"
   ]
  },
  {
   "cell_type": "code",
   "execution_count": 13,
   "id": "a7a671fc-57c0-4fc7-b2cc-4106b6f3f16c",
   "metadata": {},
   "outputs": [],
   "source": [
    "def sent(t): \n",
    "    return ' '.join(token for token in t.leaves() if token[0] not in '*-0')"
   ]
  },
  {
   "cell_type": "code",
   "execution_count": 22,
   "id": "c384dc1d-0dc3-4423-9433-a084295f4903",
   "metadata": {},
   "outputs": [],
   "source": [
    "def print_node(t, width): \n",
    "    output = \"%s %s: %s / %s: %s\" % (sent(t[0]), t[1].label(), sent(t[1]), t[2].label(), sent(t[2])) \n",
    "    if len(output) > width:\n",
    "        output = output[:width] + \"...\" \n",
    "    print (output) "
   ]
  },
  {
   "cell_type": "code",
   "execution_count": 23,
   "id": "afc719c2-0c69-4317-b7db-0a8a845fb994",
   "metadata": {},
   "outputs": [
    {
     "name": "stdout",
     "output_type": "stream",
     "text": [
      "gave NP: the chefs / NP: a standing ovation\n",
      "give NP: advertisers / NP: discounts for maintaining or increasing ad sp...\n",
      "give NP: it / PP-DTV: to the politicians\n",
      "gave NP: them / NP: similar help\n",
      "give NP: them / NP: \n",
      "give NP: only French history questions / PP-DTV: to students in a Europe...\n",
      "give NP: federal judges / NP: a raise\n",
      "give NP: consumers / NP: the straight scoop on the U.S. waste crisis\n",
      "gave NP: Mitsui / NP: access to a high-tech medical product\n",
      "give NP: Mitsubishi / NP: a window on the U.S. glass industry\n",
      "give NP: much thought / PP-DTV: to the rates she was receiving , nor to ...\n",
      "give NP: your Foster Savings Institution / NP: the gift of hope and free...\n",
      "give NP: market operators / NP: the authority to suspend trading in futu...\n",
      "gave NP: quick approval / PP-DTV: to $ 3.18 billion in supplemental appr...\n",
      "give NP: the Transportation Department / NP: up to 50 days to review any...\n",
      "give NP: the president / NP: such power\n",
      "give NP: me / NP: the heebie-jeebies\n",
      "give NP: holders / NP: the right , but not the obligation , to buy a cal...\n",
      "gave NP: Mr. Thomas / NP: only a `` qualified '' rating , rather than ``...\n",
      "give NP: the president / NP: line-item veto power\n"
     ]
    }
   ],
   "source": [
    "for tree in nltk.corpus.treebank.parsed_sents(): \n",
    "    for t in tree.subtrees(give): \n",
    "        print_node(t, 72)"
   ]
  },
  {
   "cell_type": "code",
   "execution_count": null,
   "id": "cb8e3e4c-44e5-4f7c-8521-facfa17df7ff",
   "metadata": {},
   "outputs": [],
   "source": []
  }
 ],
 "metadata": {
  "kernelspec": {
   "display_name": "Python 3 (ipykernel)",
   "language": "python",
   "name": "python3"
  },
  "language_info": {
   "codemirror_mode": {
    "name": "ipython",
    "version": 3
   },
   "file_extension": ".py",
   "mimetype": "text/x-python",
   "name": "python",
   "nbconvert_exporter": "python",
   "pygments_lexer": "ipython3",
   "version": "3.10.12"
  }
 },
 "nbformat": 4,
 "nbformat_minor": 5
}
