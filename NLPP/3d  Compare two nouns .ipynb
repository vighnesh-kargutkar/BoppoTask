{
 "cells": [
  {
   "cell_type": "code",
   "execution_count": 2,
   "id": "b0a25bd6",
   "metadata": {},
   "outputs": [],
   "source": [
    "import nltk \n",
    "from nltk.corpus import wordnet "
   ]
  },
  {
   "cell_type": "code",
   "execution_count": 3,
   "id": "2cf0d5a7",
   "metadata": {},
   "outputs": [],
   "source": [
    "syn1 = wordnet.synsets('football') \n",
    "syn2 = wordnet.synsets('soccer') "
   ]
  },
  {
   "cell_type": "code",
   "execution_count": 5,
   "id": "16b1dd05",
   "metadata": {},
   "outputs": [
    {
     "name": "stdout",
     "output_type": "stream",
     "text": [
      "Path similarity of: \n",
      "Synset('football.n.01') ( n ) [ any of various games played with a ball (round or oval) in which two teams try to kick or carry or propel the ball into each other's goal ]\n",
      "Synset('soccer.n.01') ( n ) [ a football game in which two teams of 11 players try to kick or head a ball into the opponents' goal ]\n",
      "   is 0.5\n",
      "Path similarity of: \n",
      "Synset('football.n.02') ( n ) [ the inflated oblong ball used in playing American football ]\n",
      "Synset('soccer.n.01') ( n ) [ a football game in which two teams of 11 players try to kick or head a ball into the opponents' goal ]\n",
      "   is 0.05\n"
     ]
    }
   ],
   "source": [
    "for s1 in syn1: \n",
    "    for s2 in syn2: \n",
    "        print(\"Path similarity of: \") \n",
    "        print(s1, '(', s1.pos(), ')', '[', s1.definition(), ']') \n",
    "        print(s2, '(', s2.pos(), ')', '[', s2.definition(), ']') \n",
    "        print(\"   is\", s1.path_similarity(s2)) \n"
   ]
  },
  {
   "cell_type": "code",
   "execution_count": null,
   "id": "48c34967",
   "metadata": {},
   "outputs": [],
   "source": []
  }
 ],
 "metadata": {
  "kernelspec": {
   "display_name": "Python 3 (ipykernel)",
   "language": "python",
   "name": "python3"
  },
  "language_info": {
   "codemirror_mode": {
    "name": "ipython",
    "version": 3
   },
   "file_extension": ".py",
   "mimetype": "text/x-python",
   "name": "python",
   "nbconvert_exporter": "python",
   "pygments_lexer": "ipython3",
   "version": "3.11.5"
  }
 },
 "nbformat": 4,
 "nbformat_minor": 5
}
