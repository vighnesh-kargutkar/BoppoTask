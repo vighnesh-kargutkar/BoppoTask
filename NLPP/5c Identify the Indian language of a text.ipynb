{
 "cells": [
  {
   "cell_type": "code",
   "execution_count": null,
   "id": "15ff5d40",
   "metadata": {},
   "outputs": [],
   "source": [
    "!pip install torch==1.3.1+cpu -f https://download.pytorch.org/whl/torch_stable.html \n",
    "!pip install inltk \n",
    "!pip install tornado==4.5.3 \n",
    "from inltk.inltk import setup \n",
    "setup('gu') \n",
    "from inltk.inltk import identify_language \n",
    "#Identify the Lnaguage of given text \n",
    "identify_language('બીના કાપડિયા') "
   ]
  }
 ],
 "metadata": {
  "kernelspec": {
   "display_name": "Python 3 (ipykernel)",
   "language": "python",
   "name": "python3"
  }
 },
 "nbformat": 4,
 "nbformat_minor": 5
}
