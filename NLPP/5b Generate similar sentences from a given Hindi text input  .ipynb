{
 "cells": [
  {
   "cell_type": "code",
   "execution_count": null,
   "id": "1a7cba5d",
   "metadata": {},
   "outputs": [],
   "source": [
    "!pip install torch==1.3.1+cpu -f https://download.pytorch.org/whl/torch_stable.html \n",
    "!pip install inltk \n",
    "!pip install tornado==4.5.3 \n",
    "from inltk.inltk import setup \n",
    "setup('hi') \n",
    "from inltk.inltk import get_similar_sentences \n",
    "# get similar sentences to the one given in hindi \n",
    "output = get_similar_sentences('मैं आज बहुि खुश हूं', 5, 'hi') \n",
    "print(output) "
   ]
  },
  {
   "cell_type": "code",
   "execution_count": null,
   "id": "eeab80ac",
   "metadata": {},
   "outputs": [],
   "source": []
  }
 ],
 "metadata": {
  "kernelspec": {
   "display_name": "Python 3 (ipykernel)",
   "language": "python",
   "name": "python3"
  }
 },
 "nbformat": 4,
 "nbformat_minor": 5
}
