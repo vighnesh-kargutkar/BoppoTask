{
 "cells": [
  {
   "cell_type": "code",
   "execution_count": 1,
   "id": "7e5a9c33-22a6-4c62-972f-d0fac9f16a7e",
   "metadata": {},
   "outputs": [],
   "source": [
    "def FA(s):\n",
    "    if len(s) < 3:\n",
    "        return \"rejected\"\n",
    "    if s[0] == '1':\n",
    "        if s[1] == '0':\n",
    "            if s[2] == '1':\n",
    "                \n",
    "                for i in range (3,len(s)):\n",
    "                    if s[i] != '1':\n",
    "                         return \"rejected\"\n",
    "                return \"Accepted\"\n",
    "            \n",
    "    return \"rejected\"\n",
    "inputs=['1','10101','101','10111','01010','100','','10111101','1011111']"
   ]
  },
  {
   "cell_type": "code",
   "execution_count": 2,
   "id": "35343842-424a-44f3-80b5-4a075a81fe69",
   "metadata": {},
   "outputs": [
    {
     "name": "stdout",
     "output_type": "stream",
     "text": [
      "1 == rejected\n",
      "10101 == rejected\n",
      "101 == Accepted\n",
      "10111 == Accepted\n",
      "01010 == rejected\n",
      "100 == rejected\n",
      " == rejected\n",
      "10111101 == rejected\n",
      "1011111 == Accepted\n"
     ]
    }
   ],
   "source": [
    "for i in inputs:\n",
    "    print(f\"{i} == {FA(i)}\")"
   ]
  },
  {
   "cell_type": "code",
   "execution_count": null,
   "id": "9ff1aa66-48f5-4fd7-9a50-b80efa7d13e3",
   "metadata": {},
   "outputs": [],
   "source": []
  }
 ],
 "metadata": {
  "kernelspec": {
   "display_name": "Python 3 (ipykernel)",
   "language": "python",
   "name": "python3"
  },
  "language_info": {
   "codemirror_mode": {
    "name": "ipython",
    "version": 3
   },
   "file_extension": ".py",
   "mimetype": "text/x-python",
   "name": "python",
   "nbconvert_exporter": "python",
   "pygments_lexer": "ipython3",
   "version": "3.10.12"
  }
 },
 "nbformat": 4,
 "nbformat_minor": 5
}
