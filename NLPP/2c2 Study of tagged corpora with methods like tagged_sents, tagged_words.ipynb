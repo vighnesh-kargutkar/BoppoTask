{
 "cells": [
  {
   "cell_type": "code",
   "execution_count": 2,
   "id": "6119ef8e",
   "metadata": {},
   "outputs": [
    {
     "name": "stdout",
     "output_type": "stream",
     "text": [
      "\n",
      "sentence tokenization\n",
      "===================\n",
      " ['Hello!', 'My name is Beena Kapadia.', \"Today you'll be learning NLTK.\"]\n",
      "\n",
      "word tokenization\n",
      "===================\n",
      "\n",
      "['Hello', '!']\n",
      "['My', 'name', 'is', 'Beena', 'Kapadia', '.']\n",
      "['Today', 'you', \"'ll\", 'be', 'learning', 'NLTK', '.']\n"
     ]
    }
   ],
   "source": [
    "import nltk \n",
    "from nltk import tokenize \n",
    "para = \"Hello! My name is Beena Kapadia. Today you'll be learning NLTK.\" \n",
    "sents = tokenize.sent_tokenize(para) \n",
    "print(\"\\nsentence tokenization\\n===================\\n\",sents) \n",
    "\n",
    "print(\"\\nword tokenization\\n===================\\n\") \n",
    "for index in range(len(sents)): \n",
    "    words = tokenize.word_tokenize(sents[index]) \n",
    "    print(words) "
   ]
  },
  {
   "cell_type": "code",
   "execution_count": null,
   "id": "4c93e5ef",
   "metadata": {},
   "outputs": [],
   "source": []
  }
 ],
 "metadata": {
  "kernelspec": {
   "display_name": "Python 3 (ipykernel)",
   "language": "python",
   "name": "python3"
  },
  "language_info": {
   "codemirror_mode": {
    "name": "ipython",
    "version": 3
   },
   "file_extension": ".py",
   "mimetype": "text/x-python",
   "name": "python",
   "nbconvert_exporter": "python",
   "pygments_lexer": "ipython3",
   "version": "3.11.5"
  }
 },
 "nbformat": 4,
 "nbformat_minor": 5
}
