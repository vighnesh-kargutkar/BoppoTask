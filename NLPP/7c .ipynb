{
 "cells": [
  {
   "cell_type": "code",
   "execution_count": 1,
   "id": "a327eb00-b54d-46f7-a83d-3468e7eac3f8",
   "metadata": {},
   "outputs": [],
   "source": [
    "def FA(s):\n",
    "    size = 0 \n",
    "    for i in s:\n",
    "        if  i == 'a'or i == 'b':\n",
    "            size+=1\n",
    "        else:\n",
    "            return \"rejected\"\n",
    "    if size >= 3 :\n",
    "        if s[size-3] == 'b':\n",
    "            if s[size-2] == 'b':\n",
    "                    if s[size-1] == 'a':\n",
    "                        return \"accepted\"\n",
    "                    return \"rejected\"\n",
    "            return \"rejected\"\n",
    "        return \"rejected\"\n",
    "    return \"rejected\"\n",
    "                        "
   ]
  },
  {
   "cell_type": "code",
   "execution_count": 2,
   "id": "39dd133e-bbe5-4d1c-b20f-0105907336e4",
   "metadata": {},
   "outputs": [
    {
     "name": "stdout",
     "output_type": "stream",
     "text": [
      "bba == accepted\n",
      "ababbba == accepted\n",
      "abba == accepted\n",
      "abb == rejected\n",
      "baba == rejected\n",
      "bbb == rejected\n",
      " == rejected\n"
     ]
    }
   ],
   "source": [
    "inputs = ['bba', 'ababbba', 'abba', 'abb', 'baba', 'bbb', '']\n",
    "for i in inputs:\n",
    "    print(f'{i} == {FA(i)}')"
   ]
  },
  {
   "cell_type": "code",
   "execution_count": null,
   "id": "ad8652f5-0921-4cd7-b897-38d4a905f26c",
   "metadata": {},
   "outputs": [],
   "source": []
  }
 ],
 "metadata": {
  "kernelspec": {
   "display_name": "Python 3 (ipykernel)",
   "language": "python",
   "name": "python3"
  },
  "language_info": {
   "codemirror_mode": {
    "name": "ipython",
    "version": 3
   },
   "file_extension": ".py",
   "mimetype": "text/x-python",
   "name": "python",
   "nbconvert_exporter": "python",
   "pygments_lexer": "ipython3",
   "version": "3.10.12"
  }
 },
 "nbformat": 4,
 "nbformat_minor": 5
}
