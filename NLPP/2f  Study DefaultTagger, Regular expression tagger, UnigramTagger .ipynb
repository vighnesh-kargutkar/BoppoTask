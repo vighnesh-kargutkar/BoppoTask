{
 "cells": [
  {
   "cell_type": "code",
   "execution_count": 7,
   "id": "4b7368fe",
   "metadata": {},
   "outputs": [],
   "source": [
    "from nltk.corpus import brown\n",
    "import nltk"
   ]
  },
  {
   "cell_type": "code",
   "execution_count": 9,
   "id": "0625c5f6",
   "metadata": {},
   "outputs": [],
   "source": [
    "raw = 'I do not like green eggs and ham, I do not like them Sam I am!'\n",
    "token = nltk.word_tokenize(raw)"
   ]
  },
  {
   "cell_type": "code",
   "execution_count": 12,
   "id": "cf3dab74",
   "metadata": {},
   "outputs": [
    {
     "data": {
      "text/plain": [
       "[('I', 'NN'),\n",
       " ('do', 'NN'),\n",
       " ('not', 'NN'),\n",
       " ('like', 'NN'),\n",
       " ('green', 'NN'),\n",
       " ('eggs', 'NN'),\n",
       " ('and', 'NN'),\n",
       " ('ham', 'NN'),\n",
       " (',', 'NN'),\n",
       " ('I', 'NN'),\n",
       " ('do', 'NN'),\n",
       " ('not', 'NN'),\n",
       " ('like', 'NN'),\n",
       " ('them', 'NN'),\n",
       " ('Sam', 'NN'),\n",
       " ('I', 'NN'),\n",
       " ('am', 'NN'),\n",
       " ('!', 'NN')]"
      ]
     },
     "execution_count": 12,
     "metadata": {},
     "output_type": "execute_result"
    }
   ],
   "source": [
    "default_tagger = nltk.DefaultTagger('NN')\n",
    "default_tagger.tag(token)"
   ]
  },
  {
   "cell_type": "code",
   "execution_count": 13,
   "id": "b494c515",
   "metadata": {},
   "outputs": [],
   "source": [
    "#Regular Expression Tagger:"
   ]
  },
  {
   "cell_type": "code",
   "execution_count": 14,
   "id": "d0fd942a",
   "metadata": {},
   "outputs": [],
   "source": [
    "\n",
    "import nltk\n",
    "# nltk.download('brown')\n",
    "# nltk.download('punkt')\n",
    "from nltk.corpus import brown\n",
    "from nltk import word_tokenize\n",
    "from nltk import RegexpTagger"
   ]
  },
  {
   "cell_type": "code",
   "execution_count": 15,
   "id": "1bd66c31",
   "metadata": {},
   "outputs": [],
   "source": [
    "brown_sents = brown.sents(categories = 'news')\n",
    "brown_tagged_sents = brown.tagged_sents(categories = 'news')"
   ]
  },
  {
   "cell_type": "code",
   "execution_count": 16,
   "id": "0e9e2331",
   "metadata": {},
   "outputs": [
    {
     "data": {
      "text/plain": [
       "[('``', 'NN'),\n",
       " ('Only', 'NN'),\n",
       " ('a', 'NN'),\n",
       " ('relative', 'NN'),\n",
       " ('handful', 'NN'),\n",
       " ('of', 'NN'),\n",
       " ('such', 'NN'),\n",
       " ('reports', 'NNS'),\n",
       " ('was', 'NNS'),\n",
       " ('received', 'VBD'),\n",
       " (\"''\", 'NN'),\n",
       " (',', 'NN'),\n",
       " ('the', 'NN'),\n",
       " ('jury', 'NN'),\n",
       " ('said', 'NN'),\n",
       " (',', 'NN'),\n",
       " ('``', 'NN'),\n",
       " ('considering', 'VBG'),\n",
       " ('the', 'NN'),\n",
       " ('widespread', 'NN'),\n",
       " ('interest', 'NN'),\n",
       " ('in', 'NN'),\n",
       " ('the', 'NN'),\n",
       " ('election', 'NN'),\n",
       " (',', 'NN'),\n",
       " ('the', 'NN'),\n",
       " ('number', 'NN'),\n",
       " ('of', 'NN'),\n",
       " ('voters', 'NNS'),\n",
       " ('and', 'NN'),\n",
       " ('the', 'NN'),\n",
       " ('size', 'NN'),\n",
       " ('of', 'NN'),\n",
       " ('this', 'NNS'),\n",
       " ('city', 'NN'),\n",
       " (\"''\", 'NN'),\n",
       " ('.', 'NN')]"
      ]
     },
     "execution_count": 16,
     "metadata": {},
     "output_type": "execute_result"
    }
   ],
   "source": [
    "patterns = [\n",
    "(r'.*ing$', 'VBG'), # gerunds\n",
    "(r'.*ed$', 'VBD'), # simple past\n",
    "(r'.*es$', 'VBZ'), # 3rd singular present\n",
    "(r'.*ould$', 'MD'), # modals\n",
    "(r'.*\\'s$', 'NN$'), # possessive nouns\n",
    "(r'.*s$', 'NNS'), # plural nouns\n",
    "(r'^-?[0-9]+(\\.[0-9]+)?$', 'CD'), # cardinal numbers\n",
    "(r'.*', 'NN') # nouns (default)\n",
    "]\n",
    "regexp_tagger = nltk.RegexpTagger(patterns)\n",
    "regexp_tagger.tag(brown_sents[3])"
   ]
  },
  {
   "cell_type": "code",
   "execution_count": 21,
   "id": "7043394a",
   "metadata": {},
   "outputs": [],
   "source": [
    "import nltk\n",
    "# nltk.download('brown')\n",
    "# nltk.download('punkt')\n",
    "from nltk.corpus import brown\n",
    "from nltk import UnigramTagger"
   ]
  },
  {
   "cell_type": "code",
   "execution_count": 22,
   "id": "4e56674b",
   "metadata": {},
   "outputs": [],
   "source": [
    "brown_tagged_sents = brown.tagged_sents(categories = 'news')\n",
    "brown_sents = brown.sents(categories = 'news')"
   ]
  },
  {
   "cell_type": "code",
   "execution_count": 23,
   "id": "44847da1",
   "metadata": {},
   "outputs": [],
   "source": [
    "unigram_tagger = nltk.UnigramTagger(brown_tagged_sents)\n",
    "tags = unigram_tagger.tag(brown_sents[2007])"
   ]
  },
  {
   "cell_type": "code",
   "execution_count": 25,
   "id": "8c3e1029",
   "metadata": {},
   "outputs": [
    {
     "name": "stdout",
     "output_type": "stream",
     "text": [
      "\n",
      "Displaying the tags from brown sents : \n",
      " [('Various', 'JJ'), ('of', 'IN'), ('the', 'AT'), ('apartments', 'NNS'), ('are', 'BER'), ('of', 'IN'), ('the', 'AT'), ('terrace', 'NN'), ('type', 'NN'), (',', ','), ('being', 'BEG'), ('on', 'IN'), ('the', 'AT'), ('ground', 'NN'), ('floor', 'NN'), ('so', 'QL'), ('that', 'CS'), ('entrance', 'NN'), ('is', 'BEZ'), ('direct', 'JJ'), ('.', '.')]\n"
     ]
    },
    {
     "name": "stderr",
     "output_type": "stream",
     "text": [
      "C:\\Users\\kargu\\AppData\\Local\\Temp\\ipykernel_22632\\3249616376.py:2: DeprecationWarning: \n",
      "  Function evaluate() has been deprecated.  Use accuracy(gold)\n",
      "  instead.\n",
      "  evaluation = unigram_tagger.evaluate(brown_tagged_sents)\n"
     ]
    },
    {
     "name": "stdout",
     "output_type": "stream",
     "text": [
      "\n",
      "Evaluation of brown tagged sents :  0.9349006503968017\n"
     ]
    }
   ],
   "source": [
    "print(\"\\nDisplaying the tags from brown sents : \\n\", tags)\n",
    "evaluation = unigram_tagger.evaluate(brown_tagged_sents)\n",
    "print(\"\\nEvaluation of brown tagged sents : \", evaluation)"
   ]
  },
  {
   "cell_type": "code",
   "execution_count": null,
   "id": "fc61f01c",
   "metadata": {},
   "outputs": [],
   "source": []
  }
 ],
 "metadata": {
  "kernelspec": {
   "display_name": "Python 3 (ipykernel)",
   "language": "python",
   "name": "python3"
  },
  "language_info": {
   "codemirror_mode": {
    "name": "ipython",
    "version": 3
   },
   "file_extension": ".py",
   "mimetype": "text/x-python",
   "name": "python",
   "nbconvert_exporter": "python",
   "pygments_lexer": "ipython3",
   "version": "3.11.5"
  }
 },
 "nbformat": 4,
 "nbformat_minor": 5
}
