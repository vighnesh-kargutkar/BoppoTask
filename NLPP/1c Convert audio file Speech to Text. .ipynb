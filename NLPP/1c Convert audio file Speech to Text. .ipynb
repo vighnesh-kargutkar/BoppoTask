{
 "cells": [
  {
   "cell_type": "code",
   "execution_count": null,
   "id": "d4dd39e2",
   "metadata": {},
   "outputs": [],
   "source": [
    "from gtts import gTTS \n",
    "import os \n",
    "f = open('file.txt') \n",
    "x=f.read() \n",
    "langauge='en' \n",
    "audio=gTTS(text=x,lang=langauge) \n",
    "audio.save(\"wishes.wav\") \n",
    "os.system(\"wishes.wav\") "
   ]
  }
 ],
 "metadata": {
  "kernelspec": {
   "display_name": "Python 3 (ipykernel)",
   "language": "python",
   "name": "python3"
  },
  "language_info": {
   "codemirror_mode": {
    "name": "ipython",
    "version": 3
   },
   "file_extension": ".py",
   "mimetype": "text/x-python",
   "name": "python",
   "nbconvert_exporter": "python",
   "pygments_lexer": "ipython3",
   "version": "3.11.5"
  }
 },
 "nbformat": 4,
 "nbformat_minor": 5
}
