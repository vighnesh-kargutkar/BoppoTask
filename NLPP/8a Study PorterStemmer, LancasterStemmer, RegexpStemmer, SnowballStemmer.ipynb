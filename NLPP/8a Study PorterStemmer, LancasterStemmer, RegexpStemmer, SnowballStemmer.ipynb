{
 "cells": [
  {
   "cell_type": "code",
   "execution_count": 1,
   "id": "25c6b5a0-3fc1-47d3-b7c1-14f78e5a8244",
   "metadata": {},
   "outputs": [],
   "source": [
    "import nltk\n",
    "from nltk.stem import PorterStemmer\n",
    "from nltk.tokenize import sent_tokenize, word_tokenize"
   ]
  },
  {
   "cell_type": "code",
   "execution_count": 10,
   "id": "44433895-d31c-4b22-b857-e851352f7bf4",
   "metadata": {},
   "outputs": [
    {
     "name": "stdout",
     "output_type": "stream",
     "text": [
      "gene\n",
      "gene\n",
      "genesi\n",
      "genet\n",
      "gener\n",
      "gener\n"
     ]
    }
   ],
   "source": [
    "porter = PorterStemmer()\n",
    "terms=[\"gene\",\"genes\",\"genesis\",\"genetic\",\"generic\",\"general\"]\n",
    "for i in terms:\n",
    "    print(porter.stem(i))\n"
   ]
  },
  {
   "cell_type": "code",
   "execution_count": 11,
   "id": "407f0c26-649f-4da9-b1e6-e5bfd9880510",
   "metadata": {},
   "outputs": [
    {
     "name": "stdout",
     "output_type": "stream",
     "text": [
      "heya\n",
      ",\n",
      "i\n",
      "like\n",
      "cricket\n",
      "footbal\n",
      "and\n",
      "gymnast\n"
     ]
    }
   ],
   "source": [
    "sentence = \"Heya, i like cricketers footballers and gymnastics\"  \n",
    "words = word_tokenize(sentence,language='English')\n",
    "for i in words:\n",
    "    print(porter.stem(i))\n"
   ]
  },
  {
   "cell_type": "code",
   "execution_count": 12,
   "id": "c84ae159-01d8-4e5d-be44-23627349d31f",
   "metadata": {},
   "outputs": [],
   "source": [
    "import nltk\n",
    "from nltk.stem import LancasterStemmer\n",
    "from nltk.tokenize import word_tokenize"
   ]
  },
  {
   "cell_type": "code",
   "execution_count": 13,
   "id": "e0fc4afb-d63f-4d2d-81bb-b75a404a837a",
   "metadata": {},
   "outputs": [
    {
     "name": "stdout",
     "output_type": "stream",
     "text": [
      "enjoy\n",
      "enjoy\n",
      "enjoy\n",
      "enjoy\n",
      "enjoy\n",
      "enjoy\n"
     ]
    }
   ],
   "source": [
    "lancer = LancasterStemmer()\n",
    "terms = [\"enjoy\", \"enjoying\", \"enjoyed\", \"enjoyable\", \"enjoyment\", \"enjoyful\"]  \n",
    "for i in terms:\n",
    "    print(lancer.stem(i))"
   ]
  },
  {
   "cell_type": "code",
   "execution_count": 14,
   "id": "3a674a08-8a8a-4f01-9c0b-59b13a182af9",
   "metadata": {},
   "outputs": [
    {
     "name": "stdout",
     "output_type": "stream",
     "text": [
      "hey\n",
      ",\n",
      "i\n",
      "lik\n",
      "cricket\n",
      "footbal\n",
      "and\n",
      "gymnast\n"
     ]
    }
   ],
   "source": [
    "sentence = \"Heya, i like cricketers footballers and gymnastics\"  \n",
    "words = word_tokenize(sentence,language='English')\n",
    "for i in words:\n",
    "    print(lancer.stem(i))\n"
   ]
  },
  {
   "cell_type": "code",
   "execution_count": 15,
   "id": "45609f26-6d6d-42a3-b3a9-d4896c70e6af",
   "metadata": {},
   "outputs": [],
   "source": [
    "import nltk\n",
    "from nltk.stem import SnowballStemmer\n",
    "from nltk.tokenize import word_tokenize"
   ]
  },
  {
   "cell_type": "code",
   "execution_count": 16,
   "id": "c627c139-0adc-41b5-a8cd-35a82fa48047",
   "metadata": {},
   "outputs": [
    {
     "name": "stdout",
     "output_type": "stream",
     "text": [
      "vibe\n"
     ]
    }
   ],
   "source": [
    "snow_eng = SnowballStemmer(\"english\")\n",
    "word= snow_eng.stem('Vibing')\n",
    "print(word)"
   ]
  },
  {
   "cell_type": "code",
   "execution_count": 17,
   "id": "c7e120a5-bd77-406c-abf9-c4af83f302a2",
   "metadata": {},
   "outputs": [
    {
     "name": "stdout",
     "output_type": "stream",
     "text": [
      "sid\n",
      "cheer\n",
      "braveri\n",
      "draw\n",
      "satisfactorili\n",
      "publish\n",
      "pain\n",
      "hardwork\n",
      "key\n"
     ]
    }
   ],
   "source": [
    "terms = [\"sid\", \"cheerful\", \"bravery\",\"drawing\", \"satisfactorily\", \"publisher\",\"painful\", \"hardworking\",  \"keys\"]  \n",
    "for i in terms:\n",
    "    print(snow_eng.stem(i))"
   ]
  },
  {
   "cell_type": "code",
   "execution_count": 18,
   "id": "0c31aa31-3ebe-483f-b0fd-db318c9abf5b",
   "metadata": {},
   "outputs": [],
   "source": [
    "import nltk  \n",
    "from nltk.stem import RegexpStemmer  \n",
    "reg = RegexpStemmer('ing$|s$|e$|able$|ment$|less$|ly$$',min=4)"
   ]
  },
  {
   "cell_type": "code",
   "execution_count": 19,
   "id": "19965a52-23d3-4efe-a962-60eda32c17ed",
   "metadata": {},
   "outputs": [
    {
     "name": "stdout",
     "output_type": "stream",
     "text": [
      "car\n",
      "play\n",
      "comput\n",
      "manage\n",
      "play\n",
      "flaw\n"
     ]
    }
   ],
   "source": [
    "print(reg.stem('cars'))\n",
    "print(reg.stem('playing'))\n",
    "print(reg.stem('compute'))\n",
    "print(reg.stem('management'))\n",
    "print(reg.stem('playing'))\n",
    "print(reg.stem('flawless'))"
   ]
  },
  {
   "cell_type": "code",
   "execution_count": 20,
   "id": "8d139410-63d6-4b5f-b33e-e28c1aa55746",
   "metadata": {},
   "outputs": [
    {
     "name": "stdout",
     "output_type": "stream",
     "text": [
      "car\n",
      "play\n",
      "comput\n",
      "manage\n",
      "play\n",
      "flaw\n"
     ]
    }
   ],
   "source": [
    "terms =['cars','playing','compute','management','playing','flawless']\n",
    "for i in terms:\n",
    "    print(reg.stem(i))"
   ]
  },
  {
   "cell_type": "code",
   "execution_count": null,
   "id": "e4c612fd-e32b-422c-b5c4-d47506181856",
   "metadata": {},
   "outputs": [],
   "source": []
  }
 ],
 "metadata": {
  "kernelspec": {
   "display_name": "Python 3 (ipykernel)",
   "language": "python",
   "name": "python3"
  },
  "language_info": {
   "codemirror_mode": {
    "name": "ipython",
    "version": 3
   },
   "file_extension": ".py",
   "mimetype": "text/x-python",
   "name": "python",
   "nbconvert_exporter": "python",
   "pygments_lexer": "ipython3",
   "version": "3.10.12"
  }
 },
 "nbformat": 4,
 "nbformat_minor": 5
}
