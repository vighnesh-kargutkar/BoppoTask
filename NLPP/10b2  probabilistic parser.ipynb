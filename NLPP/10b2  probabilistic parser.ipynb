{
 "cells": [
  {
   "cell_type": "code",
   "execution_count": 1,
   "id": "a2500719-1311-4935-b2bd-2769fce0b5c5",
   "metadata": {},
   "outputs": [],
   "source": [
    "import nltk \n",
    "from nltk import PCFG "
   ]
  },
  {
   "cell_type": "code",
   "execution_count": 2,
   "id": "61f7dec1-d59a-4d09-8086-fb3d5561280e",
   "metadata": {},
   "outputs": [],
   "source": [
    "grammar = PCFG.fromstring(''' \n",
    "NP -> NNS [0.5] | JJ NNS [0.3] | NP CC NP [0.2] \n",
    "NNS -> \"men\" [0.1] | \"women\" [0.2] | \"children\" [0.3] | NNS CC NNS [0.4] \n",
    "JJ -> \"old\" [0.4] | \"young\" [0.6] \n",
    "CC -> \"and\" [0.9] | \"or\" [0.1] \n",
    "''') "
   ]
  },
  {
   "cell_type": "code",
   "execution_count": 3,
   "id": "767ea010-2d3c-4ffd-983f-519e3b3defee",
   "metadata": {},
   "outputs": [
    {
     "name": "stdout",
     "output_type": "stream",
     "text": [
      "Grammar with 11 productions (start state = NP)\n",
      "    NP -> NNS [0.5]\n",
      "    NP -> JJ NNS [0.3]\n",
      "    NP -> NP CC NP [0.2]\n",
      "    NNS -> 'men' [0.1]\n",
      "    NNS -> 'women' [0.2]\n",
      "    NNS -> 'children' [0.3]\n",
      "    NNS -> NNS CC NNS [0.4]\n",
      "    JJ -> 'old' [0.4]\n",
      "    JJ -> 'young' [0.6]\n",
      "    CC -> 'and' [0.9]\n",
      "    CC -> 'or' [0.1]\n"
     ]
    }
   ],
   "source": [
    "print(grammar) \n",
    "viterbi_parser = nltk.ViterbiParser(grammar) \n",
    "token = \"old men and women\".split() \n",
    "obj = viterbi_parser.parse(token) "
   ]
  },
  {
   "cell_type": "code",
   "execution_count": 4,
   "id": "4cd9e789-84ee-4c15-aa7a-3ed4d5dc1dc4",
   "metadata": {},
   "outputs": [
    {
     "name": "stdout",
     "output_type": "stream",
     "text": [
      "Output: \n",
      "(NP (JJ old) (NNS (NNS men) (CC and) (NNS women))) (p=0.000864)\n"
     ]
    }
   ],
   "source": [
    "print(\"Output: \") \n",
    "for x in obj: \n",
    "    print(x) "
   ]
  },
  {
   "cell_type": "code",
   "execution_count": null,
   "id": "3e8a819c-27b1-44b4-931f-9daf40f8cbf9",
   "metadata": {},
   "outputs": [],
   "source": []
  }
 ],
 "metadata": {
  "kernelspec": {
   "display_name": "Python 3 (ipykernel)",
   "language": "python",
   "name": "python3"
  },
  "language_info": {
   "codemirror_mode": {
    "name": "ipython",
    "version": 3
   },
   "file_extension": ".py",
   "mimetype": "text/x-python",
   "name": "python",
   "nbconvert_exporter": "python",
   "pygments_lexer": "ipython3",
   "version": "3.10.12"
  }
 },
 "nbformat": 4,
 "nbformat_minor": 5
}
