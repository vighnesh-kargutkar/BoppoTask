{
 "cells": [
  {
   "cell_type": "code",
   "execution_count": 1,
   "id": "42ea3751-0e28-4c70-93a5-ad127f558277",
   "metadata": {},
   "outputs": [
    {
     "name": "stderr",
     "output_type": "stream",
     "text": [
      "[nltk_data] Downloading package wordnet to\n",
      "[nltk_data]     C:\\Users\\kargu\\AppData\\Roaming\\nltk_data...\n",
      "[nltk_data]   Package wordnet is already up-to-date!\n",
      "[nltk_data] Downloading package punkt to\n",
      "[nltk_data]     C:\\Users\\kargu\\AppData\\Roaming\\nltk_data...\n",
      "[nltk_data]   Package punkt is already up-to-date!\n"
     ]
    }
   ],
   "source": [
    "import nltk  \n",
    "# nltk.download('wordnet')  \n",
    "# nltk.download('punkt')  \n",
    "from nltk.tokenize import word_tokenize  \n",
    "from nltk.stem import WordNetLemmatizer  "
   ]
  },
  {
   "cell_type": "code",
   "execution_count": 3,
   "id": "f807a0fc-7588-430e-82b4-a6902a2e4270",
   "metadata": {},
   "outputs": [
    {
     "name": "stdout",
     "output_type": "stream",
     "text": [
      "corpus\n",
      "best\n",
      "goose\n",
      "foot\n",
      "cactus\n"
     ]
    }
   ],
   "source": [
    "wordnet = WordNetLemmatizer()  \n",
    "print(wordnet.lemmatize(\"corpora\"))  \n",
    "print(wordnet.lemmatize(\"best\"))  \n",
    "print(wordnet.lemmatize(\"geese\"))  \n",
    "print(wordnet.lemmatize(\"feet\"))  \n",
    "print(wordnet.lemmatize(\"cacti\"))  \n"
   ]
  },
  {
   "cell_type": "code",
   "execution_count": 4,
   "id": "0bb95127-e9a0-4f1a-9af3-9c16405874e8",
   "metadata": {},
   "outputs": [
    {
     "name": "stdout",
     "output_type": "stream",
     "text": [
      "\n",
      "Converting the sentence into a list of words\n",
      "['Heyaa', 'sid', ',', 'how', 'are', 'you', 'doing', '?', 'Keep', 'digging', 'in', 'for', 'the', 'sentences', 'to', 'observe', 'lemmatization', '!']\n",
      "\n",
      "After applying wordnet lemmatizer, the result is....\n",
      "Heyaa sid , how be you do ? Keep dig in for the sentence to observe lemmatization !\n"
     ]
    }
   ],
   "source": [
    "sentence = \"Heyaa sid, how are you doing? Keep digging in for the sentences to observe lemmatization!\"  \n",
    "# Tokenizing i.e. spliting the sentence into words  \n",
    "list_words = nltk.word_tokenize(sentence)  \n",
    "print(\"\\nConverting the sentence into a list of words\")  \n",
    "print(list_words)  \n",
    "# Lemmatize list of words and join  \n",
    "final = ' '.join([wordnet.lemmatize(each_word, pos = 'v') for each_word in list_words])  \n",
    "print(\"\\nAfter applying wordnet lemmatizer, the result is....\")  \n",
    "print(final) "
   ]
  },
  {
   "cell_type": "code",
   "execution_count": null,
   "id": "254a9ed8-1a49-483a-bfb6-4e1e887c1cb1",
   "metadata": {},
   "outputs": [],
   "source": []
  }
 ],
 "metadata": {
  "kernelspec": {
   "display_name": "Python 3 (ipykernel)",
   "language": "python",
   "name": "python3"
  },
  "language_info": {
   "codemirror_mode": {
    "name": "ipython",
    "version": 3
   },
   "file_extension": ".py",
   "mimetype": "text/x-python",
   "name": "python",
   "nbconvert_exporter": "python",
   "pygments_lexer": "ipython3",
   "version": "3.10.12"
  }
 },
 "nbformat": 4,
 "nbformat_minor": 5
}
