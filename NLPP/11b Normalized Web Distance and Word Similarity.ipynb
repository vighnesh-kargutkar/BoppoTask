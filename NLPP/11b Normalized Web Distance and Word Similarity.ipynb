{
 "cells": [
  {
   "cell_type": "code",
   "execution_count": 12,
   "id": "a46797c5-dba6-4580-8485-eddb53f2520a",
   "metadata": {},
   "outputs": [],
   "source": [
    "import numpy as np \n",
    "import re \n",
    "import textdistance \n",
    "# pip install textdistance \n",
    "# we will need scikit-learn>=0.21 \n",
    "import sklearn #pip install sklearn \n",
    "from sklearn.cluster import AgglomerativeClustering"
   ]
  },
  {
   "cell_type": "code",
   "execution_count": 13,
   "id": "26f58a53-234e-4196-9b32-e606af6ead13",
   "metadata": {},
   "outputs": [],
   "source": [
    "texts = [ \n",
    "'Reliance supermarket', 'Reliance hypermarket', 'Reliance', 'Reliance', 'Reliance downtown', 'Relianc market', \n",
    "'Mumbai', 'Mumbai Hyper', 'Mumbai dxb', 'mumbai airport',   \n",
    "'k.m trading', 'KM Trading', 'KM trade', 'K.M.  Trading', 'KM.Trading' \n",
    "] "
   ]
  },
  {
   "cell_type": "code",
   "execution_count": 14,
   "id": "fdc6bd1f-f5f4-4005-8e34-5f8f40e70e6e",
   "metadata": {},
   "outputs": [],
   "source": [
    "def normalize(text): \n",
    "    \"\"\" Keep only lower-cased text and numbers\"\"\" \n",
    "    return re.sub('[^a-z0-9]+', ' ', text.lower())"
   ]
  },
  {
   "cell_type": "code",
   "execution_count": 15,
   "id": "92605423-46ad-44c5-a94b-e807fc07c791",
   "metadata": {},
   "outputs": [],
   "source": [
    "def group_texts(texts, threshold=0.4):  \n",
    "    \"\"\" Replace each text with the representative of its cluster\"\"\" \n",
    "    normalized_texts = np.array([normalize(text) for text in texts]) \n",
    "    distances = 1 - np.array([ \n",
    "        [textdistance.jaro_winkler(one, another) for one in normalized_texts]  \n",
    "        for another in normalized_texts \n",
    "    ]) "
   ]
  },
  {
   "cell_type": "code",
   "execution_count": 19,
   "id": "74bfe08a-df12-400c-b673-6b0742e4840c",
   "metadata": {},
   "outputs": [
    {
     "ename": "NameError",
     "evalue": "name 'threshold' is not defined",
     "output_type": "error",
     "traceback": [
      "\u001b[1;31m---------------------------------------------------------------------------\u001b[0m",
      "\u001b[1;31mNameError\u001b[0m                                 Traceback (most recent call last)",
      "Cell \u001b[1;32mIn[19], line 1\u001b[0m\n\u001b[1;32m----> 1\u001b[0m clustering \u001b[38;5;241m=\u001b[39m AgglomerativeClustering( distance_threshold\u001b[38;5;241m=\u001b[39m\u001b[43mthreshold\u001b[49m,\n\u001b[0;32m      2\u001b[0m                                      affinity\u001b[38;5;241m=\u001b[39m\u001b[38;5;124m\"\u001b[39m\u001b[38;5;124mprecomputed\u001b[39m\u001b[38;5;124m\"\u001b[39m, linkage\u001b[38;5;241m=\u001b[39m\u001b[38;5;124m\"\u001b[39m\u001b[38;5;124mcomplete\u001b[39m\u001b[38;5;124m\"\u001b[39m, n_clusters\u001b[38;5;241m=\u001b[39m\u001b[38;5;28;01mNone\u001b[39;00m )\u001b[38;5;241m.\u001b[39mfit(distances) \n\u001b[0;32m      3\u001b[0m centers \u001b[38;5;241m=\u001b[39m \u001b[38;5;28mdict\u001b[39m() \n\u001b[0;32m      4\u001b[0m \u001b[38;5;28;01mfor\u001b[39;00m cluster_id \u001b[38;5;129;01min\u001b[39;00m \u001b[38;5;28mset\u001b[39m(clustering\u001b[38;5;241m.\u001b[39mlabels_): \n",
      "\u001b[1;31mNameError\u001b[0m: name 'threshold' is not defined"
     ]
    }
   ],
   "source": [
    "clustering = AgglomerativeClustering( distance_threshold=threshold,\n",
    "                                     affinity=\"precomputed\", linkage=\"complete\", n_clusters=None ).fit(distances) \n",
    "centers = dict() \n",
    "for cluster_id in set(clustering.labels_): \n",
    "    index = clustering.labels_ == cluster_id \n",
    "    centrality = distances[:, index][index].sum(axis=1) \n",
    "    centers[cluster_id] = normalized_texts[index][centrality.argmin()] \n",
    "    return [centers[i] for i in clustering.labels_] \n",
    "print(group_texts(texts))"
   ]
  },
  {
   "cell_type": "code",
   "execution_count": null,
   "id": "b8730714-a6c2-4189-967a-ed56400645e9",
   "metadata": {},
   "outputs": [],
   "source": []
  }
 ],
 "metadata": {
  "kernelspec": {
   "display_name": "Python 3 (ipykernel)",
   "language": "python",
   "name": "python3"
  },
  "language_info": {
   "codemirror_mode": {
    "name": "ipython",
    "version": 3
   },
   "file_extension": ".py",
   "mimetype": "text/x-python",
   "name": "python",
   "nbconvert_exporter": "python",
   "pygments_lexer": "ipython3",
   "version": "3.10.12"
  }
 },
 "nbformat": 4,
 "nbformat_minor": 5
}
