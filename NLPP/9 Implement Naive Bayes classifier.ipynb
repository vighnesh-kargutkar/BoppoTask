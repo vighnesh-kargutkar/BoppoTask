{
 "cells": [
  {
   "cell_type": "code",
   "execution_count": 3,
   "id": "282f5a97-3695-4cfa-968f-a26b6f02744d",
   "metadata": {},
   "outputs": [
    {
     "name": "stdout",
     "output_type": "stream",
     "text": [
      "\n",
      "Features of breastcancer dataset :  ['mean radius' 'mean texture' 'mean perimeter' 'mean area'\n",
      " 'mean smoothness' 'mean compactness' 'mean concavity'\n",
      " 'mean concave points' 'mean symmetry' 'mean fractal dimension'\n",
      " 'radius error' 'texture error' 'perimeter error' 'area error'\n",
      " 'smoothness error' 'compactness error' 'concavity error'\n",
      " 'concave points error' 'symmetry error' 'fractal dimension error'\n",
      " 'worst radius' 'worst texture' 'worst perimeter' 'worst area'\n",
      " 'worst smoothness' 'worst compactness' 'worst concavity'\n",
      " 'worst concave points' 'worst symmetry' 'worst fractal dimension']\n",
      "\n",
      "Labels of breastcancer dataset :  ['malignant' 'benign']\n",
      "\n",
      "Shape of breastcancer dataset :  (569, 30)\n",
      "\n",
      "----------------------------------------------------------------------------------\n",
      "\n",
      "Classification Report gaussian : \n",
      "               precision    recall  f1-score   support\n",
      "\n",
      "           0       0.91      0.91      0.91        47\n",
      "           1       0.94      0.94      0.94        67\n",
      "\n",
      "    accuracy                           0.93       114\n",
      "   macro avg       0.93      0.93      0.93       114\n",
      "weighted avg       0.93      0.93      0.93       114\n",
      "\n",
      "\n",
      "Confusion matrix gaussian : \n",
      " [[43  4]\n",
      " [ 4 63]]\n",
      "\n",
      "Accuracy :  92.98245614035088\n"
     ]
    }
   ],
   "source": [
    "import sklearn\n",
    "from sklearn import datasets\n",
    "from sklearn.model_selection import train_test_split\n",
    "from sklearn.naive_bayes import GaussianNB, MultinomialNB\n",
    "from sklearn.metrics import classification_report, confusion_matrix, accuracy_score\n",
    "breastcancer = datasets.load_breast_cancer()\n",
    "print(\"\\nFeatures of breastcancer dataset : \", breastcancer.feature_names)\n",
    "print(\"\\nLabels of breastcancer dataset : \", breastcancer.target_names)\n",
    "print(\"\\nShape of breastcancer dataset : \", breastcancer.data.shape)\n",
    "print(\"\\n----------------------------------------------------------------------------------\")\n",
    "R = breastcancer.data\n",
    "T = breastcancer.target\n",
    "# Splitting the dataset into training set and testing set\n",
    "Rtrain, Rtest, Ttrain, Ttest = train_test_split(R, T, test_size = 0.2, random_state = 0)\n",
    "# 1. Using the Gaussian Naive Bayes Classifier\n",
    "gauss = GaussianNB()\n",
    "# Training the Gaussian Naive Bayes model using training set\n",
    "gauss.fit(Rtrain,Ttrain)\n",
    "# Making predictions using the test set\n",
    "pred = gauss.predict(Rtest)\n",
    "# Generating classification report of the Gaussian Naive Bayes Model\n",
    "gcr = classification_report(Ttest,pred)\n",
    "print(\"\\nClassification Report gaussian : \\n\", gcr)\n",
    "# Generating confusion matrix of the Gaussian Naive Bayes Model\n",
    "gcm = confusion_matrix(Ttest, pred)\n",
    "print(\"\\nConfusion matrix gaussian : \\n\", gcm)\n",
    "# Evaluating the naive bayes classifier on the basis of accuracy metric\n",
    "accuracy = accuracy_score(Ttest, pred)\n",
    "print(\"\\nAccuracy : \", accuracy * 100)"
   ]
  },
  {
   "cell_type": "code",
   "execution_count": null,
   "id": "109f896a-2811-4d66-8acc-061a7b2ffea7",
   "metadata": {},
   "outputs": [],
   "source": []
  }
 ],
 "metadata": {
  "kernelspec": {
   "display_name": "Python 3 (ipykernel)",
   "language": "python",
   "name": "python3"
  },
  "language_info": {
   "codemirror_mode": {
    "name": "ipython",
    "version": 3
   },
   "file_extension": ".py",
   "mimetype": "text/x-python",
   "name": "python",
   "nbconvert_exporter": "python",
   "pygments_lexer": "ipython3",
   "version": "3.10.12"
  }
 },
 "nbformat": 4,
 "nbformat_minor": 5
}
