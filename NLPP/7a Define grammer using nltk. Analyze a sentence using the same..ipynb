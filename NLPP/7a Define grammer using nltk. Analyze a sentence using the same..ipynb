{
 "cells": [
  {
   "cell_type": "code",
   "execution_count": 1,
   "id": "56b765f3-055f-4419-a660-9d51cfb3ff9e",
   "metadata": {},
   "outputs": [],
   "source": [
    "import nltk\n",
    "from nltk import tokenize"
   ]
  },
  {
   "cell_type": "code",
   "execution_count": 2,
   "id": "5cb00b70-752b-41af-83e5-e01c05bf8c99",
   "metadata": {},
   "outputs": [],
   "source": [
    "grammar1 = nltk.CFG.fromstring(\"\"\"  \n",
    "    S -> VP  \n",
    "    VP -> VP NP  \n",
    "    NP -> Det  NP  \n",
    "    Det -> 'that'  \n",
    "    NP -> singular Noun  \n",
    "    NP -> 'flight'  \n",
    "    VP -> 'Book'    \n",
    "    \"\"\") "
   ]
  },
  {
   "cell_type": "code",
   "execution_count": 3,
   "id": "18961168-ddbf-4e8b-8590-9c5c9974b1e6",
   "metadata": {},
   "outputs": [],
   "source": [
    "sentence = \"Book that flight\""
   ]
  },
  {
   "cell_type": "code",
   "execution_count": 4,
   "id": "6f957814-a86b-4f07-9d24-a625bb609279",
   "metadata": {},
   "outputs": [
    {
     "name": "stdout",
     "output_type": "stream",
     "text": [
      "['Book', 'that', 'flight']\n"
     ]
    }
   ],
   "source": [
    "all_token=tokenize.word_tokenize(sentence)\n",
    "print(all_token)"
   ]
  },
  {
   "cell_type": "code",
   "execution_count": 5,
   "id": "fb6ebd1f-7b6c-47a9-9da5-38ac1605d211",
   "metadata": {},
   "outputs": [],
   "source": [
    "parder = nltk.ChartParser(grammar1)"
   ]
  },
  {
   "cell_type": "code",
   "execution_count": 6,
   "id": "99b7e41c-8da9-4495-a3c9-cc67f5a4a639",
   "metadata": {},
   "outputs": [
    {
     "name": "stdout",
     "output_type": "stream",
     "text": [
      "(S (VP (VP Book) (NP (Det that) (NP flight))))\n"
     ]
    }
   ],
   "source": [
    "for tree in parder.parse(all_token):\n",
    "    print(tree)"
   ]
  },
  {
   "cell_type": "code",
   "execution_count": 7,
   "id": "2c0bffb8-9777-40c0-9f95-85162f801e1c",
   "metadata": {},
   "outputs": [],
   "source": [
    "tree.draw()"
   ]
  },
  {
   "cell_type": "code",
   "execution_count": null,
   "id": "b4e6a3b6-ce7f-40bf-8219-46f8c2f4e2ec",
   "metadata": {},
   "outputs": [],
   "source": []
  }
 ],
 "metadata": {
  "kernelspec": {
   "display_name": "Python 3 (ipykernel)",
   "language": "python",
   "name": "python3"
  },
  "language_info": {
   "codemirror_mode": {
    "name": "ipython",
    "version": 3
   },
   "file_extension": ".py",
   "mimetype": "text/x-python",
   "name": "python",
   "nbconvert_exporter": "python",
   "pygments_lexer": "ipython3",
   "version": "3.10.12"
  }
 },
 "nbformat": 4,
 "nbformat_minor": 5
}
