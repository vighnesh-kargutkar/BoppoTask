{
 "cells": [
  {
   "cell_type": "code",
   "execution_count": 1,
   "id": "d406f2a8",
   "metadata": {},
   "outputs": [
    {
     "name": "stdout",
     "output_type": "stream",
     "text": [
      "['Yashesh', 'likes', 'play', 'football', ',', 'fond', 'tennis', '.']\n",
      "['Yashesh', 'likes', 'football', ',', 'however', 'fond', 'tennis', '.']\n",
      "['Yashesh', 'likes', 'football', ',', 'however', 'not', 'fond', 'tennis', '.']\n"
     ]
    }
   ],
   "source": [
    "import nltk \n",
    "from nltk.corpus import stopwords \n",
    "#ltk.download('stopwords') \n",
    "from nltk.tokenize import word_tokenize \n",
    "\n",
    "text = \"Yashesh likes to play football, however he is not too fond of tennis.\" \n",
    "text_tokens = word_tokenize(text) \n",
    "\n",
    "tokens_without_sw = [word for word in text_tokens if not word in \n",
    "stopwords.words()] \n",
    "\n",
    "print(tokens_without_sw)  \n",
    "\n",
    "#add the word play to the NLTK stop word collection \n",
    "all_stopwords = stopwords.words('english') \n",
    "all_stopwords.append('play') \n",
    "\n",
    "text_tokens = word_tokenize(text) \n",
    "tokens_without_sw = [word for word in text_tokens if not word in all_stopwords] \n",
    "\n",
    "print(tokens_without_sw) \n",
    "\n",
    "all_stopwords.remove('not') \n",
    "text_tokens = word_tokenize(text) \n",
    "tokens_without_sw = [word for word in text_tokens if not word in all_stopwords] \n",
    "print(tokens_without_sw) "
   ]
  },
  {
   "cell_type": "code",
   "execution_count": 2,
   "id": "3ada4918",
   "metadata": {},
   "outputs": [
    {
     "name": "stdout",
     "output_type": "stream",
     "text": [
      "Yashesh likes play football, fond tennis.\n",
      "frozenset({'thus', 'afterwards', 'in', 'few', 'sometime', 'everywhere', 'own', 'cannot', 'eight', 'km', 'on', 'thence', 'third', 'no', 'someone', 'couldnt', 'namely', 'more', 'everything', 'thereby', 'would', 'doesn', 'behind', 'until', 'are', 'others', 'give', 'do', 'doing', 'be', 'thereupon', 'co', 'interest', 'it', 'ten', 'via', 'below', 'last', 'using', 'this', 'amongst', 'most', 'go', 'something', 'before', 'mill', 'otherwise', 'whereby', 'bill', 'wherever', 'ie', 'cry', 'myself', 'yourselves', 'between', 'that', 'towards', 'whither', 'empty', 'along', 'across', 'since', 'anyone', 'herself', 'once', 'his', 'seems', 'noone', 'through', 'sometimes', 'become', 'whence', 'least', 'back', 'mine', 'if', 'had', 'two', 'did', 'why', 'mostly', 'beside', 'only', 'which', 'alone', 'of', 'somehow', 'here', 'have', 'into', 'whole', 'found', 'system', 'you', 'therefore', 'ltd', 'each', 'latter', 'already', 'really', 'was', 'move', 'please', 'seeming', 'never', 'front', 'my', 'cant', 'ours', 'many', 'make', 'yourself', 'him', 'there', 'though', 'and', 'whoever', 'due', 'me', 'just', 'throughout', 'around', 'nevertheless', 'becoming', 'formerly', 'the', 'always', 'under', 'used', 'eg', 'again', 'i', 'describe', 'serious', 'he', 'yours', 'who', 'by', 'becomes', 'now', 'nine', 'six', 'onto', 'fire', 'were', 'well', 'does', 'part', 'both', 'may', 'about', 'don', 'toward', 'find', 'eleven', 'whereafter', 'however', 'seem', 'moreover', 'etc', 'amount', 'hereupon', 'anywhere', 'to', 'first', 'neither', 'off', 'nor', 'another', 'those', 'latterly', 'our', 'nothing', 'four', 'beforehand', 'will', 'himself', 'hereafter', 'themselves', 'with', 'whatever', 'same', 'up', 'how', 'all', 'where', 'also', 'because', 'what', 'thru', 'such', 'almost', 'forty', 'hers', 'them', 'ourselves', 'computer', 'whereupon', 'its', 'often', 'every', 'hence', 'less', 'hereby', 'might', 'or', 'various', 'three', 'except', 'fifteen', 'is', 'became', 'am', 'former', 'as', 'we', 'unless', 'been', 'should', 'then', 'kg', 'per', 'either', 'her', 'an', 'when', 'anyway', 'during', 'above', 'one', 'wherein', 'at', 'sixty', 'elsewhere', 'seemed', 'made', 'call', 'while', 'show', 'see', 'very', 'us', 'your', 'nobody', 'but', 'twelve', 'sincere', 'top', 'besides', 'beyond', 'bottom', 'these', 'anything', 'much', 'from', 'for', 'they', 'being', 'detail', 'thin', 'side', 'upon', 'can', 'thick', 'some', 'over', 'take', 'herein', 'together', 'whereas', 'somewhere', 'keep', 'everyone', 'say', 'fifty', 'next', 'a', 'even', 'although', 'other', 'hasnt', 'didn', 'nowhere', 'against', 'after', 'amoungst', 'un', 'yet', 'name', 'regarding', 'quite', 'five', 'not', 'indeed', 'must', 'done', 'their', 'anyhow', 'get', 'could', 'down', 'inc', 'among', 'so', 'fill', 'too', 're', 'has', 'hundred', 'any', 'ever', 'whether', 'whom', 'twenty', 'put', 'thereafter', 'she', 'perhaps', 'whose', 'still', 'without', 'therein', 'itself', 'full', 'within', 'none', 'else', 'meanwhile', 'several', 'rather', 'de', 'enough', 'whenever', 'further', 'than', 'out', 'con'})\n",
      "['Yashesh', 'football', ',', 'fond', 'tennis', '.']\n",
      "['Yashesh', 'likes', 'play', 'football', ',', 'not', 'fond', 'tennis', '.']\n"
     ]
    }
   ],
   "source": [
    "#pip install gensim \n",
    "import gensim \n",
    "from gensim.parsing.preprocessing import remove_stopwords \n",
    "\n",
    "text = \"Yashesh likes to play football, however he is not too fond of tennis.\" \n",
    "filtered_sentence = remove_stopwords(text) \n",
    "\n",
    "print(filtered_sentence) \n",
    "\n",
    "all_stopwords = gensim.parsing.preprocessing.STOPWORDS \n",
    "\n",
    "print(all_stopwords) \n",
    "\n",
    "from gensim.parsing.preprocessing import STOPWORDS \n",
    "\n",
    "all_stopwords_gensim = STOPWORDS.union(set(['likes', 'play'])) \n",
    "\n",
    "text = \"Yashesh likes to play football, however he is not too fond of tennis.\" \n",
    "text_tokens = word_tokenize(text) \n",
    "\n",
    "tokens_without_sw = [word for word in text_tokens if not word in \n",
    "all_stopwords_gensim] \n",
    "\n",
    "print(tokens_without_sw)  \n",
    "'''Output: \n",
    "['Yashesh', 'football', ',', 'fond', 'tennis', '.'] \n",
    "The following script removes the word \"not\" from the set of stop words in \n",
    "Gensim:''' \n",
    "\n",
    "from gensim.parsing.preprocessing import STOPWORDS \n",
    "all_stopwords_gensim = STOPWORDS \n",
    "sw_list = {\"not\"} \n",
    "all_stopwords_gensim = STOPWORDS.difference(sw_list) \n",
    "text = \"Yashesh likes to play football, however he is not too fond of tennis.\" \n",
    "text_tokens = word_tokenize(text) \n",
    "tokens_without_sw = [word for word in text_tokens if not word in \n",
    "all_stopwords_gensim] \n",
    "print(tokens_without_sw) "
   ]
  },
  {
   "cell_type": "code",
   "execution_count": 3,
   "id": "dc30405a",
   "metadata": {},
   "outputs": [
    {
     "name": "stdout",
     "output_type": "stream",
     "text": [
      "['Yashesh', 'likes', 'football', ',', 'fond', 'tennis', '.']\n",
      "['Yashesh', 'likes', 'football', ',', 'not', 'fond', 'tennis', '.']\n"
     ]
    }
   ],
   "source": [
    "#pip install spacy \n",
    "#python -m spacy download en_core_web_sm \n",
    "#python -m spacy download en \n",
    "import spacy \n",
    "import nltk \n",
    "from nltk.tokenize import word_tokenize \n",
    "sp = spacy.load('en_core_web_sm') \n",
    "#add the word play to the NLTK stop word collection \n",
    "all_stopwords = sp.Defaults.stop_words \n",
    "all_stopwords.add(\"play\") \n",
    "text = \"Yashesh likes to play football, however he is not too fond of tennis.\" \n",
    "text_tokens = word_tokenize(text) \n",
    "tokens_without_sw = [word for word in text_tokens if not word in all_stopwords] \n",
    "print(tokens_without_sw) \n",
    "#remove 'not' from stop word collection \n",
    "all_stopwords.remove('not') \n",
    "tokens_without_sw = [word for word in text_tokens if not word in all_stopwords] \n",
    "print(tokens_without_sw) "
   ]
  },
  {
   "cell_type": "code",
   "execution_count": null,
   "id": "bd962a29",
   "metadata": {},
   "outputs": [],
   "source": []
  }
 ],
 "metadata": {
  "kernelspec": {
   "display_name": "Python 3 (ipykernel)",
   "language": "python",
   "name": "python3"
  },
  "language_info": {
   "codemirror_mode": {
    "name": "ipython",
    "version": 3
   },
   "file_extension": ".py",
   "mimetype": "text/x-python",
   "name": "python",
   "nbconvert_exporter": "python",
   "pygments_lexer": "ipython3",
   "version": "3.11.5"
  }
 },
 "nbformat": 4,
 "nbformat_minor": 5
}
