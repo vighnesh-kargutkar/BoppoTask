{
 "cells": [
  {
   "cell_type": "code",
   "execution_count": 11,
   "id": "348adce4",
   "metadata": {},
   "outputs": [],
   "source": [
    "import nltk\n",
    "import numpy as np\n",
    "import re\n",
    "from sklearn.datasets import load_files\n",
    "import pickle\n",
    "from nltk.corpus import stopwords"
   ]
  },
  {
   "cell_type": "code",
   "execution_count": 6,
   "id": "d1e98496",
   "metadata": {},
   "outputs": [],
   "source": [
    "#nltk.download('wordnet')\n",
    "#nltk.download('omw-1.4')\n",
    "#nltk.download('stopwords')"
   ]
  },
  {
   "cell_type": "code",
   "execution_count": 7,
   "id": "e2055c20",
   "metadata": {},
   "outputs": [],
   "source": [
    "movie_data = load_files(r\"txt_sentoken\")"
   ]
  },
  {
   "cell_type": "code",
   "execution_count": 8,
   "id": "a5acdfe1",
   "metadata": {},
   "outputs": [],
   "source": [
    "x=movie_data.data\n",
    "y=movie_data.target"
   ]
  },
  {
   "cell_type": "code",
   "execution_count": 36,
   "id": "19be6715",
   "metadata": {},
   "outputs": [],
   "source": [
    "documents=[]\n",
    "from nltk.stem import WordNetLemmatizer"
   ]
  },
  {
   "cell_type": "code",
   "execution_count": 37,
   "id": "945420a4",
   "metadata": {},
   "outputs": [],
   "source": [
    "stemmer = WordNetLemmatizer()"
   ]
  },
  {
   "cell_type": "code",
   "execution_count": 38,
   "id": "f1e400fb",
   "metadata": {},
   "outputs": [],
   "source": [
    "for i in range(len(x)):\n",
    "    \n",
    "    document=re.sub(r'\\W',' ',str(x[i]))\n",
    "    document=re.sub(r'\\s+[a-zA-Z]\\s+',' ',document)\n",
    "    document=re.sub(r'\\^[a-zA-Z]\\s+',' ',document)\n",
    "    document=re.sub(r'\\s+',' ',document,flags=re.I)\n",
    "    document=re.sub(r'^b\\s+','',document)\n",
    "    document = document.lower()\n",
    "    document = document.split()\n",
    "    document = [stemmer.lemmatize(word) for word in document]\n",
    "    document = ' '.join(document)\n",
    "    documents.append(document)"
   ]
  },
  {
   "cell_type": "code",
   "execution_count": null,
   "id": "423ba6c0",
   "metadata": {},
   "outputs": [],
   "source": []
  },
  {
   "cell_type": "code",
   "execution_count": null,
   "id": "700a8062",
   "metadata": {},
   "outputs": [],
   "source": []
  }
 ],
 "metadata": {
  "kernelspec": {
   "display_name": "Python 3 (ipykernel)",
   "language": "python",
   "name": "python3"
  },
  "language_info": {
   "codemirror_mode": {
    "name": "ipython",
    "version": 3
   },
   "file_extension": ".py",
   "mimetype": "text/x-python",
   "name": "python",
   "nbconvert_exporter": "python",
   "pygments_lexer": "ipython3",
   "version": "3.11.5"
  }
 },
 "nbformat": 4,
 "nbformat_minor": 5
}
