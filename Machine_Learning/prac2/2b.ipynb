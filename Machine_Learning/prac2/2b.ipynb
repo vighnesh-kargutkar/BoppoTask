{
 "cells": [
  {
   "cell_type": "code",
   "execution_count": null,
   "id": "b4c7827d",
   "metadata": {},
   "outputs": [],
   "source": [
    "import csv\n",
    "\n",
    "with open(\"trainingexamples.csv\") as f:\n",
    "    csv_file = csv.reader(f)\n",
    "    data = list(csv_file)\n",
    "\n",
    "    specific = data[1][:-1]\n",
    "    general = [['?' for i in range(len(specific))] for j in range(len(specific))]\n",
    "\n",
    "    for i in data:\n",
    "        if i[-1] == \"Yes\":\n",
    "            for j in range(len(specific)):\n",
    "                if i[j] != specific[j]:\n",
    "                    specific[j] = \"?\"\n",
    "                    general[j][j] = \"?\"\n",
    "\n",
    "        elif i[-1] == \"No\":\n",
    "            for j in range(len(specific)):\n",
    "                if i[j] != specific[j]:\n",
    "                    general[j][j] = specific[j]\n",
    "                else:\n",
    "                    general[j][j] = \"?\"\n",
    "\n",
    "        print(\"\\nStep \" + str(data.index(i)+1) + \" of Candidate Elimination Algorithm\")\n",
    "        print(specific)\n",
    "        print(general)\n",
    "\n",
    "    gh = [] # gh = general Hypothesis\n",
    "    for i in general:\n",
    "        for j in i:\n",
    "            if j != '?':\n",
    "                gh.append(i)\n",
    "                break\n",
    "    print(\"\\nFinal Specific hypothesis:\\n\", specific)\n",
    "    print(\"\\nFinal General hypothesis:\\n\", gh)"
   ]
  }
 ],
 "metadata": {
  "kernelspec": {
   "display_name": "Python 3 (ipykernel)",
   "language": "python",
   "name": "python3"
  },
  "language_info": {
   "codemirror_mode": {
    "name": "ipython",
    "version": 3
   },
   "file_extension": ".py",
   "mimetype": "text/x-python",
   "name": "python",
   "nbconvert_exporter": "python",
   "pygments_lexer": "ipython3",
   "version": "3.11.5"
  }
 },
 "nbformat": 4,
 "nbformat_minor": 5
}
