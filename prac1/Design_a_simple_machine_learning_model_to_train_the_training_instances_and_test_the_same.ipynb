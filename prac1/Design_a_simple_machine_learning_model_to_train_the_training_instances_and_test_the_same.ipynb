{
 "cells": [
  {
   "cell_type": "markdown",
   "metadata": {
    "id": "EllX1fODdssB"
   },
   "source": [
    "1. a. Design a simple machine learning model to train the training instances and test the same.\n",
    "\n",
    "\n"
   ]
  },
  {
   "cell_type": "code",
   "execution_count": 1,
   "metadata": {
    "id": "a4qUdODXdq9E"
   },
   "outputs": [],
   "source": [
    "# Generating the Training Set\n",
    "\n",
    "# python library to generate random numbers\n",
    "from random import randint\n",
    "\n",
    "# the limit within which random numbers are generated\n",
    "TRAIN_SET_LIMIT = 1000\n",
    "\n",
    "# to create exactly 100 data items\n",
    "TRAIN_SET_COUNT = 100\n",
    "\n",
    "# list that contains input and corresponding output\n",
    "TRAIN_INPUT = list()\n",
    "TRAIN_OUTPUT = list()\n"
   ]
  },
  {
   "cell_type": "code",
   "execution_count": 2,
   "metadata": {
    "id": "l1xkj8NieCtE"
   },
   "outputs": [],
   "source": [
    "# loop to create 100 data items with three columns each\n",
    "for i in range(TRAIN_SET_COUNT):\n",
    "\ta = randint(0, TRAIN_SET_LIMIT)\n",
    "\tb = randint(0, TRAIN_SET_LIMIT)\n",
    "\tc = randint(0, TRAIN_SET_LIMIT)\n",
    "\n",
    "# creating the output for each data item\n",
    "\top = a + (2 * b) + (3 * c)\n",
    "\tTRAIN_INPUT.append([a, b, c])\n",
    "\n",
    "# adding each output to output list\n",
    "\tTRAIN_OUTPUT.append(op)"
   ]
  },
  {
   "cell_type": "code",
   "execution_count": 3,
   "metadata": {
    "colab": {
     "base_uri": "https://localhost:8080/"
    },
    "id": "1iGhIt5UeHs5",
    "outputId": "db84037c-856b-4b21-852c-e2737a3a0a70"
   },
   "outputs": [
    {
     "data": {
      "text/plain": [
       "[4223, 1297, 3745, 2522, 3092, 2027, 2526, 3193, 2807, 2265]"
      ]
     },
     "execution_count": 3,
     "metadata": {},
     "output_type": "execute_result"
    }
   ],
   "source": [
    "# printing first 10 records \n",
    "TRAIN_OUTPUT[:10]"
   ]
  },
  {
   "cell_type": "code",
   "execution_count": 4,
   "metadata": {
    "colab": {
     "base_uri": "https://localhost:8080/"
    },
    "id": "DNNn_FnaeIsz",
    "outputId": "d38281cb-eff3-48b0-be3b-e22da3a1986e"
   },
   "outputs": [
    {
     "data": {
      "text/plain": [
       "[[828, 619, 719],\n",
       " [291, 398, 70],\n",
       " [868, 501, 625],\n",
       " [492, 34, 654],\n",
       " [578, 12, 830],\n",
       " [206, 900, 7],\n",
       " [862, 823, 6],\n",
       " [964, 996, 79],\n",
       " [226, 305, 657],\n",
       " [824, 302, 279]]"
      ]
     },
     "execution_count": 4,
     "metadata": {},
     "output_type": "execute_result"
    }
   ],
   "source": [
    "# printing first 10 records\n",
    "TRAIN_INPUT[:10]"
   ]
  },
  {
   "cell_type": "markdown",
   "metadata": {
    "id": "E_RNnE_NfM--"
   },
   "source": [
    "The Model can be created in two steps:-\n",
    "\n",
    "1. Training the model with Training Data\n",
    "\n",
    "2. Testing the model with Test Data"
   ]
  },
  {
   "cell_type": "code",
   "execution_count": 5,
   "metadata": {
    "colab": {
     "base_uri": "https://localhost:8080/"
    },
    "id": "7ZPVBdsaedmO",
    "outputId": "2868f3a0-9007-4d90-f317-f13f235538bc"
   },
   "outputs": [
    {
     "data": {
      "text/html": [
       "<style>#sk-container-id-1 {color: black;}#sk-container-id-1 pre{padding: 0;}#sk-container-id-1 div.sk-toggleable {background-color: white;}#sk-container-id-1 label.sk-toggleable__label {cursor: pointer;display: block;width: 100%;margin-bottom: 0;padding: 0.3em;box-sizing: border-box;text-align: center;}#sk-container-id-1 label.sk-toggleable__label-arrow:before {content: \"▸\";float: left;margin-right: 0.25em;color: #696969;}#sk-container-id-1 label.sk-toggleable__label-arrow:hover:before {color: black;}#sk-container-id-1 div.sk-estimator:hover label.sk-toggleable__label-arrow:before {color: black;}#sk-container-id-1 div.sk-toggleable__content {max-height: 0;max-width: 0;overflow: hidden;text-align: left;background-color: #f0f8ff;}#sk-container-id-1 div.sk-toggleable__content pre {margin: 0.2em;color: black;border-radius: 0.25em;background-color: #f0f8ff;}#sk-container-id-1 input.sk-toggleable__control:checked~div.sk-toggleable__content {max-height: 200px;max-width: 100%;overflow: auto;}#sk-container-id-1 input.sk-toggleable__control:checked~label.sk-toggleable__label-arrow:before {content: \"▾\";}#sk-container-id-1 div.sk-estimator input.sk-toggleable__control:checked~label.sk-toggleable__label {background-color: #d4ebff;}#sk-container-id-1 div.sk-label input.sk-toggleable__control:checked~label.sk-toggleable__label {background-color: #d4ebff;}#sk-container-id-1 input.sk-hidden--visually {border: 0;clip: rect(1px 1px 1px 1px);clip: rect(1px, 1px, 1px, 1px);height: 1px;margin: -1px;overflow: hidden;padding: 0;position: absolute;width: 1px;}#sk-container-id-1 div.sk-estimator {font-family: monospace;background-color: #f0f8ff;border: 1px dotted black;border-radius: 0.25em;box-sizing: border-box;margin-bottom: 0.5em;}#sk-container-id-1 div.sk-estimator:hover {background-color: #d4ebff;}#sk-container-id-1 div.sk-parallel-item::after {content: \"\";width: 100%;border-bottom: 1px solid gray;flex-grow: 1;}#sk-container-id-1 div.sk-label:hover label.sk-toggleable__label {background-color: #d4ebff;}#sk-container-id-1 div.sk-serial::before {content: \"\";position: absolute;border-left: 1px solid gray;box-sizing: border-box;top: 0;bottom: 0;left: 50%;z-index: 0;}#sk-container-id-1 div.sk-serial {display: flex;flex-direction: column;align-items: center;background-color: white;padding-right: 0.2em;padding-left: 0.2em;position: relative;}#sk-container-id-1 div.sk-item {position: relative;z-index: 1;}#sk-container-id-1 div.sk-parallel {display: flex;align-items: stretch;justify-content: center;background-color: white;position: relative;}#sk-container-id-1 div.sk-item::before, #sk-container-id-1 div.sk-parallel-item::before {content: \"\";position: absolute;border-left: 1px solid gray;box-sizing: border-box;top: 0;bottom: 0;left: 50%;z-index: -1;}#sk-container-id-1 div.sk-parallel-item {display: flex;flex-direction: column;z-index: 1;position: relative;background-color: white;}#sk-container-id-1 div.sk-parallel-item:first-child::after {align-self: flex-end;width: 50%;}#sk-container-id-1 div.sk-parallel-item:last-child::after {align-self: flex-start;width: 50%;}#sk-container-id-1 div.sk-parallel-item:only-child::after {width: 0;}#sk-container-id-1 div.sk-dashed-wrapped {border: 1px dashed gray;margin: 0 0.4em 0.5em 0.4em;box-sizing: border-box;padding-bottom: 0.4em;background-color: white;}#sk-container-id-1 div.sk-label label {font-family: monospace;font-weight: bold;display: inline-block;line-height: 1.2em;}#sk-container-id-1 div.sk-label-container {text-align: center;}#sk-container-id-1 div.sk-container {/* jupyter's `normalize.less` sets `[hidden] { display: none; }` but bootstrap.min.css set `[hidden] { display: none !important; }` so we also need the `!important` here to be able to override the default hidden behavior on the sphinx rendered scikit-learn.org. See: https://github.com/scikit-learn/scikit-learn/issues/21755 */display: inline-block !important;position: relative;}#sk-container-id-1 div.sk-text-repr-fallback {display: none;}</style><div id=\"sk-container-id-1\" class=\"sk-top-container\"><div class=\"sk-text-repr-fallback\"><pre>LinearRegression(n_jobs=-1)</pre><b>In a Jupyter environment, please rerun this cell to show the HTML representation or trust the notebook. <br />On GitHub, the HTML representation is unable to render, please try loading this page with nbviewer.org.</b></div><div class=\"sk-container\" hidden><div class=\"sk-item\"><div class=\"sk-estimator sk-toggleable\"><input class=\"sk-toggleable__control sk-hidden--visually\" id=\"sk-estimator-id-1\" type=\"checkbox\" checked><label for=\"sk-estimator-id-1\" class=\"sk-toggleable__label sk-toggleable__label-arrow\">LinearRegression</label><div class=\"sk-toggleable__content\"><pre>LinearRegression(n_jobs=-1)</pre></div></div></div></div></div>"
      ],
      "text/plain": [
       "LinearRegression(n_jobs=-1)"
      ]
     },
     "execution_count": 5,
     "metadata": {},
     "output_type": "execute_result"
    }
   ],
   "source": [
    "# Training the Model\n",
    "# The data that was created using the above code is used to train the model\n",
    "\n",
    "# Sk-Learn contains the linear regression model\n",
    "from sklearn.linear_model import LinearRegression\n",
    "\n",
    "# Initialize the linear regression model\n",
    "predictor = LinearRegression(n_jobs =-1)\n",
    "\n",
    "# Fill the Model with the Data\n",
    "predictor.fit(X = TRAIN_INPUT, y = TRAIN_OUTPUT)\n"
   ]
  },
  {
   "cell_type": "markdown",
   "metadata": {
    "id": "9WOr-Xw4ffGl"
   },
   "source": [
    "Testing the Data\n",
    "\n",
    "The testing is done Manually. Testing can be done using some random data and testing if the model gives the correct result for the input data."
   ]
  },
  {
   "cell_type": "code",
   "execution_count": 6,
   "metadata": {
    "colab": {
     "base_uri": "https://localhost:8080/"
    },
    "id": "tLDpE3Rhfbcw",
    "outputId": "0ee29cd0-3dfd-4a93-e1bd-561567d616ca"
   },
   "outputs": [
    {
     "name": "stdout",
     "output_type": "stream",
     "text": [
      "Outcome : [140.]\n",
      "Coefficients : [1. 2. 3.]\n"
     ]
    }
   ],
   "source": [
    "# Random Test data\n",
    "X_TEST = [[ 10, 20, 30 ]]   #---> 10 + 20*2 + 30*3 = 140.\n",
    "\n",
    "# Predict the result of X_TEST which holds testing data\n",
    "outcome = predictor.predict(X = X_TEST)\n",
    "\n",
    "# Predict the coefficients\n",
    "coefficients = predictor.coef_\n",
    "\n",
    "# Print the result obtained for the test data\n",
    "print('Outcome : {}\\nCoefficients : {}'.format(outcome, coefficients))"
   ]
  }
 ],
 "metadata": {
  "colab": {
   "provenance": []
  },
  "kernelspec": {
   "display_name": "Python 3 (ipykernel)",
   "language": "python",
   "name": "python3"
  },
  "language_info": {
   "codemirror_mode": {
    "name": "ipython",
    "version": 3
   },
   "file_extension": ".py",
   "mimetype": "text/x-python",
   "name": "python",
   "nbconvert_exporter": "python",
   "pygments_lexer": "ipython3",
   "version": "3.11.5"
  }
 },
 "nbformat": 4,
 "nbformat_minor": 1
}
